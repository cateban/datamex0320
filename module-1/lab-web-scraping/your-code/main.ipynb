{
 "cells": [
  {
   "cell_type": "markdown",
   "metadata": {},
   "source": [
    "# Web Scraping Lab\n",
    "\n",
    "You will find in this notebook some scrapy exercises to practise your scraping skills.\n",
    "\n",
    "**Tips:**\n",
    "\n",
    "- Check the response status code for each request to ensure you have obtained the intended contennt.\n",
    "- Print the response text in each request to understand the kind of info you are getting and its format.\n",
    "- Check for patterns in the response text to extract the data/info requested in each question.\n",
    "- Visit each url and take a look at its source through Chrome DevTools. You'll need to identify the html tags, special class names etc. used for the html content you are expected to extract."
   ]
  },
  {
   "cell_type": "markdown",
   "metadata": {},
   "source": [
    "- [Requests library](http://docs.python-requests.org/en/master/#the-user-guide) documentation \n",
    "- [Beautiful Soup Doc](https://www.crummy.com/software/BeautifulSoup/bs4/doc/)\n",
    "- [Urllib](https://docs.python.org/3/library/urllib.html#module-urllib)\n",
    "- [re lib](https://docs.python.org/3/library/re.html)\n",
    "- [lxml lib](https://lxml.de/)\n",
    "- [Scrapy](https://scrapy.org/)\n",
    "- [List of HTTP status codes](https://en.wikipedia.org/wiki/List_of_HTTP_status_codes)\n",
    "- [HTML basics](http://www.simplehtmlguide.com/cheatsheet.php)\n",
    "- [CSS basics](https://www.cssbasics.com/#page_start)"
   ]
  },
  {
   "cell_type": "markdown",
   "metadata": {},
   "source": [
    "#### Below are the libraries and modules you may need. `requests`,  `BeautifulSoup` and `pandas` are imported for you. If you prefer to use additional libraries feel free to uncomment them."
   ]
  },
  {
   "cell_type": "code",
   "execution_count": 1,
   "metadata": {},
   "outputs": [],
   "source": [
    "import requests\n",
    "from bs4 import BeautifulSoup as bs\n",
    "import pandas as pd"
   ]
  },
  {
   "cell_type": "markdown",
   "metadata": {},
   "source": [
    "#### Download, parse (using BeautifulSoup), and print the content from the Trending Developers page from GitHub:"
   ]
  },
  {
   "cell_type": "code",
   "execution_count": 2,
   "metadata": {},
   "outputs": [],
   "source": [
    "# This is the url you will scrape in this exercise\n",
    "url = 'https://github.com/trending/developers'"
   ]
  },
  {
   "cell_type": "code",
   "execution_count": 3,
   "metadata": {},
   "outputs": [],
   "source": [
    "#your code\n",
    "resp = requests.get(url).content\n",
    "soup = bs(resp,'lxml')\n",
    "#soup"
   ]
  },
  {
   "cell_type": "markdown",
   "metadata": {},
   "source": [
    "#### Display the names of the trending developers retrieved in the previous step.\n",
    "\n",
    "Your output should be a Python list of developer names. Each name should not contain any html tag.\n",
    "\n",
    "**Instructions:**\n",
    "\n",
    "1. Find out the html tag and class names used for the developer names. You can achieve this using Chrome DevTools.\n",
    "\n",
    "1. Use BeautifulSoup to extract all the html elements that contain the developer names.\n",
    "\n",
    "1. Use string manipulation techniques to replace whitespaces and linebreaks (i.e. `\\n`) in the *text* of each html element. Use a list to store the clean names.\n",
    "\n",
    "1. Print the list of names."
   ]
  },
  {
   "cell_type": "code",
   "execution_count": 4,
   "metadata": {},
   "outputs": [],
   "source": [
    "devs = [e.text for e in soup.find_all('h1')] #trae todos los h1"
   ]
  },
  {
   "cell_type": "code",
   "execution_count": 5,
   "metadata": {},
   "outputs": [
    {
     "data": {
      "text/plain": [
       "['Manfred Touron',\n",
       " 'Jethro Kuan',\n",
       " 'chriseth',\n",
       " 'Hang Zhang',\n",
       " 'Tom Payne',\n",
       " 'Franck Nijhof',\n",
       " 'Mariusz Nowak',\n",
       " 'Sebastián Ramírez',\n",
       " 'Bryan Phelps',\n",
       " 'Stéphane Lepin',\n",
       " 'Wille Marcel',\n",
       " 'Arvid Norberg',\n",
       " 'Oleg Nenashev',\n",
       " 'Hadley Wickham',\n",
       " 'Troy Morehouse',\n",
       " 'Haz',\n",
       " 'Martin Atkins',\n",
       " 'hackerman',\n",
       " 'Bryan Liles',\n",
       " 'Daniel Imms',\n",
       " 'David Tolnay',\n",
       " 'Tomas Della Vedova',\n",
       " 'Alex Gaynor',\n",
       " \"Nick O'Leary\",\n",
       " 'Leonardo Uieda']"
      ]
     },
     "execution_count": 5,
     "metadata": {},
     "output_type": "execute_result"
    }
   ],
   "source": [
    "clean = [] \n",
    "\"\"\"el siguiente código sustituye saltos y le quita los espacios. Por último los appendea a la lista final\"\"\"\n",
    "\n",
    "\n",
    "for i in range(1,len(devs),2):\n",
    "    devs[i] = devs[i].replace('\\n','')\n",
    "    devs[i] = devs[i].strip()\n",
    "    clean.append(devs[i])\n",
    "    \n",
    "clean"
   ]
  },
  {
   "cell_type": "markdown",
   "metadata": {},
   "source": [
    "#### Display the trending Python repositories in GitHub\n",
    "\n",
    "The steps to solve this problem is similar to the previous one except that you need to find out the repository names instead of developer names."
   ]
  },
  {
   "cell_type": "code",
   "execution_count": 6,
   "metadata": {},
   "outputs": [],
   "source": [
    "# This is the url you will scrape in this exercise\n",
    "url = 'https://github.com/trending/python?since=daily'"
   ]
  },
  {
   "cell_type": "code",
   "execution_count": 7,
   "metadata": {},
   "outputs": [],
   "source": [
    "resp = requests.get(url).content\n",
    "soup = bs(resp,'lxml')\n",
    "repos = [e.text for e in soup.find_all('h1')]"
   ]
  },
  {
   "cell_type": "code",
   "execution_count": 8,
   "metadata": {},
   "outputs": [
    {
     "data": {
      "text/plain": [
       "['rojter-tech/pluradl.py',\n",
       " 'senguptaumd/Background-Matting',\n",
       " 'kivy/kivy',\n",
       " 'quantopian/zipline',\n",
       " 'iperov/DeepFaceLab',\n",
       " 'scikit-learn/scikit-learn',\n",
       " 'swisskyrepo/PayloadsAllTheThings',\n",
       " 'lyhue1991/eat_tensorflow2_in_30_days',\n",
       " 'PyTorchLightning/pytorch-lightning',\n",
       " 'Rapptz/discord.py',\n",
       " 'pcomputo/Whole-Foods-Delivery-Slot',\n",
       " 'd2l-ai/d2l-en',\n",
       " 'alex04072000/ObstructionRemoval',\n",
       " 'yenchenlin/nerf-pytorch',\n",
       " 'xingyizhou/CenterTrack',\n",
       " 'Azure/azure-cli',\n",
       " 'CharlesPikachu/Games',\n",
       " 'pyqtgraph/pyqtgraph',\n",
       " 'thepanacealab/covid19_twitter',\n",
       " 'qubvel/efficientnet',\n",
       " 'covid-projections/covid-data-model',\n",
       " 'Azure/azure-sdk-for-python',\n",
       " 'tagnullde/OSCP',\n",
       " 'CodeForPhilly/chime',\n",
       " 'microsoft/dowhy']"
      ]
     },
     "execution_count": 8,
     "metadata": {},
     "output_type": "execute_result"
    }
   ],
   "source": [
    "import re\n",
    "cleanrepos = []\n",
    "last = []\n",
    "\n",
    "\n",
    "for i in range(1,len(repos)):\n",
    "    repos[i] = repos[i].replace('\\n','')\n",
    "    repos[i] = repos[i].strip()\n",
    "    cleanrepos.append(repos[i])\n",
    "    \n",
    "#se utiliza regex para sustituir los espacios con nada. \n",
    "for e in cleanrepos:\n",
    "    e = re.sub(r\"\\s+\",\"\",e)\n",
    "    last.append(e)\n",
    "    \n",
    "last"
   ]
  },
  {
   "cell_type": "markdown",
   "metadata": {},
   "source": [
    "#### Display all the image links from Walt Disney wikipedia page"
   ]
  },
  {
   "cell_type": "code",
   "execution_count": 9,
   "metadata": {},
   "outputs": [],
   "source": [
    "# This is the url you will scrape in this exercise\n",
    "url = 'https://en.wikipedia.org/wiki/Walt_Disney'"
   ]
  },
  {
   "cell_type": "code",
   "execution_count": 10,
   "metadata": {},
   "outputs": [],
   "source": [
    "resp = requests.get(url).content\n",
    "soup = bs(resp,'lxml')\n",
    "disney = [e for e in soup.find_all('img')]"
   ]
  },
  {
   "cell_type": "code",
   "execution_count": 11,
   "metadata": {},
   "outputs": [
    {
     "data": {
      "text/plain": [
       "35"
      ]
     },
     "execution_count": 11,
     "metadata": {},
     "output_type": "execute_result"
    }
   ],
   "source": [
    "len(disney)"
   ]
  },
  {
   "cell_type": "code",
   "execution_count": 12,
   "metadata": {},
   "outputs": [
    {
     "data": {
      "text/plain": [
       "['//upload.wikimedia.org/wikipedia/en/thumb/e/e7/Cscr-featured.svg/20px-Cscr-featured.svg.png',\n",
       " '//upload.wikimedia.org/wikipedia/en/thumb/1/1b/Semi-protection-shackle.svg/20px-Semi-protection-shackle.svg.png',\n",
       " '//upload.wikimedia.org/wikipedia/commons/thumb/d/df/Walt_Disney_1946.JPG/220px-Walt_Disney_1946.JPG',\n",
       " '//upload.wikimedia.org/wikipedia/commons/thumb/8/87/Walt_Disney_1942_signature.svg/150px-Walt_Disney_1942_signature.svg.png',\n",
       " '//upload.wikimedia.org/wikipedia/commons/thumb/c/c4/Walt_Disney_envelope_ca._1921.jpg/220px-Walt_Disney_envelope_ca._1921.jpg',\n",
       " '//upload.wikimedia.org/wikipedia/commons/thumb/4/4d/Newman_Laugh-O-Gram_%281921%29.webm/220px-seek%3D2-Newman_Laugh-O-Gram_%281921%29.webm.jpg',\n",
       " '//upload.wikimedia.org/wikipedia/commons/thumb/0/0d/Trolley_Troubles_poster.jpg/170px-Trolley_Troubles_poster.jpg',\n",
       " '//upload.wikimedia.org/wikipedia/commons/thumb/7/71/Walt_Disney_and_his_cartoon_creation_%22Mickey_Mouse%22_-_National_Board_of_Review_Magazine.jpg/170px-Walt_Disney_and_his_cartoon_creation_%22Mickey_Mouse%22_-_National_Board_of_Review_Magazine.jpg',\n",
       " '//upload.wikimedia.org/wikipedia/en/thumb/4/4e/Steamboat-willie.jpg/170px-Steamboat-willie.jpg',\n",
       " '//upload.wikimedia.org/wikipedia/commons/thumb/5/57/Walt_Disney_1935.jpg/170px-Walt_Disney_1935.jpg',\n",
       " '//upload.wikimedia.org/wikipedia/commons/thumb/c/cd/Walt_Disney_Snow_white_1937_trailer_screenshot_%2813%29.jpg/220px-Walt_Disney_Snow_white_1937_trailer_screenshot_%2813%29.jpg',\n",
       " '//upload.wikimedia.org/wikipedia/commons/thumb/1/15/Disney_drawing_goofy.jpg/170px-Disney_drawing_goofy.jpg',\n",
       " '//upload.wikimedia.org/wikipedia/commons/thumb/1/13/DisneySchiphol1951.jpg/220px-DisneySchiphol1951.jpg',\n",
       " '//upload.wikimedia.org/wikipedia/commons/thumb/8/8c/WaltDisneyplansDisneylandDec1954.jpg/220px-WaltDisneyplansDisneylandDec1954.jpg',\n",
       " '//upload.wikimedia.org/wikipedia/commons/thumb/f/ff/Walt_disney_portrait_right.jpg/170px-Walt_disney_portrait_right.jpg',\n",
       " '//upload.wikimedia.org/wikipedia/commons/thumb/1/1a/Walt_Disney_Grave.JPG/170px-Walt_Disney_Grave.JPG',\n",
       " '//upload.wikimedia.org/wikipedia/commons/thumb/2/2d/Roy_O._Disney_with_Company_at_Press_Conference.jpg/170px-Roy_O._Disney_with_Company_at_Press_Conference.jpg',\n",
       " '//upload.wikimedia.org/wikipedia/commons/thumb/a/a9/Disney_Display_Case.JPG/170px-Disney_Display_Case.JPG',\n",
       " '//upload.wikimedia.org/wikipedia/commons/thumb/6/6c/Disney1968.jpg/170px-Disney1968.jpg',\n",
       " '//upload.wikimedia.org/wikipedia/en/thumb/8/8a/OOjs_UI_icon_edit-ltr-progressive.svg/10px-OOjs_UI_icon_edit-ltr-progressive.svg.png',\n",
       " '//upload.wikimedia.org/wikipedia/commons/thumb/4/44/The_Walt_Disney_Company_Logo.svg/120px-The_Walt_Disney_Company_Logo.svg.png',\n",
       " '//upload.wikimedia.org/wikipedia/commons/thumb/d/da/Animation_disc.svg/30px-Animation_disc.svg.png',\n",
       " '//upload.wikimedia.org/wikipedia/en/thumb/6/69/P_vip.svg/29px-P_vip.svg.png',\n",
       " '//upload.wikimedia.org/wikipedia/commons/thumb/1/1a/Magic_Kingdom_castle.jpg/24px-Magic_Kingdom_castle.jpg',\n",
       " '//upload.wikimedia.org/wikipedia/en/thumb/e/e7/Video-x-generic.svg/30px-Video-x-generic.svg.png',\n",
       " '//upload.wikimedia.org/wikipedia/commons/thumb/a/a3/Flag_of_Los_Angeles_County%2C_California.svg/30px-Flag_of_Los_Angeles_County%2C_California.svg.png',\n",
       " '//upload.wikimedia.org/wikipedia/commons/thumb/8/8c/Blank_television_set.svg/30px-Blank_television_set.svg.png',\n",
       " '//upload.wikimedia.org/wikipedia/en/thumb/a/a4/Flag_of_the_United_States.svg/30px-Flag_of_the_United_States.svg.png',\n",
       " '//upload.wikimedia.org/wikipedia/en/thumb/4/4a/Commons-logo.svg/22px-Commons-logo.svg.png',\n",
       " '//upload.wikimedia.org/wikipedia/commons/thumb/f/fa/Wikiquote-logo.svg/25px-Wikiquote-logo.svg.png',\n",
       " '//upload.wikimedia.org/wikipedia/commons/thumb/f/ff/Wikidata-logo.svg/30px-Wikidata-logo.svg.png',\n",
       " '//upload.wikimedia.org/wikipedia/en/thumb/8/8a/OOjs_UI_icon_edit-ltr-progressive.svg/10px-OOjs_UI_icon_edit-ltr-progressive.svg.png',\n",
       " '/static/images/wikimedia-button.png',\n",
       " '/static/images/poweredby_mediawiki_88x31.png']"
      ]
     },
     "execution_count": 12,
     "metadata": {},
     "output_type": "execute_result"
    }
   ],
   "source": [
    "imagenes = []\n",
    "#se utiliza regex para encontrar todos los links que empiecen con src y terminen con jpg o png. Si encuentra el patrón, se apendea la url\n",
    "\n",
    "\n",
    "for e in disney:\n",
    "    ye = re.search(r\"src=\\\"(.+[pPJj][nNPp][gG])\\\"\",str(e))\n",
    "    if ye:\n",
    "        img = ye.group(1)\n",
    "        imagenes.append(img)\n",
    "\n",
    "imagenes"
   ]
  },
  {
   "cell_type": "code",
   "execution_count": 13,
   "metadata": {},
   "outputs": [],
   "source": [
    "from IPython.display import Image, display_html\n",
    "from IPython.core.display import HTML"
   ]
  },
  {
   "cell_type": "code",
   "execution_count": 14,
   "metadata": {},
   "outputs": [
    {
     "data": {
      "text/html": [
       "<img src=\"//upload.wikimedia.org/wikipedia/en/thumb/e/e7/Cscr-featured.svg/20px-Cscr-featured.svg.png\"/>"
      ],
      "text/plain": [
       "<IPython.core.display.Image object>"
      ]
     },
     "metadata": {},
     "output_type": "display_data"
    },
    {
     "data": {
      "text/html": [
       "<img src=\"//upload.wikimedia.org/wikipedia/en/thumb/1/1b/Semi-protection-shackle.svg/20px-Semi-protection-shackle.svg.png\"/>"
      ],
      "text/plain": [
       "<IPython.core.display.Image object>"
      ]
     },
     "metadata": {},
     "output_type": "display_data"
    },
    {
     "data": {
      "text/html": [
       "<img src=\"//upload.wikimedia.org/wikipedia/commons/thumb/d/df/Walt_Disney_1946.JPG/220px-Walt_Disney_1946.JPG\"/>"
      ],
      "text/plain": [
       "<IPython.core.display.Image object>"
      ]
     },
     "metadata": {},
     "output_type": "display_data"
    },
    {
     "data": {
      "text/html": [
       "<img src=\"//upload.wikimedia.org/wikipedia/commons/thumb/8/87/Walt_Disney_1942_signature.svg/150px-Walt_Disney_1942_signature.svg.png\"/>"
      ],
      "text/plain": [
       "<IPython.core.display.Image object>"
      ]
     },
     "metadata": {},
     "output_type": "display_data"
    },
    {
     "data": {
      "text/html": [
       "<img src=\"//upload.wikimedia.org/wikipedia/commons/thumb/c/c4/Walt_Disney_envelope_ca._1921.jpg/220px-Walt_Disney_envelope_ca._1921.jpg\"/>"
      ],
      "text/plain": [
       "<IPython.core.display.Image object>"
      ]
     },
     "metadata": {},
     "output_type": "display_data"
    },
    {
     "data": {
      "text/html": [
       "<img src=\"//upload.wikimedia.org/wikipedia/commons/thumb/4/4d/Newman_Laugh-O-Gram_%281921%29.webm/220px-seek%3D2-Newman_Laugh-O-Gram_%281921%29.webm.jpg\"/>"
      ],
      "text/plain": [
       "<IPython.core.display.Image object>"
      ]
     },
     "metadata": {},
     "output_type": "display_data"
    },
    {
     "data": {
      "text/html": [
       "<img src=\"//upload.wikimedia.org/wikipedia/commons/thumb/0/0d/Trolley_Troubles_poster.jpg/170px-Trolley_Troubles_poster.jpg\"/>"
      ],
      "text/plain": [
       "<IPython.core.display.Image object>"
      ]
     },
     "metadata": {},
     "output_type": "display_data"
    },
    {
     "data": {
      "text/html": [
       "<img src=\"//upload.wikimedia.org/wikipedia/commons/thumb/7/71/Walt_Disney_and_his_cartoon_creation_%22Mickey_Mouse%22_-_National_Board_of_Review_Magazine.jpg/170px-Walt_Disney_and_his_cartoon_creation_%22Mickey_Mouse%22_-_National_Board_of_Review_Magazine.jpg\"/>"
      ],
      "text/plain": [
       "<IPython.core.display.Image object>"
      ]
     },
     "metadata": {},
     "output_type": "display_data"
    },
    {
     "data": {
      "text/html": [
       "<img src=\"//upload.wikimedia.org/wikipedia/en/thumb/4/4e/Steamboat-willie.jpg/170px-Steamboat-willie.jpg\"/>"
      ],
      "text/plain": [
       "<IPython.core.display.Image object>"
      ]
     },
     "metadata": {},
     "output_type": "display_data"
    },
    {
     "data": {
      "text/html": [
       "<img src=\"//upload.wikimedia.org/wikipedia/commons/thumb/5/57/Walt_Disney_1935.jpg/170px-Walt_Disney_1935.jpg\"/>"
      ],
      "text/plain": [
       "<IPython.core.display.Image object>"
      ]
     },
     "metadata": {},
     "output_type": "display_data"
    },
    {
     "data": {
      "text/html": [
       "<img src=\"//upload.wikimedia.org/wikipedia/commons/thumb/c/cd/Walt_Disney_Snow_white_1937_trailer_screenshot_%2813%29.jpg/220px-Walt_Disney_Snow_white_1937_trailer_screenshot_%2813%29.jpg\"/>"
      ],
      "text/plain": [
       "<IPython.core.display.Image object>"
      ]
     },
     "metadata": {},
     "output_type": "display_data"
    },
    {
     "data": {
      "text/html": [
       "<img src=\"//upload.wikimedia.org/wikipedia/commons/thumb/1/15/Disney_drawing_goofy.jpg/170px-Disney_drawing_goofy.jpg\"/>"
      ],
      "text/plain": [
       "<IPython.core.display.Image object>"
      ]
     },
     "metadata": {},
     "output_type": "display_data"
    },
    {
     "data": {
      "text/html": [
       "<img src=\"//upload.wikimedia.org/wikipedia/commons/thumb/1/13/DisneySchiphol1951.jpg/220px-DisneySchiphol1951.jpg\"/>"
      ],
      "text/plain": [
       "<IPython.core.display.Image object>"
      ]
     },
     "metadata": {},
     "output_type": "display_data"
    },
    {
     "data": {
      "text/html": [
       "<img src=\"//upload.wikimedia.org/wikipedia/commons/thumb/8/8c/WaltDisneyplansDisneylandDec1954.jpg/220px-WaltDisneyplansDisneylandDec1954.jpg\"/>"
      ],
      "text/plain": [
       "<IPython.core.display.Image object>"
      ]
     },
     "metadata": {},
     "output_type": "display_data"
    },
    {
     "data": {
      "text/html": [
       "<img src=\"//upload.wikimedia.org/wikipedia/commons/thumb/f/ff/Walt_disney_portrait_right.jpg/170px-Walt_disney_portrait_right.jpg\"/>"
      ],
      "text/plain": [
       "<IPython.core.display.Image object>"
      ]
     },
     "metadata": {},
     "output_type": "display_data"
    },
    {
     "data": {
      "text/html": [
       "<img src=\"//upload.wikimedia.org/wikipedia/commons/thumb/1/1a/Walt_Disney_Grave.JPG/170px-Walt_Disney_Grave.JPG\"/>"
      ],
      "text/plain": [
       "<IPython.core.display.Image object>"
      ]
     },
     "metadata": {},
     "output_type": "display_data"
    },
    {
     "data": {
      "text/html": [
       "<img src=\"//upload.wikimedia.org/wikipedia/commons/thumb/2/2d/Roy_O._Disney_with_Company_at_Press_Conference.jpg/170px-Roy_O._Disney_with_Company_at_Press_Conference.jpg\"/>"
      ],
      "text/plain": [
       "<IPython.core.display.Image object>"
      ]
     },
     "metadata": {},
     "output_type": "display_data"
    },
    {
     "data": {
      "text/html": [
       "<img src=\"//upload.wikimedia.org/wikipedia/commons/thumb/a/a9/Disney_Display_Case.JPG/170px-Disney_Display_Case.JPG\"/>"
      ],
      "text/plain": [
       "<IPython.core.display.Image object>"
      ]
     },
     "metadata": {},
     "output_type": "display_data"
    },
    {
     "data": {
      "text/html": [
       "<img src=\"//upload.wikimedia.org/wikipedia/commons/thumb/6/6c/Disney1968.jpg/170px-Disney1968.jpg\"/>"
      ],
      "text/plain": [
       "<IPython.core.display.Image object>"
      ]
     },
     "metadata": {},
     "output_type": "display_data"
    },
    {
     "data": {
      "text/html": [
       "<img src=\"//upload.wikimedia.org/wikipedia/en/thumb/8/8a/OOjs_UI_icon_edit-ltr-progressive.svg/10px-OOjs_UI_icon_edit-ltr-progressive.svg.png\"/>"
      ],
      "text/plain": [
       "<IPython.core.display.Image object>"
      ]
     },
     "metadata": {},
     "output_type": "display_data"
    },
    {
     "data": {
      "text/html": [
       "<img src=\"//upload.wikimedia.org/wikipedia/commons/thumb/4/44/The_Walt_Disney_Company_Logo.svg/120px-The_Walt_Disney_Company_Logo.svg.png\"/>"
      ],
      "text/plain": [
       "<IPython.core.display.Image object>"
      ]
     },
     "metadata": {},
     "output_type": "display_data"
    },
    {
     "data": {
      "text/html": [
       "<img src=\"//upload.wikimedia.org/wikipedia/commons/thumb/d/da/Animation_disc.svg/30px-Animation_disc.svg.png\"/>"
      ],
      "text/plain": [
       "<IPython.core.display.Image object>"
      ]
     },
     "metadata": {},
     "output_type": "display_data"
    },
    {
     "data": {
      "text/html": [
       "<img src=\"//upload.wikimedia.org/wikipedia/en/thumb/6/69/P_vip.svg/29px-P_vip.svg.png\"/>"
      ],
      "text/plain": [
       "<IPython.core.display.Image object>"
      ]
     },
     "metadata": {},
     "output_type": "display_data"
    },
    {
     "data": {
      "text/html": [
       "<img src=\"//upload.wikimedia.org/wikipedia/commons/thumb/1/1a/Magic_Kingdom_castle.jpg/24px-Magic_Kingdom_castle.jpg\"/>"
      ],
      "text/plain": [
       "<IPython.core.display.Image object>"
      ]
     },
     "metadata": {},
     "output_type": "display_data"
    },
    {
     "data": {
      "text/html": [
       "<img src=\"//upload.wikimedia.org/wikipedia/en/thumb/e/e7/Video-x-generic.svg/30px-Video-x-generic.svg.png\"/>"
      ],
      "text/plain": [
       "<IPython.core.display.Image object>"
      ]
     },
     "metadata": {},
     "output_type": "display_data"
    },
    {
     "data": {
      "text/html": [
       "<img src=\"//upload.wikimedia.org/wikipedia/commons/thumb/a/a3/Flag_of_Los_Angeles_County%2C_California.svg/30px-Flag_of_Los_Angeles_County%2C_California.svg.png\"/>"
      ],
      "text/plain": [
       "<IPython.core.display.Image object>"
      ]
     },
     "metadata": {},
     "output_type": "display_data"
    },
    {
     "data": {
      "text/html": [
       "<img src=\"//upload.wikimedia.org/wikipedia/commons/thumb/8/8c/Blank_television_set.svg/30px-Blank_television_set.svg.png\"/>"
      ],
      "text/plain": [
       "<IPython.core.display.Image object>"
      ]
     },
     "metadata": {},
     "output_type": "display_data"
    },
    {
     "data": {
      "text/html": [
       "<img src=\"//upload.wikimedia.org/wikipedia/en/thumb/a/a4/Flag_of_the_United_States.svg/30px-Flag_of_the_United_States.svg.png\"/>"
      ],
      "text/plain": [
       "<IPython.core.display.Image object>"
      ]
     },
     "metadata": {},
     "output_type": "display_data"
    },
    {
     "data": {
      "text/html": [
       "<img src=\"//upload.wikimedia.org/wikipedia/en/thumb/4/4a/Commons-logo.svg/22px-Commons-logo.svg.png\"/>"
      ],
      "text/plain": [
       "<IPython.core.display.Image object>"
      ]
     },
     "metadata": {},
     "output_type": "display_data"
    },
    {
     "data": {
      "text/html": [
       "<img src=\"//upload.wikimedia.org/wikipedia/commons/thumb/f/fa/Wikiquote-logo.svg/25px-Wikiquote-logo.svg.png\"/>"
      ],
      "text/plain": [
       "<IPython.core.display.Image object>"
      ]
     },
     "metadata": {},
     "output_type": "display_data"
    },
    {
     "data": {
      "text/html": [
       "<img src=\"//upload.wikimedia.org/wikipedia/commons/thumb/f/ff/Wikidata-logo.svg/30px-Wikidata-logo.svg.png\"/>"
      ],
      "text/plain": [
       "<IPython.core.display.Image object>"
      ]
     },
     "metadata": {},
     "output_type": "display_data"
    },
    {
     "data": {
      "text/html": [
       "<img src=\"//upload.wikimedia.org/wikipedia/en/thumb/8/8a/OOjs_UI_icon_edit-ltr-progressive.svg/10px-OOjs_UI_icon_edit-ltr-progressive.svg.png\"/>"
      ],
      "text/plain": [
       "<IPython.core.display.Image object>"
      ]
     },
     "metadata": {},
     "output_type": "display_data"
    },
    {
     "data": {
      "text/html": [
       "<img src=\"/static/images/wikimedia-button.png\"/>"
      ],
      "text/plain": [
       "<IPython.core.display.Image object>"
      ]
     },
     "metadata": {},
     "output_type": "display_data"
    },
    {
     "data": {
      "text/html": [
       "<img src=\"/static/images/poweredby_mediawiki_88x31.png\"/>"
      ],
      "text/plain": [
       "<IPython.core.display.Image object>"
      ]
     },
     "metadata": {},
     "output_type": "display_data"
    }
   ],
   "source": [
    "for i in imagenes:\n",
    "    display(Image(url=i))\n"
   ]
  },
  {
   "cell_type": "markdown",
   "metadata": {},
   "source": [
    "#### Retrieve an arbitary Wikipedia page of \"Python\" and create a list of links on that page"
   ]
  },
  {
   "cell_type": "code",
   "execution_count": 15,
   "metadata": {},
   "outputs": [],
   "source": [
    "# This is the url you will scrape in this exercise\n",
    "url ='https://en.wikipedia.org/wiki/Python' "
   ]
  },
  {
   "cell_type": "code",
   "execution_count": 16,
   "metadata": {},
   "outputs": [
    {
     "data": {
      "text/plain": [
       "bs4.element.ResultSet"
      ]
     },
     "execution_count": 16,
     "metadata": {},
     "output_type": "execute_result"
    }
   ],
   "source": [
    "resp = requests.get(url).content\n",
    "soup = bs(resp,'lxml')\n",
    "links = soup.find_all('a')\n",
    "type(links)"
   ]
  },
  {
   "cell_type": "code",
   "execution_count": 17,
   "metadata": {},
   "outputs": [
    {
     "data": {
      "text/plain": [
       "[None,\n",
       " '#mw-head',\n",
       " '#p-search',\n",
       " 'https://en.wiktionary.org/wiki/Python',\n",
       " 'https://en.wiktionary.org/wiki/python',\n",
       " '#Snakes',\n",
       " '#Ancient_Greece',\n",
       " '#Media_and_entertainment',\n",
       " '#Computing',\n",
       " '#Engineering']"
      ]
     },
     "execution_count": 17,
     "metadata": {},
     "output_type": "execute_result"
    }
   ],
   "source": [
    "links1 = []\n",
    "\n",
    "#se utiliza la función interna de beautiful soup para traer links. \n",
    "for link in links:\n",
    "    links1.append(link.get('href'))\n",
    "\n",
    "links1[:10]\n"
   ]
  },
  {
   "cell_type": "code",
   "execution_count": 18,
   "metadata": {},
   "outputs": [
    {
     "data": {
      "text/plain": [
       "['https://en.wiktionary.org/wiki/Python',\n",
       " 'https://en.wiktionary.org/wiki/python',\n",
       " '/w/index.php?title=Python&action=edit&section=1',\n",
       " '/wiki/Pythonidae',\n",
       " '/wiki/Python_(genus)',\n",
       " '/w/index.php?title=Python&action=edit&section=2',\n",
       " '/wiki/Python_(mythology)',\n",
       " '/wiki/Python_of_Aenus',\n",
       " '/wiki/Python_(painter)',\n",
       " '/wiki/Python_of_Byzantium']"
      ]
     },
     "execution_count": 18,
     "metadata": {},
     "output_type": "execute_result"
    }
   ],
   "source": [
    "finalink = []\n",
    "for link in links1:\n",
    "    if re.search(r\"/\",str(link)): #si no hay un / en la string, no lo incluye en el listado\n",
    "        finalink.append(link)\n",
    "               \n",
    "finalink[:10]"
   ]
  },
  {
   "cell_type": "markdown",
   "metadata": {},
   "source": [
    "#### Number of Titles that have changed in the United States Code since its last release point "
   ]
  },
  {
   "cell_type": "code",
   "execution_count": 19,
   "metadata": {},
   "outputs": [],
   "source": [
    "# This is the url you will scrape in this exercise\n",
    "url = 'http://uscode.house.gov/download/download.shtml'"
   ]
  },
  {
   "cell_type": "code",
   "execution_count": 20,
   "metadata": {},
   "outputs": [
    {
     "data": {
      "text/plain": [
       "[<div class=\"usctitlechanged\" id=\"us/usc/t8\">\n",
       " \n",
       "           Title 8 - Aliens and Nationality\n",
       " \n",
       "         </div>,\n",
       " <div class=\"usctitlechanged\" id=\"us/usc/t22\">\n",
       " \n",
       "           Title 22 - Foreign Relations and Intercourse\n",
       " \n",
       "         </div>,\n",
       " <div class=\"usctitlechanged\" id=\"us/usc/t29\">\n",
       " \n",
       "           Title 29 - Labor\n",
       " \n",
       "         </div>,\n",
       " <div class=\"usctitlechanged\" id=\"us/usc/t42\">\n",
       " \n",
       "           Title 42 - The Public Health and Welfare\n",
       " \n",
       "         </div>]"
      ]
     },
     "execution_count": 20,
     "metadata": {},
     "output_type": "execute_result"
    }
   ],
   "source": [
    "resp = requests.get(url).content\n",
    "soup = bs(resp,'lxml')\n",
    "codes = soup.find_all('div',{'class': 'usctitlechanged'})\n",
    "\n",
    "codes"
   ]
  },
  {
   "cell_type": "code",
   "execution_count": 21,
   "metadata": {},
   "outputs": [
    {
     "data": {
      "text/plain": [
       "[<div class=\"usctitlechanged\" id=\"us/usc/t8\">\n",
       " \n",
       "           Title 8 - Aliens and Nationality\n",
       " \n",
       "         </div>,\n",
       " <div class=\"usctitlechanged\" id=\"us/usc/t22\">\n",
       " \n",
       "           Title 22 - Foreign Relations and Intercourse\n",
       " \n",
       "         </div>,\n",
       " <div class=\"usctitlechanged\" id=\"us/usc/t29\">\n",
       " \n",
       "           Title 29 - Labor\n",
       " \n",
       "         </div>,\n",
       " <div class=\"usctitlechanged\" id=\"us/usc/t42\">\n",
       " \n",
       "           Title 42 - The Public Health and Welfare\n",
       " \n",
       "         </div>]"
      ]
     },
     "execution_count": 21,
     "metadata": {},
     "output_type": "execute_result"
    }
   ],
   "source": [
    "codes"
   ]
  },
  {
   "cell_type": "code",
   "execution_count": 22,
   "metadata": {},
   "outputs": [
    {
     "name": "stdout",
     "output_type": "stream",
     "text": [
      "<div class=\"usctitlechanged\" id=\"us/usc/t8\">\n",
      "\n",
      "          Title 8 - Aliens and Nationality\n",
      "\n",
      "        </div>\n",
      "<class 'bs4.element.Tag'>\n"
     ]
    }
   ],
   "source": [
    "test = codes[0]\n",
    "print(test)\n",
    "print(type(test))"
   ]
  },
  {
   "cell_type": "code",
   "execution_count": 23,
   "metadata": {},
   "outputs": [
    {
     "name": "stdout",
     "output_type": "stream",
     "text": [
      "\n",
      "\n",
      "          Title 8 - Aliens and Nationality\n",
      "\n",
      "        \n",
      "<class 'str'>\n"
     ]
    }
   ],
   "source": [
    "test = codes[0].text\n",
    "print(test)\n",
    "print(type(test))"
   ]
  },
  {
   "cell_type": "code",
   "execution_count": 24,
   "metadata": {},
   "outputs": [
    {
     "name": "stdout",
     "output_type": "stream",
     "text": [
      "Title 8 - Aliens and Nationality\n",
      "<class 'str'>\n"
     ]
    }
   ],
   "source": [
    "test = codes[0].text.strip()\n",
    "print(test)\n",
    "print(type(test))"
   ]
  },
  {
   "cell_type": "code",
   "execution_count": 25,
   "metadata": {},
   "outputs": [
    {
     "name": "stdout",
     "output_type": "stream",
     "text": [
      "['Title 8 - Aliens and Nationality']\n",
      "<class 'list'>\n"
     ]
    }
   ],
   "source": [
    "test = codes[0].text.strip().split('\\n')\n",
    "print(test)\n",
    "print(type(test))"
   ]
  },
  {
   "cell_type": "code",
   "execution_count": 26,
   "metadata": {},
   "outputs": [
    {
     "name": "stdout",
     "output_type": "stream",
     "text": [
      "['Title 8 - Aliens and Nationality', 'Title 22 - Foreign Relations and Intercourse', 'Title 29 - Labor', 'Title 42 - The Public Health and Welfare'] \n",
      "\n",
      "Number of codes that have changed is: 4\n"
     ]
    }
   ],
   "source": [
    "lista_titulos=[r.text.strip() for r in codes] #se quitan los espacios del text en cada fila. \n",
    "lista_titulos\n",
    "print(lista_titulos,\"\\n\")\n",
    "print(\"Number of codes that have changed is:\",len(lista_titulos))"
   ]
  },
  {
   "cell_type": "markdown",
   "metadata": {},
   "source": [
    "#### A Python list with the top ten FBI's Most Wanted names "
   ]
  },
  {
   "cell_type": "code",
   "execution_count": 27,
   "metadata": {},
   "outputs": [],
   "source": [
    "# This is the url you will scrape in this exercise\n",
    "url = 'https://www.fbi.gov/wanted/topten'"
   ]
  },
  {
   "cell_type": "code",
   "execution_count": 28,
   "metadata": {},
   "outputs": [],
   "source": [
    "resp = requests.get(url).content\n",
    "soup = bs(resp,'lxml')\n",
    "fbi = soup.find_all('h3',{'class': 'title'})"
   ]
  },
  {
   "cell_type": "code",
   "execution_count": 29,
   "metadata": {},
   "outputs": [
    {
     "data": {
      "text/plain": [
       "[<h3 class=\"title\">\n",
       " <a href=\"https://www.fbi.gov/wanted/topten/alexis-flores\">ALEXIS FLORES</a>\n",
       " </h3>,\n",
       " <h3 class=\"title\">\n",
       " <a href=\"https://www.fbi.gov/wanted/topten/eugene-palmer\">EUGENE PALMER</a>\n",
       " </h3>,\n",
       " <h3 class=\"title\">\n",
       " <a href=\"https://www.fbi.gov/wanted/topten/santiago-mederos\">SANTIAGO VILLALBA MEDEROS</a>\n",
       " </h3>,\n",
       " <h3 class=\"title\">\n",
       " <a href=\"https://www.fbi.gov/wanted/topten/rafael-caro-quintero\">RAFAEL CARO-QUINTERO</a>\n",
       " </h3>,\n",
       " <h3 class=\"title\">\n",
       " <a href=\"https://www.fbi.gov/wanted/topten/robert-william-fisher\">ROBERT WILLIAM FISHER</a>\n",
       " </h3>,\n",
       " <h3 class=\"title\">\n",
       " <a href=\"https://www.fbi.gov/wanted/topten/bhadreshkumar-chetanbhai-patel\">BHADRESHKUMAR CHETANBHAI PATEL</a>\n",
       " </h3>,\n",
       " <h3 class=\"title\">\n",
       " <a href=\"https://www.fbi.gov/wanted/topten/alejandro-castillo\">ALEJANDRO ROSALES CASTILLO</a>\n",
       " </h3>,\n",
       " <h3 class=\"title\">\n",
       " <a href=\"https://www.fbi.gov/wanted/topten/arnoldo-jimenez\">ARNOLDO JIMENEZ</a>\n",
       " </h3>,\n",
       " <h3 class=\"title\">\n",
       " <a href=\"https://www.fbi.gov/wanted/topten/yaser-abdel-said\">YASER ABDEL SAID</a>\n",
       " </h3>,\n",
       " <h3 class=\"title\">\n",
       " <a href=\"https://www.fbi.gov/wanted/topten/jason-derek-brown\">JASON DEREK BROWN</a>\n",
       " </h3>]"
      ]
     },
     "execution_count": 29,
     "metadata": {},
     "output_type": "execute_result"
    }
   ],
   "source": [
    "fbi"
   ]
  },
  {
   "cell_type": "code",
   "execution_count": 30,
   "metadata": {},
   "outputs": [
    {
     "data": {
      "text/plain": [
       "['ALEXIS FLORES',\n",
       " 'EUGENE PALMER',\n",
       " 'SANTIAGO VILLALBA MEDEROS',\n",
       " 'RAFAEL CARO-QUINTERO',\n",
       " 'ROBERT WILLIAM FISHER',\n",
       " 'BHADRESHKUMAR CHETANBHAI PATEL',\n",
       " 'ALEJANDRO ROSALES CASTILLO',\n",
       " 'ARNOLDO JIMENEZ',\n",
       " 'YASER ABDEL SAID',\n",
       " 'JASON DEREK BROWN']"
      ]
     },
     "execution_count": 30,
     "metadata": {},
     "output_type": "execute_result"
    }
   ],
   "source": [
    "rows=[r.text.strip() for r in fbi] #trae el texto en una sola lista de cada fila sin espacios\n",
    "rows"
   ]
  },
  {
   "cell_type": "markdown",
   "metadata": {},
   "source": [
    "####  20 latest earthquakes info (date, time, latitude, longitude and region name) by the EMSC as a pandas dataframe"
   ]
  },
  {
   "cell_type": "code",
   "execution_count": 31,
   "metadata": {},
   "outputs": [],
   "source": [
    "# This is the url you will scrape in this exercise\n",
    "url = 'https://www.emsc-csem.org/Earthquake/'"
   ]
  },
  {
   "cell_type": "code",
   "execution_count": 32,
   "metadata": {},
   "outputs": [
    {
     "data": {
      "text/plain": [
       "200"
      ]
     },
     "execution_count": 32,
     "metadata": {},
     "output_type": "execute_result"
    }
   ],
   "source": [
    "res=requests.get(url)\n",
    "\n",
    "res.status_code\n"
   ]
  },
  {
   "cell_type": "code",
   "execution_count": 33,
   "metadata": {},
   "outputs": [],
   "source": [
    "soup=bs(res.text.encode('utf-8'))\n"
   ]
  },
  {
   "cell_type": "code",
   "execution_count": 34,
   "metadata": {},
   "outputs": [
    {
     "data": {
      "text/plain": [
       "[<td class=\"tabev0\"></td>,\n",
       " <td class=\"tabev0\"></td>,\n",
       " <td class=\"tabev0\"></td>,\n",
       " <td class=\"tabev6\"><b><i style=\"display:none;\">earthquake</i><a href=\"/Earthquake/earthquake.php?id=846047\">2020-04-08   03:27:32.1</a></b><i class=\"ago\" id=\"ago0\">06min ago</i></td>,\n",
       " <td class=\"tabev1\">19.20 </td>,\n",
       " <td class=\"tabev2\">N  </td>,\n",
       " <td class=\"tabev1\">155.47 </td>,\n",
       " <td class=\"tabev2\">W  </td>,\n",
       " <td class=\"tabev3\">36</td>,\n",
       " <td class=\"tabev5\" id=\"magtyp0\">Md</td>,\n",
       " <td class=\"tabev2\">2.6</td>,\n",
       " <td class=\"tb_region\" id=\"reg0\"> ISLAND OF HAWAII, HAWAII</td>,\n",
       " <td class=\"comment updatetimeno\" id=\"upd0\" style=\"text-align:right;\">2020-04-08 03:31</td>]"
      ]
     },
     "execution_count": 34,
     "metadata": {},
     "output_type": "execute_result"
    }
   ],
   "source": [
    "t=soup.select('#tbody tr')\n",
    "\n",
    "m=t[0].select('td')\n",
    "\n",
    "m"
   ]
  },
  {
   "cell_type": "code",
   "execution_count": 35,
   "metadata": {},
   "outputs": [],
   "source": [
    "earthquake={\n",
    "    'date':m[3].find('a').text,\n",
    "    'region':m[-2].text,\n",
    "    'lat':m[4].text+m[5].text,\n",
    "    'lng':m[6].text+m[7].text\n",
    "}"
   ]
  },
  {
   "cell_type": "code",
   "execution_count": 36,
   "metadata": {},
   "outputs": [
    {
     "data": {
      "text/plain": [
       "{'date': '2020-04-08\\xa0\\xa0\\xa003:27:32.1',\n",
       " 'region': '\\xa0ISLAND OF HAWAII, HAWAII',\n",
       " 'lat': '19.20\\xa0N\\xa0\\xa0',\n",
       " 'lng': '155.47\\xa0W\\xa0\\xa0'}"
      ]
     },
     "execution_count": 36,
     "metadata": {},
     "output_type": "execute_result"
    }
   ],
   "source": [
    "earthquake"
   ]
  },
  {
   "cell_type": "code",
   "execution_count": 37,
   "metadata": {},
   "outputs": [],
   "source": [
    "import unidecode\n",
    "\n",
    "earthquake={k:unidecode.unidecode(v).strip() for k,v in earthquake.items()}"
   ]
  },
  {
   "cell_type": "code",
   "execution_count": 38,
   "metadata": {},
   "outputs": [
    {
     "data": {
      "text/plain": [
       "{'date': '2020-04-08   03:27:32.1',\n",
       " 'region': 'ISLAND OF HAWAII, HAWAII',\n",
       " 'lat': '19.20 N',\n",
       " 'lng': '155.47 W'}"
      ]
     },
     "execution_count": 38,
     "metadata": {},
     "output_type": "execute_result"
    }
   ],
   "source": [
    "earthquake"
   ]
  },
  {
   "cell_type": "code",
   "execution_count": 39,
   "metadata": {},
   "outputs": [
    {
     "data": {
      "text/html": [
       "<div>\n",
       "<style scoped>\n",
       "    .dataframe tbody tr th:only-of-type {\n",
       "        vertical-align: middle;\n",
       "    }\n",
       "\n",
       "    .dataframe tbody tr th {\n",
       "        vertical-align: top;\n",
       "    }\n",
       "\n",
       "    .dataframe thead th {\n",
       "        text-align: right;\n",
       "    }\n",
       "</style>\n",
       "<table border=\"1\" class=\"dataframe\">\n",
       "  <thead>\n",
       "    <tr style=\"text-align: right;\">\n",
       "      <th></th>\n",
       "      <th>date</th>\n",
       "      <th>region</th>\n",
       "      <th>lat</th>\n",
       "      <th>lng</th>\n",
       "    </tr>\n",
       "  </thead>\n",
       "  <tbody>\n",
       "    <tr>\n",
       "      <th>0</th>\n",
       "      <td>2020-04-08   03:27:32.1</td>\n",
       "      <td>ISLAND OF HAWAII, HAWAII</td>\n",
       "      <td>19.20 N</td>\n",
       "      <td>155.47 W</td>\n",
       "    </tr>\n",
       "  </tbody>\n",
       "</table>\n",
       "</div>"
      ],
      "text/plain": [
       "                      date                    region      lat       lng\n",
       "0  2020-04-08   03:27:32.1  ISLAND OF HAWAII, HAWAII  19.20 N  155.47 W"
      ]
     },
     "execution_count": 39,
     "metadata": {},
     "output_type": "execute_result"
    }
   ],
   "source": [
    "df=pd.DataFrame([earthquake])\n",
    "df"
   ]
  },
  {
   "cell_type": "markdown",
   "metadata": {},
   "source": [
    "#### Count number of tweets by a given Twitter account."
   ]
  },
  {
   "cell_type": "markdown",
   "metadata": {},
   "source": [
    "You will need to include a ***try/except block*** for account names not found. \n",
    "<br>***Hint:*** the program should count the number of tweets for any provided account"
   ]
  },
  {
   "cell_type": "code",
   "execution_count": 40,
   "metadata": {},
   "outputs": [],
   "source": [
    "url = 'https://twitter.com/CoreyTaylorRock'"
   ]
  },
  {
   "cell_type": "code",
   "execution_count": 41,
   "metadata": {},
   "outputs": [],
   "source": [
    "resp = requests.get(url).content\n",
    "soup = bs(resp,'lxml')\n",
    "corey = soup.find('div')"
   ]
  },
  {
   "cell_type": "code",
   "execution_count": null,
   "metadata": {},
   "outputs": [],
   "source": []
  },
  {
   "cell_type": "code",
   "execution_count": 42,
   "metadata": {},
   "outputs": [
    {
     "data": {
      "text/plain": [
       "7"
      ]
     },
     "execution_count": 42,
     "metadata": {},
     "output_type": "execute_result"
    }
   ],
   "source": [
    "len(corey)"
   ]
  },
  {
   "cell_type": "code",
   "execution_count": null,
   "metadata": {},
   "outputs": [],
   "source": []
  },
  {
   "cell_type": "code",
   "execution_count": null,
   "metadata": {},
   "outputs": [],
   "source": []
  },
  {
   "cell_type": "markdown",
   "metadata": {},
   "source": [
    "#### Number of followers of a given twitter account"
   ]
  },
  {
   "cell_type": "markdown",
   "metadata": {},
   "source": [
    "You will need to include a ***try/except block*** in case account/s name not found. \n",
    "<br>***Hint:*** the program should count the followers for any provided account"
   ]
  },
  {
   "cell_type": "code",
   "execution_count": 43,
   "metadata": {},
   "outputs": [],
   "source": [
    "# This is the url you will scrape in this exercise \n",
    "# You will need to add the account credentials to this url\n",
    "url = 'https://twitter.com/'"
   ]
  },
  {
   "cell_type": "code",
   "execution_count": 44,
   "metadata": {},
   "outputs": [],
   "source": [
    "#your code"
   ]
  },
  {
   "cell_type": "markdown",
   "metadata": {},
   "source": [
    "#### List all language names and number of related articles in the order they appear in wikipedia.org"
   ]
  },
  {
   "cell_type": "code",
   "execution_count": 45,
   "metadata": {},
   "outputs": [],
   "source": [
    "# This is the url you will scrape in this exercise\n",
    "url = 'https://www.wikipedia.org/'"
   ]
  },
  {
   "cell_type": "code",
   "execution_count": 46,
   "metadata": {},
   "outputs": [
    {
     "data": {
      "text/plain": [
       "\"resp = requests.get(url).content\\nsoup = bs(resp,'lxml')\\nstrong = soup.find_all('div',{'class':'central-featured'})\""
      ]
     },
     "execution_count": 46,
     "metadata": {},
     "output_type": "execute_result"
    }
   ],
   "source": [
    "\"\"\"resp = requests.get(url).content\n",
    "soup = bs(resp,'lxml')\n",
    "strong = soup.find_all('div',{'class':'central-featured'})\"\"\""
   ]
  },
  {
   "cell_type": "code",
   "execution_count": 47,
   "metadata": {},
   "outputs": [],
   "source": [
    "resp = requests.get(url).content\n",
    "soup = bs(resp,'lxml')\n",
    "strong = soup.find_all('strong')"
   ]
  },
  {
   "cell_type": "code",
   "execution_count": 48,
   "metadata": {},
   "outputs": [
    {
     "data": {
      "text/plain": [
       "bs4.element.ResultSet"
      ]
     },
     "execution_count": 48,
     "metadata": {},
     "output_type": "execute_result"
    }
   ],
   "source": [
    "type(strong)"
   ]
  },
  {
   "cell_type": "code",
   "execution_count": 49,
   "metadata": {},
   "outputs": [
    {
     "data": {
      "text/plain": [
       "['English',\n",
       " 'Español',\n",
       " '日本語',\n",
       " 'Deutsch',\n",
       " 'Français',\n",
       " 'Русский',\n",
       " 'Italiano',\n",
       " '中文',\n",
       " 'Português',\n",
       " 'Polski']"
      ]
     },
     "execution_count": 49,
     "metadata": {},
     "output_type": "execute_result"
    }
   ],
   "source": [
    "l1 = []\n",
    "\n",
    "for i in range(1,len(strong)-1):\n",
    "    l1.append(strong[i].text)\n",
    "    \n",
    "l1"
   ]
  },
  {
   "cell_type": "code",
   "execution_count": 50,
   "metadata": {},
   "outputs": [
    {
     "data": {
      "text/plain": [
       "[<small><bdi dir=\"ltr\">6 050 000+</bdi> <span>articles</span></small>,\n",
       " <small><bdi dir=\"ltr\">1 588 000+</bdi> <span>artículos</span></small>,\n",
       " <small><bdi dir=\"ltr\">1 198 000+</bdi> <span>記事</span></small>,\n",
       " <small><bdi dir=\"ltr\">2 416 000+</bdi> <span>Artikel</span></small>,\n",
       " <small><bdi dir=\"ltr\">2 197 000+</bdi> <span>articles</span></small>,\n",
       " <small><bdi dir=\"ltr\">1 611 000+</bdi> <span>статей</span></small>,\n",
       " <small><bdi dir=\"ltr\">1 595 000+</bdi> <span>voci</span></small>,\n",
       " <small><bdi dir=\"ltr\">1 109 000+</bdi> <span data-convert-hans=\"条目\" id=\"zh_art\">條目</span></small>,\n",
       " <small><bdi dir=\"ltr\">1 027 000+</bdi> <span>artigos</span></small>,\n",
       " <small><bdi dir=\"ltr\">1 399 000+</bdi> <span>haseł</span></small>,\n",
       " <small class=\"jsl10n\" data-jsl10n=\"license\">This page is available under the <a href=\"https://creativecommons.org/licenses/by-sa/3.0/\">Creative Commons Attribution-ShareAlike License</a></small>,\n",
       " <small class=\"jsl10n\" data-jsl10n=\"terms\"><a href=\"//meta.wikimedia.org/wiki/Terms_of_Use\">Terms of Use</a></small>,\n",
       " <small class=\"jsl10n\" data-jsl10n=\"Privacy Policy\"><a href=\"//meta.wikimedia.org/wiki/Privacy_policy\">Privacy Policy</a></small>]"
      ]
     },
     "execution_count": 50,
     "metadata": {},
     "output_type": "execute_result"
    }
   ],
   "source": [
    "small = soup.find_all('small')\n",
    "small"
   ]
  },
  {
   "cell_type": "code",
   "execution_count": 51,
   "metadata": {},
   "outputs": [
    {
     "data": {
      "text/plain": [
       "['6\\xa0050\\xa0000+ articles',\n",
       " '1\\xa0588\\xa0000+ artículos',\n",
       " '1\\xa0198\\xa0000+ 記事',\n",
       " '2\\xa0416\\xa0000+ Artikel',\n",
       " '2\\xa0197\\xa0000+ articles',\n",
       " '1\\xa0611\\xa0000+ статей',\n",
       " '1\\xa0595\\xa0000+ voci',\n",
       " '1\\xa0109\\xa0000+ 條目',\n",
       " '1\\xa0027\\xa0000+ artigos',\n",
       " '1\\xa0399\\xa0000+ haseł']"
      ]
     },
     "execution_count": 51,
     "metadata": {},
     "output_type": "execute_result"
    }
   ],
   "source": [
    "l2 = []\n",
    "\n",
    "for i in range(len(small)-3):\n",
    "    l2.append(small[i].text)\n",
    "    \n",
    "l2"
   ]
  },
  {
   "cell_type": "code",
   "execution_count": 52,
   "metadata": {},
   "outputs": [
    {
     "data": {
      "text/plain": [
       "['6 050 000+ articles',\n",
       " '1 588 000+ articulos',\n",
       " '1 198 000+ Ji Shi ',\n",
       " '2 416 000+ Artikel',\n",
       " '2 197 000+ articles',\n",
       " '1 611 000+ statei',\n",
       " '1 595 000+ voci',\n",
       " '1 109 000+ Tiao Mu ',\n",
       " '1 027 000+ artigos',\n",
       " '1 399 000+ hasel']"
      ]
     },
     "execution_count": 52,
     "metadata": {},
     "output_type": "execute_result"
    }
   ],
   "source": [
    "import unidecode\n",
    "l3 = []\n",
    "for x in l2:\n",
    "    x = unidecode.unidecode(x)\n",
    "    l3.append(x)\n",
    "    \n",
    "l3"
   ]
  },
  {
   "cell_type": "code",
   "execution_count": 53,
   "metadata": {},
   "outputs": [
    {
     "data": {
      "text/html": [
       "<div>\n",
       "<style scoped>\n",
       "    .dataframe tbody tr th:only-of-type {\n",
       "        vertical-align: middle;\n",
       "    }\n",
       "\n",
       "    .dataframe tbody tr th {\n",
       "        vertical-align: top;\n",
       "    }\n",
       "\n",
       "    .dataframe thead th {\n",
       "        text-align: right;\n",
       "    }\n",
       "</style>\n",
       "<table border=\"1\" class=\"dataframe\">\n",
       "  <thead>\n",
       "    <tr style=\"text-align: right;\">\n",
       "      <th></th>\n",
       "      <th>languajes</th>\n",
       "      <th>articles</th>\n",
       "    </tr>\n",
       "  </thead>\n",
       "  <tbody>\n",
       "    <tr>\n",
       "      <th>0</th>\n",
       "      <td>English</td>\n",
       "      <td>6 050 000+ articles</td>\n",
       "    </tr>\n",
       "    <tr>\n",
       "      <th>1</th>\n",
       "      <td>Español</td>\n",
       "      <td>1 588 000+ articulos</td>\n",
       "    </tr>\n",
       "    <tr>\n",
       "      <th>2</th>\n",
       "      <td>日本語</td>\n",
       "      <td>1 198 000+ Ji Shi</td>\n",
       "    </tr>\n",
       "    <tr>\n",
       "      <th>3</th>\n",
       "      <td>Deutsch</td>\n",
       "      <td>2 416 000+ Artikel</td>\n",
       "    </tr>\n",
       "    <tr>\n",
       "      <th>4</th>\n",
       "      <td>Français</td>\n",
       "      <td>2 197 000+ articles</td>\n",
       "    </tr>\n",
       "    <tr>\n",
       "      <th>5</th>\n",
       "      <td>Русский</td>\n",
       "      <td>1 611 000+ statei</td>\n",
       "    </tr>\n",
       "    <tr>\n",
       "      <th>6</th>\n",
       "      <td>Italiano</td>\n",
       "      <td>1 595 000+ voci</td>\n",
       "    </tr>\n",
       "    <tr>\n",
       "      <th>7</th>\n",
       "      <td>中文</td>\n",
       "      <td>1 109 000+ Tiao Mu</td>\n",
       "    </tr>\n",
       "    <tr>\n",
       "      <th>8</th>\n",
       "      <td>Português</td>\n",
       "      <td>1 027 000+ artigos</td>\n",
       "    </tr>\n",
       "    <tr>\n",
       "      <th>9</th>\n",
       "      <td>Polski</td>\n",
       "      <td>1 399 000+ hasel</td>\n",
       "    </tr>\n",
       "  </tbody>\n",
       "</table>\n",
       "</div>"
      ],
      "text/plain": [
       "   languajes              articles\n",
       "0    English   6 050 000+ articles\n",
       "1    Español  1 588 000+ articulos\n",
       "2        日本語    1 198 000+ Ji Shi \n",
       "3    Deutsch    2 416 000+ Artikel\n",
       "4   Français   2 197 000+ articles\n",
       "5    Русский     1 611 000+ statei\n",
       "6   Italiano       1 595 000+ voci\n",
       "7         中文   1 109 000+ Tiao Mu \n",
       "8  Português    1 027 000+ artigos\n",
       "9     Polski      1 399 000+ hasel"
      ]
     },
     "execution_count": 53,
     "metadata": {},
     "output_type": "execute_result"
    }
   ],
   "source": [
    "df = pd.DataFrame({\"languajes\":l1,\"articles\":l3})\n",
    "df"
   ]
  },
  {
   "cell_type": "markdown",
   "metadata": {},
   "source": [
    "#### A list with the different kind of datasets available in data.gov.uk "
   ]
  },
  {
   "cell_type": "code",
   "execution_count": 54,
   "metadata": {},
   "outputs": [],
   "source": [
    "# This is the url you will scrape in this exercise\n",
    "url = 'https://data.gov.uk/'"
   ]
  },
  {
   "cell_type": "code",
   "execution_count": 55,
   "metadata": {},
   "outputs": [],
   "source": [
    "resp = requests.get(url).content\n",
    "soup = bs(resp,'lxml')\n",
    "uk = soup.find_all('h2')"
   ]
  },
  {
   "cell_type": "code",
   "execution_count": 56,
   "metadata": {},
   "outputs": [
    {
     "data": {
      "text/plain": [
       "[<h2><a href=\"/search?filters%5Btopic%5D=Business+and+economy\">Business and economy</a></h2>,\n",
       " <h2><a href=\"/search?filters%5Btopic%5D=Crime+and+justice\">Crime and justice</a></h2>,\n",
       " <h2><a href=\"/search?filters%5Btopic%5D=Defence\">Defence</a></h2>,\n",
       " <h2><a href=\"/search?filters%5Btopic%5D=Education\">Education</a></h2>,\n",
       " <h2><a href=\"/search?filters%5Btopic%5D=Environment\">Environment</a></h2>,\n",
       " <h2><a href=\"/search?filters%5Btopic%5D=Government\">Government</a></h2>,\n",
       " <h2><a href=\"/search?filters%5Btopic%5D=Government+spending\">Government spending</a></h2>,\n",
       " <h2><a href=\"/search?filters%5Btopic%5D=Health\">Health</a></h2>,\n",
       " <h2><a href=\"/search?filters%5Btopic%5D=Mapping\">Mapping</a></h2>,\n",
       " <h2><a href=\"/search?filters%5Btopic%5D=Society\">Society</a></h2>,\n",
       " <h2><a href=\"/search?filters%5Btopic%5D=Towns+and+cities\">Towns and cities</a></h2>,\n",
       " <h2><a href=\"/search?filters%5Btopic%5D=Transport\">Transport</a></h2>]"
      ]
     },
     "execution_count": 56,
     "metadata": {},
     "output_type": "execute_result"
    }
   ],
   "source": [
    "uk"
   ]
  },
  {
   "cell_type": "code",
   "execution_count": 57,
   "metadata": {},
   "outputs": [
    {
     "data": {
      "text/plain": [
       "['Business and economy',\n",
       " 'Crime and justice',\n",
       " 'Defence',\n",
       " 'Education',\n",
       " 'Environment',\n",
       " 'Government',\n",
       " 'Government spending',\n",
       " 'Health',\n",
       " 'Mapping',\n",
       " 'Society',\n",
       " 'Towns and cities',\n",
       " 'Transport']"
      ]
     },
     "execution_count": 57,
     "metadata": {},
     "output_type": "execute_result"
    }
   ],
   "source": [
    "ukd = []\n",
    "for e in uk:\n",
    "    ukd.append(e.text)\n",
    "    \n",
    "ukd"
   ]
  },
  {
   "cell_type": "markdown",
   "metadata": {},
   "source": [
    "#### Top 10 languages by number of native speakers stored in a Pandas Dataframe"
   ]
  },
  {
   "cell_type": "code",
   "execution_count": 58,
   "metadata": {},
   "outputs": [],
   "source": [
    "# This is the url you will scrape in this exercise\n",
    "url = 'https://en.wikipedia.org/wiki/List_of_languages_by_number_of_native_speakers'"
   ]
  },
  {
   "cell_type": "code",
   "execution_count": 59,
   "metadata": {},
   "outputs": [],
   "source": [
    "resp = requests.get(url).content\n",
    "soup = bs(resp,'lxml')\n",
    "native = soup.find_all('table')"
   ]
  },
  {
   "cell_type": "code",
   "execution_count": 60,
   "metadata": {},
   "outputs": [
    {
     "data": {
      "text/plain": [
       "<table class=\"wikitable sortable\">\n",
       "<caption>Top languages by population per <i>Nationalencyklopedin</i>\n",
       "</caption>\n",
       "<tbody><tr>\n",
       "<th>Rank\n",
       "</th>\n",
       "<th>Language\n",
       "</th>\n",
       "<th data-sort-type=\"number\">Native<br/>speakers<br/>in millions<br/>2007 (2010)\n",
       "</th>\n",
       "<th>Percentage<br/>of world<br/>population<br/>(2007)\n",
       "</th></tr>\n",
       "<tr>\n",
       "<td>1</td>\n",
       "<td><b><a href=\"/wiki/Mandarin_Chinese\" title=\"Mandarin Chinese\">Mandarin</a></b> (entire branch)</td>\n",
       "<td>935 (955)</td>\n",
       "<td>14.1%\n",
       "</td></tr>\n",
       "<tr>\n",
       "<td>2</td>\n",
       "<td><b><a href=\"/wiki/Spanish_language\" title=\"Spanish language\">Spanish</a></b></td>\n",
       "<td>390 (405)</td>\n",
       "<td>5.85%\n",
       "</td></tr>\n",
       "<tr>\n",
       "<td>3</td>\n",
       "<td><b><a href=\"/wiki/English_language\" title=\"English language\">English</a></b></td>\n",
       "<td>365 (360)</td>\n",
       "<td>5.52%\n",
       "</td></tr>\n",
       "<tr>\n",
       "<td>4</td>\n",
       "<td><b><a class=\"mw-redirect\" href=\"/wiki/Hindi_language\" title=\"Hindi language\">Hindi</a></b><sup class=\"reference\" id=\"cite_ref-13\"><a href=\"#cite_note-13\">[a]</a></sup></td>\n",
       "<td>295 (310)</td>\n",
       "<td>4.46%\n",
       "</td></tr>\n",
       "<tr>\n",
       "<td>5</td>\n",
       "<td><b><a class=\"mw-redirect\" href=\"/wiki/Arabic_language\" title=\"Arabic language\">Arabic</a></b></td>\n",
       "<td>280 (295)</td>\n",
       "<td>4.23%\n",
       "</td></tr>\n",
       "<tr>\n",
       "<td>6</td>\n",
       "<td><b><a href=\"/wiki/Portuguese_language\" title=\"Portuguese language\">Portuguese</a></b></td>\n",
       "<td>205 (215)</td>\n",
       "<td>3.08%\n",
       "</td></tr>\n",
       "<tr>\n",
       "<td>7</td>\n",
       "<td><b><a href=\"/wiki/Bengali_language\" title=\"Bengali language\">Bengali</a></b></td>\n",
       "<td>200 (205)</td>\n",
       "<td>3.05%\n",
       "</td></tr>\n",
       "<tr>\n",
       "<td>8</td>\n",
       "<td><b><a href=\"/wiki/Russian_language\" title=\"Russian language\">Russian</a></b></td>\n",
       "<td>160 (155)</td>\n",
       "<td>2.42%\n",
       "</td></tr>\n",
       "<tr>\n",
       "<td>9</td>\n",
       "<td><b><a href=\"/wiki/Japanese_language\" title=\"Japanese language\">Japanese</a></b></td>\n",
       "<td>125 (125)</td>\n",
       "<td>1.92%\n",
       "</td></tr>\n",
       "<tr>\n",
       "<td>10</td>\n",
       "<td><b><a href=\"/wiki/Punjabi_language\" title=\"Punjabi language\">Punjabi</a></b></td>\n",
       "<td>95 (100)</td>\n",
       "<td>1.44%\n",
       "</td></tr>\n",
       "<tr>\n",
       "<td>11</td>\n",
       "<td><b><a href=\"/wiki/German_language\" title=\"German language\">German</a></b></td>\n",
       "<td>92 (95)</td>\n",
       "<td>1.39%\n",
       "</td></tr>\n",
       "<tr>\n",
       "<td>12</td>\n",
       "<td><b><a href=\"/wiki/Javanese_language\" title=\"Javanese language\">Javanese</a></b></td>\n",
       "<td>82</td>\n",
       "<td>1.25%\n",
       "</td></tr>\n",
       "<tr>\n",
       "<td>13</td>\n",
       "<td><b><a href=\"/wiki/Wu_Chinese\" title=\"Wu Chinese\">Wu</a></b> (inc. <a href=\"/wiki/Shanghainese\" title=\"Shanghainese\">Shanghainese</a>)</td>\n",
       "<td>80</td>\n",
       "<td>1.20%\n",
       "</td></tr>\n",
       "<tr>\n",
       "<td>14</td>\n",
       "<td><b><a href=\"/wiki/Malay_language\" title=\"Malay language\">Malay</a></b> (inc. <a href=\"/wiki/Indonesian_language\" title=\"Indonesian language\">Indonesian</a> and <a href=\"/wiki/Malaysian_language\" title=\"Malaysian language\">Malaysian</a>)</td>\n",
       "<td>77</td>\n",
       "<td>1.16%\n",
       "</td></tr>\n",
       "<tr>\n",
       "<td>15</td>\n",
       "<td><b><a href=\"/wiki/Telugu_language\" title=\"Telugu language\">Telugu</a></b></td>\n",
       "<td>76</td>\n",
       "<td>1.15%\n",
       "</td></tr>\n",
       "<tr>\n",
       "<td>16</td>\n",
       "<td><b><a href=\"/wiki/Vietnamese_language\" title=\"Vietnamese language\">Vietnamese</a></b></td>\n",
       "<td>76</td>\n",
       "<td>1.14%\n",
       "</td></tr>\n",
       "<tr>\n",
       "<td>17</td>\n",
       "<td><b><a href=\"/wiki/Korean_language\" title=\"Korean language\">Korean</a></b></td>\n",
       "<td>76</td>\n",
       "<td>1.14%\n",
       "</td></tr>\n",
       "<tr>\n",
       "<td>18</td>\n",
       "<td><b><a href=\"/wiki/French_language\" title=\"French language\">French</a></b></td>\n",
       "<td>75</td>\n",
       "<td>1.12%\n",
       "</td></tr>\n",
       "<tr>\n",
       "<td>19</td>\n",
       "<td><b><a href=\"/wiki/Marathi_language\" title=\"Marathi language\">Marathi</a></b></td>\n",
       "<td>73</td>\n",
       "<td>1.10%\n",
       "</td></tr>\n",
       "<tr>\n",
       "<td>20</td>\n",
       "<td><b><a href=\"/wiki/Tamil_language\" title=\"Tamil language\">Tamil</a></b></td>\n",
       "<td>70</td>\n",
       "<td>1.06%\n",
       "</td></tr>\n",
       "<tr>\n",
       "<td>21</td>\n",
       "<td><b><a href=\"/wiki/Urdu\" title=\"Urdu\">Urdu</a></b></td>\n",
       "<td>66</td>\n",
       "<td>0.99%\n",
       "</td></tr>\n",
       "<tr>\n",
       "<td>22</td>\n",
       "<td><b><a href=\"/wiki/Turkish_language\" title=\"Turkish language\">Turkish</a></b></td>\n",
       "<td>63</td>\n",
       "<td>0.95%\n",
       "</td></tr>\n",
       "<tr>\n",
       "<td>23</td>\n",
       "<td><b><a href=\"/wiki/Italian_language\" title=\"Italian language\">Italian</a></b></td>\n",
       "<td>59</td>\n",
       "<td>0.90%\n",
       "</td></tr>\n",
       "<tr>\n",
       "<td>24</td>\n",
       "<td><b><a href=\"/wiki/Yue_Chinese\" title=\"Yue Chinese\">Yue</a></b> (inc. <a href=\"/wiki/Cantonese\" title=\"Cantonese\">Cantonese</a>)</td>\n",
       "<td>59</td>\n",
       "<td>0.89%\n",
       "</td></tr>\n",
       "<tr>\n",
       "<td>25</td>\n",
       "<td><b><a href=\"/wiki/Thai_language\" title=\"Thai language\">Thai</a></b></td>\n",
       "<td>56</td>\n",
       "<td>0.85%\n",
       "</td></tr>\n",
       "<tr>\n",
       "<td>26</td>\n",
       "<td><b><a href=\"/wiki/Gujarati_language\" title=\"Gujarati language\">Gujarati</a></b></td>\n",
       "<td>49</td>\n",
       "<td>0.74%\n",
       "</td></tr>\n",
       "<tr>\n",
       "<td>27</td>\n",
       "<td><b><a href=\"/wiki/Jin_Chinese\" title=\"Jin Chinese\">Jin</a></b></td>\n",
       "<td>48</td>\n",
       "<td>0.72%\n",
       "</td></tr>\n",
       "<tr>\n",
       "<td>28</td>\n",
       "<td><b><a href=\"/wiki/Southern_Min\" title=\"Southern Min\">Southern Min</a></b> (inc. <a class=\"mw-redirect\" href=\"/wiki/Hokkien_language\" title=\"Hokkien language\">Hokkien</a> and <a class=\"mw-redirect\" href=\"/wiki/Teochew_language\" title=\"Teochew language\">Teochew</a>)</td>\n",
       "<td>47</td>\n",
       "<td>0.71%\n",
       "</td></tr>\n",
       "<tr>\n",
       "<td>29</td>\n",
       "<td><b><a href=\"/wiki/Persian_language\" title=\"Persian language\">Persian</a></b></td>\n",
       "<td>45</td>\n",
       "<td>0.68%\n",
       "</td></tr>\n",
       "<tr>\n",
       "<td>30</td>\n",
       "<td><b><a href=\"/wiki/Polish_language\" title=\"Polish language\">Polish</a></b></td>\n",
       "<td>40</td>\n",
       "<td>0.61%\n",
       "</td></tr>\n",
       "<tr>\n",
       "<td>31</td>\n",
       "<td><b><a class=\"mw-redirect\" href=\"/wiki/Pashto_language\" title=\"Pashto language\">Pashto</a></b></td>\n",
       "<td>39</td>\n",
       "<td>0.58%\n",
       "</td></tr>\n",
       "<tr>\n",
       "<td>32</td>\n",
       "<td><b><a class=\"mw-redirect\" href=\"/wiki/Kannada_language\" title=\"Kannada language\">Kannada</a></b></td>\n",
       "<td>38</td>\n",
       "<td>0.58%\n",
       "</td></tr>\n",
       "<tr>\n",
       "<td>33</td>\n",
       "<td><b><a href=\"/wiki/Xiang_Chinese\" title=\"Xiang Chinese\">Xiang</a></b></td>\n",
       "<td>38</td>\n",
       "<td>0.58%\n",
       "</td></tr>\n",
       "<tr>\n",
       "<td>34</td>\n",
       "<td><b><a class=\"mw-redirect\" href=\"/wiki/Malayalam_language\" title=\"Malayalam language\">Malayalam</a></b></td>\n",
       "<td>38</td>\n",
       "<td>0.57%\n",
       "</td></tr>\n",
       "<tr>\n",
       "<td>35</td>\n",
       "<td><b><a href=\"/wiki/Sundanese_language\" title=\"Sundanese language\">Sundanese</a></b></td>\n",
       "<td>38</td>\n",
       "<td>0.57%\n",
       "</td></tr>\n",
       "<tr>\n",
       "<td>36</td>\n",
       "<td><b><a href=\"/wiki/Hausa_language\" title=\"Hausa language\">Hausa</a></b></td>\n",
       "<td>34</td>\n",
       "<td>0.52%\n",
       "</td></tr>\n",
       "<tr>\n",
       "<td>37</td>\n",
       "<td><b><a href=\"/wiki/Odia_language\" title=\"Odia language\">Odia</a></b> (Oriya)</td>\n",
       "<td>33</td>\n",
       "<td>0.50%\n",
       "</td></tr>\n",
       "<tr>\n",
       "<td>38</td>\n",
       "<td><b><a href=\"/wiki/Burmese_language\" title=\"Burmese language\">Burmese</a></b></td>\n",
       "<td>33</td>\n",
       "<td>0.50%\n",
       "</td></tr>\n",
       "<tr>\n",
       "<td>39</td>\n",
       "<td><b><a href=\"/wiki/Hakka_Chinese\" title=\"Hakka Chinese\">Hakka</a></b></td>\n",
       "<td>31</td>\n",
       "<td>0.46%\n",
       "</td></tr>\n",
       "<tr>\n",
       "<td>40</td>\n",
       "<td><b><a href=\"/wiki/Ukrainian_language\" title=\"Ukrainian language\">Ukrainian</a></b></td>\n",
       "<td>30</td>\n",
       "<td>0.46%\n",
       "</td></tr>\n",
       "<tr>\n",
       "<td>41</td>\n",
       "<td><b><a href=\"/wiki/Bhojpuri_language\" title=\"Bhojpuri language\">Bhojpuri</a></b></td>\n",
       "<td>29<sup class=\"reference\" id=\"cite_ref-Hindi_14-0\"><a href=\"#cite_note-Hindi-14\">[b]</a></sup></td>\n",
       "<td>0.43%\n",
       "</td></tr>\n",
       "<tr>\n",
       "<td>42</td>\n",
       "<td><b><a href=\"/wiki/Tagalog_language\" title=\"Tagalog language\">Tagalog</a></b> (<a href=\"/wiki/Filipino_language\" title=\"Filipino language\">Filipino</a>)</td>\n",
       "<td>28</td>\n",
       "<td>0.42%\n",
       "</td></tr>\n",
       "<tr>\n",
       "<td>43</td>\n",
       "<td><b><a href=\"/wiki/Yoruba_language\" title=\"Yoruba language\">Yoruba</a></b></td>\n",
       "<td>28</td>\n",
       "<td>0.42%\n",
       "</td></tr>\n",
       "<tr>\n",
       "<td>44</td>\n",
       "<td><b><a href=\"/wiki/Maithili_language\" title=\"Maithili language\">Maithili</a></b></td>\n",
       "<td>27<sup class=\"reference\" id=\"cite_ref-Hindi_14-1\"><a href=\"#cite_note-Hindi-14\">[b]</a></sup></td>\n",
       "<td>0.41%\n",
       "</td></tr>\n",
       "<tr>\n",
       "<td>45</td>\n",
       "<td><b><a href=\"/wiki/Uzbek_language\" title=\"Uzbek language\">Uzbek</a></b></td>\n",
       "<td>26</td>\n",
       "<td>0.39%\n",
       "</td></tr>\n",
       "<tr>\n",
       "<td>46</td>\n",
       "<td><b><a href=\"/wiki/Sindhi_language\" title=\"Sindhi language\">Sindhi</a></b></td>\n",
       "<td>26</td>\n",
       "<td>0.39%\n",
       "</td></tr>\n",
       "<tr>\n",
       "<td>47</td>\n",
       "<td><b><a class=\"mw-redirect\" href=\"/wiki/Amharic_language\" title=\"Amharic language\">Amharic</a></b></td>\n",
       "<td>25</td>\n",
       "<td>0.37%\n",
       "</td></tr>\n",
       "<tr>\n",
       "<td>48</td>\n",
       "<td><b><a href=\"/wiki/Fula_language\" title=\"Fula language\">Fula</a></b></td>\n",
       "<td>24</td>\n",
       "<td>0.37%\n",
       "</td></tr>\n",
       "<tr>\n",
       "<td>49</td>\n",
       "<td><b><a href=\"/wiki/Romanian_language\" title=\"Romanian language\">Romanian</a></b></td>\n",
       "<td>24</td>\n",
       "<td>0.37%\n",
       "</td></tr>\n",
       "<tr>\n",
       "<td>50</td>\n",
       "<td><b><a href=\"/wiki/Oromo_language\" title=\"Oromo language\">Oromo</a></b></td>\n",
       "<td>24</td>\n",
       "<td>0.36%\n",
       "</td></tr>\n",
       "<tr>\n",
       "<td>51</td>\n",
       "<td><b><a href=\"/wiki/Igbo_language\" title=\"Igbo language\">Igbo</a></b></td>\n",
       "<td>24</td>\n",
       "<td>0.36%\n",
       "</td></tr>\n",
       "<tr>\n",
       "<td>52</td>\n",
       "<td><b><a href=\"/wiki/Azerbaijani_language\" title=\"Azerbaijani language\">Azerbaijani</a></b></td>\n",
       "<td>23</td>\n",
       "<td>0.34%\n",
       "</td></tr>\n",
       "<tr>\n",
       "<td>53</td>\n",
       "<td><b><a class=\"mw-redirect\" href=\"/wiki/Awadhi\" title=\"Awadhi\">Awadhi</a></b></td>\n",
       "<td>22<sup class=\"reference\" id=\"cite_ref-Hindi_14-2\"><a href=\"#cite_note-Hindi-14\">[b]</a></sup></td>\n",
       "<td>0.33%\n",
       "</td></tr>\n",
       "<tr>\n",
       "<td>54</td>\n",
       "<td><b><a href=\"/wiki/Gan_Chinese\" title=\"Gan Chinese\">Gan</a></b></td>\n",
       "<td>22</td>\n",
       "<td>0.33%\n",
       "</td></tr>\n",
       "<tr>\n",
       "<td>55</td>\n",
       "<td><b><a href=\"/wiki/Cebuano_language\" title=\"Cebuano language\">Cebuano</a></b> (Visayan)</td>\n",
       "<td>21</td>\n",
       "<td>0.32%\n",
       "</td></tr>\n",
       "<tr>\n",
       "<td>56</td>\n",
       "<td><b><a href=\"/wiki/Dutch_language\" title=\"Dutch language\">Dutch</a></b></td>\n",
       "<td>21</td>\n",
       "<td>0.32%\n",
       "</td></tr>\n",
       "<tr>\n",
       "<td>57</td>\n",
       "<td><b><a class=\"mw-redirect\" href=\"/wiki/Kurdish_language\" title=\"Kurdish language\">Kurdish</a></b></td>\n",
       "<td>21</td>\n",
       "<td>0.31%\n",
       "</td></tr>\n",
       "<tr>\n",
       "<td>58</td>\n",
       "<td><b><a href=\"/wiki/Serbo-Croatian\" title=\"Serbo-Croatian\">Serbo-Croatian</a></b></td>\n",
       "<td>19</td>\n",
       "<td>0.28%\n",
       "</td></tr>\n",
       "<tr>\n",
       "<td>59</td>\n",
       "<td><b><a href=\"/wiki/Malagasy_language\" title=\"Malagasy language\">Malagasy</a></b></td>\n",
       "<td>18</td>\n",
       "<td>0.28%\n",
       "</td></tr>\n",
       "<tr>\n",
       "<td>60</td>\n",
       "<td><b><a href=\"/wiki/Saraiki_language\" title=\"Saraiki language\">Saraiki</a></b></td>\n",
       "<td>17<sup class=\"reference\" id=\"cite_ref-15\"><a href=\"#cite_note-15\">[c]</a></sup></td>\n",
       "<td>0.26%\n",
       "</td></tr>\n",
       "<tr>\n",
       "<td>61</td>\n",
       "<td><b><a href=\"/wiki/Nepali_language\" title=\"Nepali language\">Nepali</a></b></td>\n",
       "<td>17</td>\n",
       "<td>0.25%\n",
       "</td></tr>\n",
       "<tr>\n",
       "<td>62</td>\n",
       "<td><b><a href=\"/wiki/Sinhala_language\" title=\"Sinhala language\">Sinhala</a></b></td>\n",
       "<td>16</td>\n",
       "<td>0.25%\n",
       "</td></tr>\n",
       "<tr>\n",
       "<td>63</td>\n",
       "<td><b><a href=\"/wiki/Chittagonian_language\" title=\"Chittagonian language\">Chittagonian</a></b></td>\n",
       "<td>16</td>\n",
       "<td>0.24%\n",
       "</td></tr>\n",
       "<tr>\n",
       "<td>64</td>\n",
       "<td><b><a href=\"/wiki/Zhuang_languages\" title=\"Zhuang languages\">Zhuang</a></b></td>\n",
       "<td>16</td>\n",
       "<td>0.24%\n",
       "</td></tr>\n",
       "<tr>\n",
       "<td>65</td>\n",
       "<td><b><a href=\"/wiki/Khmer_language\" title=\"Khmer language\">Khmer</a></b></td>\n",
       "<td>16</td>\n",
       "<td>0.24%\n",
       "</td></tr>\n",
       "<tr>\n",
       "<td>66</td>\n",
       "<td><b><a href=\"/wiki/Turkmen_language\" title=\"Turkmen language\">Turkmen</a></b></td>\n",
       "<td>16</td>\n",
       "<td>0.24%\n",
       "</td></tr>\n",
       "<tr>\n",
       "<td>67</td>\n",
       "<td><b><a href=\"/wiki/Assamese_language\" title=\"Assamese language\">Assamese</a></b></td>\n",
       "<td>15</td>\n",
       "<td>0.23%\n",
       "</td></tr>\n",
       "<tr>\n",
       "<td>68</td>\n",
       "<td><b><a href=\"/wiki/Madurese_language\" title=\"Madurese language\">Madurese</a></b></td>\n",
       "<td>15</td>\n",
       "<td>0.23%\n",
       "</td></tr>\n",
       "<tr>\n",
       "<td>69</td>\n",
       "<td><b><a href=\"/wiki/Somali_language\" title=\"Somali language\">Somali</a></b></td>\n",
       "<td>15</td>\n",
       "<td>0.22%\n",
       "</td></tr>\n",
       "<tr>\n",
       "<td>70</td>\n",
       "<td><b><a href=\"/wiki/Marwari_language\" title=\"Marwari language\">Marwari</a></b></td>\n",
       "<td>14<sup class=\"reference\" id=\"cite_ref-Hindi_14-3\"><a href=\"#cite_note-Hindi-14\">[b]</a></sup></td>\n",
       "<td>0.21%\n",
       "</td></tr>\n",
       "<tr>\n",
       "<td>71</td>\n",
       "<td><b><a href=\"/wiki/Magahi_language\" title=\"Magahi language\">Magahi</a></b></td>\n",
       "<td>14<sup class=\"reference\" id=\"cite_ref-Hindi_14-4\"><a href=\"#cite_note-Hindi-14\">[b]</a></sup></td>\n",
       "<td>0.21%\n",
       "</td></tr>\n",
       "<tr>\n",
       "<td>72</td>\n",
       "<td><b><a href=\"/wiki/Haryanvi_language\" title=\"Haryanvi language\">Haryanvi</a></b></td>\n",
       "<td>14<sup class=\"reference\" id=\"cite_ref-Hindi_14-5\"><a href=\"#cite_note-Hindi-14\">[b]</a></sup></td>\n",
       "<td>0.21%\n",
       "</td></tr>\n",
       "<tr>\n",
       "<td>73</td>\n",
       "<td><b><a href=\"/wiki/Hungarian_language\" title=\"Hungarian language\">Hungarian</a></b></td>\n",
       "<td>13</td>\n",
       "<td>0.19%\n",
       "</td></tr>\n",
       "<tr>\n",
       "<td>74</td>\n",
       "<td><b><a href=\"/wiki/Chhattisgarhi_language\" title=\"Chhattisgarhi language\">Chhattisgarhi</a></b></td>\n",
       "<td>12<sup class=\"reference\" id=\"cite_ref-Hindi_14-6\"><a href=\"#cite_note-Hindi-14\">[b]</a></sup></td>\n",
       "<td>0.19%\n",
       "</td></tr>\n",
       "<tr>\n",
       "<td>75</td>\n",
       "<td><b><a href=\"/wiki/Greek_language\" title=\"Greek language\">Greek</a></b></td>\n",
       "<td>12</td>\n",
       "<td>0.18%\n",
       "</td></tr>\n",
       "<tr>\n",
       "<td>76</td>\n",
       "<td><b><a href=\"/wiki/Chewa_language\" title=\"Chewa language\">Chewa</a></b></td>\n",
       "<td>12</td>\n",
       "<td>0.17%\n",
       "</td></tr>\n",
       "<tr>\n",
       "<td>77</td>\n",
       "<td><b><a class=\"mw-redirect\" href=\"/wiki/Deccan_language\" title=\"Deccan language\">Deccan</a></b></td>\n",
       "<td>11</td>\n",
       "<td>0.17%\n",
       "</td></tr>\n",
       "<tr>\n",
       "<td>78</td>\n",
       "<td><b><a href=\"/wiki/Akan_language\" title=\"Akan language\">Akan</a></b></td>\n",
       "<td>11</td>\n",
       "<td>0.17%\n",
       "</td></tr>\n",
       "<tr>\n",
       "<td>79</td>\n",
       "<td><b><a href=\"/wiki/Kazakh_language\" title=\"Kazakh language\">Kazakh</a></b></td>\n",
       "<td>11</td>\n",
       "<td>0.17%\n",
       "</td></tr>\n",
       "<tr>\n",
       "<td>80</td>\n",
       "<td><b><a href=\"/wiki/Northern_Min\" title=\"Northern Min\">Northern Min</a></b><sup class=\"noprint Inline-Template\" style=\"white-space:nowrap;\">[<i><a class=\"mw-redirect\" href=\"/wiki/Wikipedia:Disputed_statement\" title=\"Wikipedia:Disputed statement\"><span title=\"This claim has reliable sources with contradicting facts (January 2017)\">disputed</span></a> <span class=\"metadata\"> – <a href=\"/wiki/Talk:List_of_languages_by_number_of_native_speakers#Northern_Min\" title=\"Talk:List of languages by number of native speakers\">discuss</a></span></i>]</sup></td>\n",
       "<td>10.9</td>\n",
       "<td>0.16%\n",
       "</td></tr>\n",
       "<tr>\n",
       "<td>81</td>\n",
       "<td><b><a href=\"/wiki/Sylheti_language\" title=\"Sylheti language\">Sylheti</a></b></td>\n",
       "<td>10.7</td>\n",
       "<td>0.16%\n",
       "</td></tr>\n",
       "<tr>\n",
       "<td>82</td>\n",
       "<td><b><a href=\"/wiki/Zulu_language\" title=\"Zulu language\">Zulu</a></b></td>\n",
       "<td>10.4</td>\n",
       "<td>0.16%\n",
       "</td></tr>\n",
       "<tr>\n",
       "<td>83</td>\n",
       "<td><b><a href=\"/wiki/Czech_language\" title=\"Czech language\">Czech</a></b></td>\n",
       "<td>10.0</td>\n",
       "<td>0.15%\n",
       "</td></tr>\n",
       "<tr>\n",
       "<td>84</td>\n",
       "<td><b><a href=\"/wiki/Kinyarwanda\" title=\"Kinyarwanda\">Kinyarwanda</a></b></td>\n",
       "<td>9.8</td>\n",
       "<td>0.15%\n",
       "</td></tr>\n",
       "<tr>\n",
       "<td>85</td>\n",
       "<td><b><a href=\"/wiki/Dhundari_language\" title=\"Dhundari language\">Dhundhari</a></b></td>\n",
       "<td>9.6<sup class=\"reference\" id=\"cite_ref-Hindi_14-7\"><a href=\"#cite_note-Hindi-14\">[b]</a></sup></td>\n",
       "<td>0.15%\n",
       "</td></tr>\n",
       "<tr>\n",
       "<td>86</td>\n",
       "<td><b><a href=\"/wiki/Haitian_Creole\" title=\"Haitian Creole\">Haitian Creole</a></b></td>\n",
       "<td>9.6</td>\n",
       "<td>0.15%\n",
       "</td></tr>\n",
       "<tr>\n",
       "<td>87</td>\n",
       "<td><b><a href=\"/wiki/Eastern_Min\" title=\"Eastern Min\">Eastern Min</a></b> (inc. <a href=\"/wiki/Fuzhou_dialect\" title=\"Fuzhou dialect\">Fuzhou dialect</a>)</td>\n",
       "<td>9.5</td>\n",
       "<td>0.14%\n",
       "</td></tr>\n",
       "<tr>\n",
       "<td>88</td>\n",
       "<td><b><a href=\"/wiki/Ilocano_language\" title=\"Ilocano language\">Ilocano</a></b></td>\n",
       "<td>9.1</td>\n",
       "<td>0.14%\n",
       "</td></tr>\n",
       "<tr>\n",
       "<td>89</td>\n",
       "<td><b><a class=\"mw-redirect\" href=\"/wiki/Quechua_languages\" title=\"Quechua languages\">Quechua</a></b></td>\n",
       "<td>8.9</td>\n",
       "<td>0.13%\n",
       "</td></tr>\n",
       "<tr>\n",
       "<td>90</td>\n",
       "<td><b><a href=\"/wiki/Kirundi\" title=\"Kirundi\">Kirundi</a></b></td>\n",
       "<td>8.8</td>\n",
       "<td>0.13%\n",
       "</td></tr>\n",
       "<tr>\n",
       "<td>91</td>\n",
       "<td><b><a href=\"/wiki/Swedish_language\" title=\"Swedish language\">Swedish</a></b></td>\n",
       "<td>8.7</td>\n",
       "<td>0.13%\n",
       "</td></tr>\n",
       "<tr>\n",
       "<td>92</td>\n",
       "<td><b><a href=\"/wiki/Hmong_language\" title=\"Hmong language\">Hmong</a></b></td>\n",
       "<td>8.4</td>\n",
       "<td>0.13%\n",
       "</td></tr>\n",
       "<tr>\n",
       "<td>93</td>\n",
       "<td><b><a href=\"/wiki/Shona_language\" title=\"Shona language\">Shona</a></b></td>\n",
       "<td>8.3</td>\n",
       "<td>0.13%\n",
       "</td></tr>\n",
       "<tr>\n",
       "<td>94</td>\n",
       "<td><b><a href=\"/wiki/Uyghur_language\" title=\"Uyghur language\">Uyghur</a></b></td>\n",
       "<td>8.2</td>\n",
       "<td>0.12%\n",
       "</td></tr>\n",
       "<tr>\n",
       "<td>95</td>\n",
       "<td><b><a href=\"/wiki/Hiligaynon_language\" title=\"Hiligaynon language\">Hiligaynon/Ilonggo</a></b> (Visayan)</td>\n",
       "<td>8.2</td>\n",
       "<td>0.12%\n",
       "</td></tr>\n",
       "<tr>\n",
       "<td>96</td>\n",
       "<td><b><a href=\"/wiki/Mossi_language\" title=\"Mossi language\">Mossi</a></b></td>\n",
       "<td>7.6</td>\n",
       "<td>0.11%\n",
       "</td></tr>\n",
       "<tr>\n",
       "<td>97</td>\n",
       "<td><b><a href=\"/wiki/Xhosa_language\" title=\"Xhosa language\">Xhosa</a></b></td>\n",
       "<td>7.6</td>\n",
       "<td>0.11%\n",
       "</td></tr>\n",
       "<tr>\n",
       "<td>98</td>\n",
       "<td><b><a href=\"/wiki/Belarusian_language\" title=\"Belarusian language\">Belarusian</a></b></td>\n",
       "<td>7.6<sup class=\"reference\" id=\"cite_ref-16\"><a href=\"#cite_note-16\">[d]</a></sup></td>\n",
       "<td>0.11%\n",
       "</td></tr>\n",
       "<tr>\n",
       "<td>99</td>\n",
       "<td><b><a href=\"/wiki/Balochi_language\" title=\"Balochi language\">Balochi</a></b></td>\n",
       "<td>7.6</td>\n",
       "<td>0.11%\n",
       "</td></tr>\n",
       "<tr>\n",
       "<td>100</td>\n",
       "<td><b><a href=\"/wiki/Konkani_language\" title=\"Konkani language\">Konkani</a></b></td>\n",
       "<td>7.4</td>\n",
       "<td>0.11%\n",
       "</td></tr>\n",
       "<tr>\n",
       "<th>Total\n",
       "</th>\n",
       "<td></td>\n",
       "<td><b>5,610</b></td>\n",
       "<td><b>85%</b>\n",
       "</td></tr></tbody></table>"
      ]
     },
     "execution_count": 60,
     "metadata": {},
     "output_type": "execute_result"
    }
   ],
   "source": [
    "native[2]"
   ]
  },
  {
   "cell_type": "code",
   "execution_count": 61,
   "metadata": {},
   "outputs": [],
   "source": [
    "df = pd.read_html(resp)"
   ]
  },
  {
   "cell_type": "code",
   "execution_count": 62,
   "metadata": {},
   "outputs": [
    {
     "data": {
      "text/html": [
       "<div>\n",
       "<style scoped>\n",
       "    .dataframe tbody tr th:only-of-type {\n",
       "        vertical-align: middle;\n",
       "    }\n",
       "\n",
       "    .dataframe tbody tr th {\n",
       "        vertical-align: top;\n",
       "    }\n",
       "\n",
       "    .dataframe thead th {\n",
       "        text-align: right;\n",
       "    }\n",
       "</style>\n",
       "<table border=\"1\" class=\"dataframe\">\n",
       "  <thead>\n",
       "    <tr style=\"text-align: right;\">\n",
       "      <th></th>\n",
       "      <th>Rank</th>\n",
       "      <th>Language</th>\n",
       "      <th>Speakers(millions)</th>\n",
       "      <th>% of the World population (March 2019)[8]</th>\n",
       "      <th>Language familyBranch</th>\n",
       "    </tr>\n",
       "  </thead>\n",
       "  <tbody>\n",
       "    <tr>\n",
       "      <th>0</th>\n",
       "      <td>1</td>\n",
       "      <td>Mandarin Chinese</td>\n",
       "      <td>918.0</td>\n",
       "      <td>11.922</td>\n",
       "      <td>Sino-TibetanSinitic</td>\n",
       "    </tr>\n",
       "    <tr>\n",
       "      <th>1</th>\n",
       "      <td>2</td>\n",
       "      <td>Spanish</td>\n",
       "      <td>480.0</td>\n",
       "      <td>5.994</td>\n",
       "      <td>Indo-EuropeanRomance</td>\n",
       "    </tr>\n",
       "    <tr>\n",
       "      <th>2</th>\n",
       "      <td>3</td>\n",
       "      <td>English</td>\n",
       "      <td>379.0</td>\n",
       "      <td>4.922</td>\n",
       "      <td>Indo-EuropeanGermanic</td>\n",
       "    </tr>\n",
       "    <tr>\n",
       "      <th>3</th>\n",
       "      <td>4</td>\n",
       "      <td>Hindi (Sanskritised Hindustani)[9]</td>\n",
       "      <td>341.0</td>\n",
       "      <td>4.429</td>\n",
       "      <td>Indo-EuropeanIndo-Aryan</td>\n",
       "    </tr>\n",
       "    <tr>\n",
       "      <th>4</th>\n",
       "      <td>5</td>\n",
       "      <td>Bengali</td>\n",
       "      <td>228.0</td>\n",
       "      <td>2.961</td>\n",
       "      <td>Indo-EuropeanIndo-Aryan</td>\n",
       "    </tr>\n",
       "    <tr>\n",
       "      <th>5</th>\n",
       "      <td>6</td>\n",
       "      <td>Portuguese</td>\n",
       "      <td>221.0</td>\n",
       "      <td>2.870</td>\n",
       "      <td>Indo-EuropeanRomance</td>\n",
       "    </tr>\n",
       "    <tr>\n",
       "      <th>6</th>\n",
       "      <td>7</td>\n",
       "      <td>Russian</td>\n",
       "      <td>154.0</td>\n",
       "      <td>2.000</td>\n",
       "      <td>Indo-EuropeanBalto-Slavic</td>\n",
       "    </tr>\n",
       "    <tr>\n",
       "      <th>7</th>\n",
       "      <td>8</td>\n",
       "      <td>Japanese</td>\n",
       "      <td>128.0</td>\n",
       "      <td>1.662</td>\n",
       "      <td>JaponicJapanese</td>\n",
       "    </tr>\n",
       "    <tr>\n",
       "      <th>8</th>\n",
       "      <td>9</td>\n",
       "      <td>Western Punjabi[10]</td>\n",
       "      <td>92.7</td>\n",
       "      <td>1.204</td>\n",
       "      <td>Indo-EuropeanIndo-Aryan</td>\n",
       "    </tr>\n",
       "    <tr>\n",
       "      <th>9</th>\n",
       "      <td>10</td>\n",
       "      <td>Marathi</td>\n",
       "      <td>83.1</td>\n",
       "      <td>1.079</td>\n",
       "      <td>Indo-EuropeanIndo-Aryan</td>\n",
       "    </tr>\n",
       "  </tbody>\n",
       "</table>\n",
       "</div>"
      ],
      "text/plain": [
       "   Rank                            Language  Speakers(millions)  \\\n",
       "0     1                    Mandarin Chinese               918.0   \n",
       "1     2                             Spanish               480.0   \n",
       "2     3                             English               379.0   \n",
       "3     4  Hindi (Sanskritised Hindustani)[9]               341.0   \n",
       "4     5                             Bengali               228.0   \n",
       "5     6                          Portuguese               221.0   \n",
       "6     7                             Russian               154.0   \n",
       "7     8                            Japanese               128.0   \n",
       "8     9                 Western Punjabi[10]                92.7   \n",
       "9    10                             Marathi                83.1   \n",
       "\n",
       "   % of the World population (March 2019)[8]      Language familyBranch  \n",
       "0                                     11.922        Sino-TibetanSinitic  \n",
       "1                                      5.994       Indo-EuropeanRomance  \n",
       "2                                      4.922      Indo-EuropeanGermanic  \n",
       "3                                      4.429    Indo-EuropeanIndo-Aryan  \n",
       "4                                      2.961    Indo-EuropeanIndo-Aryan  \n",
       "5                                      2.870       Indo-EuropeanRomance  \n",
       "6                                      2.000  Indo-EuropeanBalto-Slavic  \n",
       "7                                      1.662            JaponicJapanese  \n",
       "8                                      1.204    Indo-EuropeanIndo-Aryan  \n",
       "9                                      1.079    Indo-EuropeanIndo-Aryan  "
      ]
     },
     "execution_count": 62,
     "metadata": {},
     "output_type": "execute_result"
    }
   ],
   "source": [
    "df[0].head(10)"
   ]
  },
  {
   "cell_type": "markdown",
   "metadata": {},
   "source": [
    "### BONUS QUESTIONS"
   ]
  },
  {
   "cell_type": "markdown",
   "metadata": {},
   "source": [
    "#### Scrape a certain number of tweets of a given Twitter account."
   ]
  },
  {
   "cell_type": "code",
   "execution_count": 63,
   "metadata": {},
   "outputs": [],
   "source": [
    "# This is the url you will scrape in this exercise \n",
    "# You will need to add the account credentials to this url\n",
    "url = 'https://twitter.com/'"
   ]
  },
  {
   "cell_type": "code",
   "execution_count": 64,
   "metadata": {},
   "outputs": [],
   "source": [
    "# your code"
   ]
  },
  {
   "cell_type": "markdown",
   "metadata": {},
   "source": [
    "#### IMDB's Top 250 data (movie name, Initial release, director name and stars) as a pandas dataframe"
   ]
  },
  {
   "cell_type": "code",
   "execution_count": 65,
   "metadata": {},
   "outputs": [],
   "source": [
    "# This is the url you will scrape in this exercise \n",
    "url = 'https://www.imdb.com/chart/top'"
   ]
  },
  {
   "cell_type": "code",
   "execution_count": 66,
   "metadata": {},
   "outputs": [],
   "source": [
    "resp = requests.get(url).content\n",
    "soup = bs(resp,'lxml')\n"
   ]
  },
  {
   "cell_type": "code",
   "execution_count": 67,
   "metadata": {},
   "outputs": [],
   "source": [
    "df = pd.read_html(resp)\n",
    "movies = df[0]"
   ]
  },
  {
   "cell_type": "code",
   "execution_count": 68,
   "metadata": {},
   "outputs": [
    {
     "data": {
      "text/html": [
       "<div>\n",
       "<style scoped>\n",
       "    .dataframe tbody tr th:only-of-type {\n",
       "        vertical-align: middle;\n",
       "    }\n",
       "\n",
       "    .dataframe tbody tr th {\n",
       "        vertical-align: top;\n",
       "    }\n",
       "\n",
       "    .dataframe thead th {\n",
       "        text-align: right;\n",
       "    }\n",
       "</style>\n",
       "<table border=\"1\" class=\"dataframe\">\n",
       "  <thead>\n",
       "    <tr style=\"text-align: right;\">\n",
       "      <th></th>\n",
       "      <th>Unnamed: 0</th>\n",
       "      <th>Rank &amp; Title</th>\n",
       "      <th>IMDb Rating</th>\n",
       "      <th>Your Rating</th>\n",
       "      <th>Unnamed: 4</th>\n",
       "    </tr>\n",
       "  </thead>\n",
       "  <tbody>\n",
       "    <tr>\n",
       "      <th>0</th>\n",
       "      <td>NaN</td>\n",
       "      <td>1.  Sueños de libertad  (1994)</td>\n",
       "      <td>9.2</td>\n",
       "      <td>12345678910 NOT YET RELEASED  Seen</td>\n",
       "      <td>NaN</td>\n",
       "    </tr>\n",
       "    <tr>\n",
       "      <th>1</th>\n",
       "      <td>NaN</td>\n",
       "      <td>2.  El Padrino  (1972)</td>\n",
       "      <td>9.1</td>\n",
       "      <td>12345678910 NOT YET RELEASED  Seen</td>\n",
       "      <td>NaN</td>\n",
       "    </tr>\n",
       "    <tr>\n",
       "      <th>2</th>\n",
       "      <td>NaN</td>\n",
       "      <td>3.  El padrino 2a parte  (1974)</td>\n",
       "      <td>9.0</td>\n",
       "      <td>12345678910 NOT YET RELEASED  Seen</td>\n",
       "      <td>NaN</td>\n",
       "    </tr>\n",
       "    <tr>\n",
       "      <th>3</th>\n",
       "      <td>NaN</td>\n",
       "      <td>4.  Batman: El Caballero de la Noche  (2008)</td>\n",
       "      <td>9.0</td>\n",
       "      <td>12345678910 NOT YET RELEASED  Seen</td>\n",
       "      <td>NaN</td>\n",
       "    </tr>\n",
       "    <tr>\n",
       "      <th>4</th>\n",
       "      <td>NaN</td>\n",
       "      <td>5.  12 hombres en pugna  (1957)</td>\n",
       "      <td>8.9</td>\n",
       "      <td>12345678910 NOT YET RELEASED  Seen</td>\n",
       "      <td>NaN</td>\n",
       "    </tr>\n",
       "    <tr>\n",
       "      <th>...</th>\n",
       "      <td>...</td>\n",
       "      <td>...</td>\n",
       "      <td>...</td>\n",
       "      <td>...</td>\n",
       "      <td>...</td>\n",
       "    </tr>\n",
       "    <tr>\n",
       "      <th>245</th>\n",
       "      <td>NaN</td>\n",
       "      <td>246.  PK  (2014)</td>\n",
       "      <td>8.0</td>\n",
       "      <td>12345678910 NOT YET RELEASED  Seen</td>\n",
       "      <td>NaN</td>\n",
       "    </tr>\n",
       "    <tr>\n",
       "      <th>246</th>\n",
       "      <td>NaN</td>\n",
       "      <td>247.  Aladdín  (1992)</td>\n",
       "      <td>8.0</td>\n",
       "      <td>12345678910 NOT YET RELEASED  Seen</td>\n",
       "      <td>NaN</td>\n",
       "    </tr>\n",
       "    <tr>\n",
       "      <th>247</th>\n",
       "      <td>NaN</td>\n",
       "      <td>248.  Alma negra  (1949)</td>\n",
       "      <td>8.0</td>\n",
       "      <td>12345678910 NOT YET RELEASED  Seen</td>\n",
       "      <td>NaN</td>\n",
       "    </tr>\n",
       "    <tr>\n",
       "      <th>248</th>\n",
       "      <td>NaN</td>\n",
       "      <td>249.  Trono de sangre  (1957)</td>\n",
       "      <td>8.0</td>\n",
       "      <td>12345678910 NOT YET RELEASED  Seen</td>\n",
       "      <td>NaN</td>\n",
       "    </tr>\n",
       "    <tr>\n",
       "      <th>249</th>\n",
       "      <td>NaN</td>\n",
       "      <td>250.  Sueño de invierno  (2014)</td>\n",
       "      <td>8.0</td>\n",
       "      <td>12345678910 NOT YET RELEASED  Seen</td>\n",
       "      <td>NaN</td>\n",
       "    </tr>\n",
       "  </tbody>\n",
       "</table>\n",
       "<p>250 rows × 5 columns</p>\n",
       "</div>"
      ],
      "text/plain": [
       "     Unnamed: 0                                  Rank & Title  IMDb Rating  \\\n",
       "0           NaN                1.  Sueños de libertad  (1994)          9.2   \n",
       "1           NaN                        2.  El Padrino  (1972)          9.1   \n",
       "2           NaN               3.  El padrino 2a parte  (1974)          9.0   \n",
       "3           NaN  4.  Batman: El Caballero de la Noche  (2008)          9.0   \n",
       "4           NaN               5.  12 hombres en pugna  (1957)          8.9   \n",
       "..          ...                                           ...          ...   \n",
       "245         NaN                              246.  PK  (2014)          8.0   \n",
       "246         NaN                         247.  Aladdín  (1992)          8.0   \n",
       "247         NaN                      248.  Alma negra  (1949)          8.0   \n",
       "248         NaN                 249.  Trono de sangre  (1957)          8.0   \n",
       "249         NaN               250.  Sueño de invierno  (2014)          8.0   \n",
       "\n",
       "                            Your Rating  Unnamed: 4  \n",
       "0    12345678910 NOT YET RELEASED  Seen         NaN  \n",
       "1    12345678910 NOT YET RELEASED  Seen         NaN  \n",
       "2    12345678910 NOT YET RELEASED  Seen         NaN  \n",
       "3    12345678910 NOT YET RELEASED  Seen         NaN  \n",
       "4    12345678910 NOT YET RELEASED  Seen         NaN  \n",
       "..                                  ...         ...  \n",
       "245  12345678910 NOT YET RELEASED  Seen         NaN  \n",
       "246  12345678910 NOT YET RELEASED  Seen         NaN  \n",
       "247  12345678910 NOT YET RELEASED  Seen         NaN  \n",
       "248  12345678910 NOT YET RELEASED  Seen         NaN  \n",
       "249  12345678910 NOT YET RELEASED  Seen         NaN  \n",
       "\n",
       "[250 rows x 5 columns]"
      ]
     },
     "execution_count": 68,
     "metadata": {},
     "output_type": "execute_result"
    }
   ],
   "source": [
    "movies"
   ]
  },
  {
   "cell_type": "code",
   "execution_count": 69,
   "metadata": {},
   "outputs": [
    {
     "data": {
      "text/plain": [
       "Index(['Unnamed: 0', 'Rank & Title', 'IMDb Rating', 'Your Rating',\n",
       "       'Unnamed: 4'],\n",
       "      dtype='object')"
      ]
     },
     "execution_count": 69,
     "metadata": {},
     "output_type": "execute_result"
    }
   ],
   "source": [
    "movies.columns"
   ]
  },
  {
   "cell_type": "code",
   "execution_count": 70,
   "metadata": {},
   "outputs": [],
   "source": [
    "movies = movies.drop(['Unnamed: 0','Your Rating','Unnamed: 4'], axis = 1)"
   ]
  },
  {
   "cell_type": "code",
   "execution_count": 71,
   "metadata": {},
   "outputs": [],
   "source": [
    "def año(x):\n",
    "    ye = re.search(r\"\\((\\d+)\\)\",x)\n",
    "    if ye:\n",
    "        x = ye.group(1)\n",
    "        return x\n",
    "\n",
    "def index(x):\n",
    "    ye = re.search(r\"^(\\d+)\\.\",x)\n",
    "    if ye:\n",
    "        x = ye.group(1)\n",
    "        return x\n",
    "    \n",
    "\n",
    "    \n",
    "        \n",
    "movies['relase_date'] = movies['Rank & Title'].apply(año)\n",
    "movies['no.'] = movies['Rank & Title'].apply(index)\n",
    "\n"
   ]
  },
  {
   "cell_type": "code",
   "execution_count": 72,
   "metadata": {},
   "outputs": [
    {
     "data": {
      "text/html": [
       "<div>\n",
       "<style scoped>\n",
       "    .dataframe tbody tr th:only-of-type {\n",
       "        vertical-align: middle;\n",
       "    }\n",
       "\n",
       "    .dataframe tbody tr th {\n",
       "        vertical-align: top;\n",
       "    }\n",
       "\n",
       "    .dataframe thead th {\n",
       "        text-align: right;\n",
       "    }\n",
       "</style>\n",
       "<table border=\"1\" class=\"dataframe\">\n",
       "  <thead>\n",
       "    <tr style=\"text-align: right;\">\n",
       "      <th></th>\n",
       "      <th>Rank &amp; Title</th>\n",
       "      <th>IMDb Rating</th>\n",
       "      <th>relase_date</th>\n",
       "      <th>no.</th>\n",
       "    </tr>\n",
       "  </thead>\n",
       "  <tbody>\n",
       "    <tr>\n",
       "      <th>0</th>\n",
       "      <td>1.  Sueños de libertad  (1994)</td>\n",
       "      <td>9.2</td>\n",
       "      <td>1994</td>\n",
       "      <td>1</td>\n",
       "    </tr>\n",
       "    <tr>\n",
       "      <th>1</th>\n",
       "      <td>2.  El Padrino  (1972)</td>\n",
       "      <td>9.1</td>\n",
       "      <td>1972</td>\n",
       "      <td>2</td>\n",
       "    </tr>\n",
       "    <tr>\n",
       "      <th>2</th>\n",
       "      <td>3.  El padrino 2a parte  (1974)</td>\n",
       "      <td>9.0</td>\n",
       "      <td>1974</td>\n",
       "      <td>3</td>\n",
       "    </tr>\n",
       "    <tr>\n",
       "      <th>3</th>\n",
       "      <td>4.  Batman: El Caballero de la Noche  (2008)</td>\n",
       "      <td>9.0</td>\n",
       "      <td>2008</td>\n",
       "      <td>4</td>\n",
       "    </tr>\n",
       "    <tr>\n",
       "      <th>4</th>\n",
       "      <td>5.  12 hombres en pugna  (1957)</td>\n",
       "      <td>8.9</td>\n",
       "      <td>1957</td>\n",
       "      <td>5</td>\n",
       "    </tr>\n",
       "    <tr>\n",
       "      <th>...</th>\n",
       "      <td>...</td>\n",
       "      <td>...</td>\n",
       "      <td>...</td>\n",
       "      <td>...</td>\n",
       "    </tr>\n",
       "    <tr>\n",
       "      <th>245</th>\n",
       "      <td>246.  PK  (2014)</td>\n",
       "      <td>8.0</td>\n",
       "      <td>2014</td>\n",
       "      <td>246</td>\n",
       "    </tr>\n",
       "    <tr>\n",
       "      <th>246</th>\n",
       "      <td>247.  Aladdín  (1992)</td>\n",
       "      <td>8.0</td>\n",
       "      <td>1992</td>\n",
       "      <td>247</td>\n",
       "    </tr>\n",
       "    <tr>\n",
       "      <th>247</th>\n",
       "      <td>248.  Alma negra  (1949)</td>\n",
       "      <td>8.0</td>\n",
       "      <td>1949</td>\n",
       "      <td>248</td>\n",
       "    </tr>\n",
       "    <tr>\n",
       "      <th>248</th>\n",
       "      <td>249.  Trono de sangre  (1957)</td>\n",
       "      <td>8.0</td>\n",
       "      <td>1957</td>\n",
       "      <td>249</td>\n",
       "    </tr>\n",
       "    <tr>\n",
       "      <th>249</th>\n",
       "      <td>250.  Sueño de invierno  (2014)</td>\n",
       "      <td>8.0</td>\n",
       "      <td>2014</td>\n",
       "      <td>250</td>\n",
       "    </tr>\n",
       "  </tbody>\n",
       "</table>\n",
       "<p>250 rows × 4 columns</p>\n",
       "</div>"
      ],
      "text/plain": [
       "                                     Rank & Title  IMDb Rating relase_date  \\\n",
       "0                  1.  Sueños de libertad  (1994)          9.2        1994   \n",
       "1                          2.  El Padrino  (1972)          9.1        1972   \n",
       "2                 3.  El padrino 2a parte  (1974)          9.0        1974   \n",
       "3    4.  Batman: El Caballero de la Noche  (2008)          9.0        2008   \n",
       "4                 5.  12 hombres en pugna  (1957)          8.9        1957   \n",
       "..                                            ...          ...         ...   \n",
       "245                              246.  PK  (2014)          8.0        2014   \n",
       "246                         247.  Aladdín  (1992)          8.0        1992   \n",
       "247                      248.  Alma negra  (1949)          8.0        1949   \n",
       "248                 249.  Trono de sangre  (1957)          8.0        1957   \n",
       "249               250.  Sueño de invierno  (2014)          8.0        2014   \n",
       "\n",
       "     no.  \n",
       "0      1  \n",
       "1      2  \n",
       "2      3  \n",
       "3      4  \n",
       "4      5  \n",
       "..   ...  \n",
       "245  246  \n",
       "246  247  \n",
       "247  248  \n",
       "248  249  \n",
       "249  250  \n",
       "\n",
       "[250 rows x 4 columns]"
      ]
     },
     "execution_count": 72,
     "metadata": {},
     "output_type": "execute_result"
    }
   ],
   "source": [
    "movies"
   ]
  },
  {
   "cell_type": "code",
   "execution_count": 73,
   "metadata": {},
   "outputs": [
    {
     "data": {
      "text/html": [
       "<div>\n",
       "<style scoped>\n",
       "    .dataframe tbody tr th:only-of-type {\n",
       "        vertical-align: middle;\n",
       "    }\n",
       "\n",
       "    .dataframe tbody tr th {\n",
       "        vertical-align: top;\n",
       "    }\n",
       "\n",
       "    .dataframe thead th {\n",
       "        text-align: right;\n",
       "    }\n",
       "</style>\n",
       "<table border=\"1\" class=\"dataframe\">\n",
       "  <thead>\n",
       "    <tr style=\"text-align: right;\">\n",
       "      <th></th>\n",
       "      <th>Rank &amp; Title</th>\n",
       "      <th>IMDb Rating</th>\n",
       "      <th>relase_date</th>\n",
       "      <th>no.</th>\n",
       "    </tr>\n",
       "  </thead>\n",
       "  <tbody>\n",
       "    <tr>\n",
       "      <th>0</th>\n",
       "      <td>1.  Sueños de libertad</td>\n",
       "      <td>9.2</td>\n",
       "      <td>1994</td>\n",
       "      <td>1</td>\n",
       "    </tr>\n",
       "    <tr>\n",
       "      <th>1</th>\n",
       "      <td>2.  El Padrino</td>\n",
       "      <td>9.1</td>\n",
       "      <td>1972</td>\n",
       "      <td>2</td>\n",
       "    </tr>\n",
       "    <tr>\n",
       "      <th>2</th>\n",
       "      <td>3.  El padrino 2a parte</td>\n",
       "      <td>9.0</td>\n",
       "      <td>1974</td>\n",
       "      <td>3</td>\n",
       "    </tr>\n",
       "    <tr>\n",
       "      <th>3</th>\n",
       "      <td>4.  Batman: El Caballero de la Noche</td>\n",
       "      <td>9.0</td>\n",
       "      <td>2008</td>\n",
       "      <td>4</td>\n",
       "    </tr>\n",
       "    <tr>\n",
       "      <th>4</th>\n",
       "      <td>5.  12 hombres en pugna</td>\n",
       "      <td>8.9</td>\n",
       "      <td>1957</td>\n",
       "      <td>5</td>\n",
       "    </tr>\n",
       "    <tr>\n",
       "      <th>...</th>\n",
       "      <td>...</td>\n",
       "      <td>...</td>\n",
       "      <td>...</td>\n",
       "      <td>...</td>\n",
       "    </tr>\n",
       "    <tr>\n",
       "      <th>245</th>\n",
       "      <td>246.  PK</td>\n",
       "      <td>8.0</td>\n",
       "      <td>2014</td>\n",
       "      <td>246</td>\n",
       "    </tr>\n",
       "    <tr>\n",
       "      <th>246</th>\n",
       "      <td>247.  Aladdín</td>\n",
       "      <td>8.0</td>\n",
       "      <td>1992</td>\n",
       "      <td>247</td>\n",
       "    </tr>\n",
       "    <tr>\n",
       "      <th>247</th>\n",
       "      <td>248.  Alma negra</td>\n",
       "      <td>8.0</td>\n",
       "      <td>1949</td>\n",
       "      <td>248</td>\n",
       "    </tr>\n",
       "    <tr>\n",
       "      <th>248</th>\n",
       "      <td>249.  Trono de sangre</td>\n",
       "      <td>8.0</td>\n",
       "      <td>1957</td>\n",
       "      <td>249</td>\n",
       "    </tr>\n",
       "    <tr>\n",
       "      <th>249</th>\n",
       "      <td>250.  Sueño de invierno</td>\n",
       "      <td>8.0</td>\n",
       "      <td>2014</td>\n",
       "      <td>250</td>\n",
       "    </tr>\n",
       "  </tbody>\n",
       "</table>\n",
       "<p>250 rows × 4 columns</p>\n",
       "</div>"
      ],
      "text/plain": [
       "                               Rank & Title  IMDb Rating relase_date  no.\n",
       "0                  1.  Sueños de libertad            9.2        1994    1\n",
       "1                          2.  El Padrino            9.1        1972    2\n",
       "2                 3.  El padrino 2a parte            9.0        1974    3\n",
       "3    4.  Batman: El Caballero de la Noche            9.0        2008    4\n",
       "4                 5.  12 hombres en pugna            8.9        1957    5\n",
       "..                                      ...          ...         ...  ...\n",
       "245                              246.  PK            8.0        2014  246\n",
       "246                         247.  Aladdín            8.0        1992  247\n",
       "247                      248.  Alma negra            8.0        1949  248\n",
       "248                 249.  Trono de sangre            8.0        1957  249\n",
       "249               250.  Sueño de invierno            8.0        2014  250\n",
       "\n",
       "[250 rows x 4 columns]"
      ]
     },
     "execution_count": 73,
     "metadata": {},
     "output_type": "execute_result"
    }
   ],
   "source": [
    "movies['Rank & Title'] = movies['Rank & Title'].str.replace(r'\\((\\d+)\\)', '')\n",
    "movies"
   ]
  },
  {
   "cell_type": "code",
   "execution_count": 74,
   "metadata": {},
   "outputs": [
    {
     "data": {
      "text/html": [
       "<div>\n",
       "<style scoped>\n",
       "    .dataframe tbody tr th:only-of-type {\n",
       "        vertical-align: middle;\n",
       "    }\n",
       "\n",
       "    .dataframe tbody tr th {\n",
       "        vertical-align: top;\n",
       "    }\n",
       "\n",
       "    .dataframe thead th {\n",
       "        text-align: right;\n",
       "    }\n",
       "</style>\n",
       "<table border=\"1\" class=\"dataframe\">\n",
       "  <thead>\n",
       "    <tr style=\"text-align: right;\">\n",
       "      <th></th>\n",
       "      <th>Rank &amp; Title</th>\n",
       "      <th>IMDb Rating</th>\n",
       "      <th>relase_date</th>\n",
       "      <th>no.</th>\n",
       "    </tr>\n",
       "  </thead>\n",
       "  <tbody>\n",
       "    <tr>\n",
       "      <th>0</th>\n",
       "      <td>Sueños de libertad</td>\n",
       "      <td>9.2</td>\n",
       "      <td>1994</td>\n",
       "      <td>1</td>\n",
       "    </tr>\n",
       "    <tr>\n",
       "      <th>1</th>\n",
       "      <td>El Padrino</td>\n",
       "      <td>9.1</td>\n",
       "      <td>1972</td>\n",
       "      <td>2</td>\n",
       "    </tr>\n",
       "    <tr>\n",
       "      <th>2</th>\n",
       "      <td>El padrino 2a parte</td>\n",
       "      <td>9.0</td>\n",
       "      <td>1974</td>\n",
       "      <td>3</td>\n",
       "    </tr>\n",
       "    <tr>\n",
       "      <th>3</th>\n",
       "      <td>Batman: El Caballero de la Noche</td>\n",
       "      <td>9.0</td>\n",
       "      <td>2008</td>\n",
       "      <td>4</td>\n",
       "    </tr>\n",
       "    <tr>\n",
       "      <th>4</th>\n",
       "      <td>12 hombres en pugna</td>\n",
       "      <td>8.9</td>\n",
       "      <td>1957</td>\n",
       "      <td>5</td>\n",
       "    </tr>\n",
       "    <tr>\n",
       "      <th>...</th>\n",
       "      <td>...</td>\n",
       "      <td>...</td>\n",
       "      <td>...</td>\n",
       "      <td>...</td>\n",
       "    </tr>\n",
       "    <tr>\n",
       "      <th>245</th>\n",
       "      <td>PK</td>\n",
       "      <td>8.0</td>\n",
       "      <td>2014</td>\n",
       "      <td>246</td>\n",
       "    </tr>\n",
       "    <tr>\n",
       "      <th>246</th>\n",
       "      <td>Aladdín</td>\n",
       "      <td>8.0</td>\n",
       "      <td>1992</td>\n",
       "      <td>247</td>\n",
       "    </tr>\n",
       "    <tr>\n",
       "      <th>247</th>\n",
       "      <td>Alma negra</td>\n",
       "      <td>8.0</td>\n",
       "      <td>1949</td>\n",
       "      <td>248</td>\n",
       "    </tr>\n",
       "    <tr>\n",
       "      <th>248</th>\n",
       "      <td>Trono de sangre</td>\n",
       "      <td>8.0</td>\n",
       "      <td>1957</td>\n",
       "      <td>249</td>\n",
       "    </tr>\n",
       "    <tr>\n",
       "      <th>249</th>\n",
       "      <td>Sueño de invierno</td>\n",
       "      <td>8.0</td>\n",
       "      <td>2014</td>\n",
       "      <td>250</td>\n",
       "    </tr>\n",
       "  </tbody>\n",
       "</table>\n",
       "<p>250 rows × 4 columns</p>\n",
       "</div>"
      ],
      "text/plain": [
       "                             Rank & Title  IMDb Rating relase_date  no.\n",
       "0                    Sueños de libertad            9.2        1994    1\n",
       "1                            El Padrino            9.1        1972    2\n",
       "2                   El padrino 2a parte            9.0        1974    3\n",
       "3      Batman: El Caballero de la Noche            9.0        2008    4\n",
       "4                   12 hombres en pugna            8.9        1957    5\n",
       "..                                    ...          ...         ...  ...\n",
       "245                                  PK            8.0        2014  246\n",
       "246                             Aladdín            8.0        1992  247\n",
       "247                          Alma negra            8.0        1949  248\n",
       "248                     Trono de sangre            8.0        1957  249\n",
       "249                   Sueño de invierno            8.0        2014  250\n",
       "\n",
       "[250 rows x 4 columns]"
      ]
     },
     "execution_count": 74,
     "metadata": {},
     "output_type": "execute_result"
    }
   ],
   "source": [
    "movies['Rank & Title'] = movies['Rank & Title'].str.replace(r'^\\d+\\.', '')\n",
    "movies"
   ]
  },
  {
   "cell_type": "markdown",
   "metadata": {},
   "source": [
    "#### Movie name, year and a brief summary of the top 10 random movies (IMDB) as a pandas dataframe."
   ]
  },
  {
   "cell_type": "code",
   "execution_count": 75,
   "metadata": {},
   "outputs": [
    {
     "data": {
      "text/html": [
       "<style  type=\"text/css\" >\n",
       "</style><table id=\"T_c6bd613e_7949_11ea_aac8_320011604000\" ><thead>    <tr>        <th class=\"col_heading level0 col0\" >Rank & Title</th>        <th class=\"col_heading level0 col1\" >IMDb Rating</th>        <th class=\"col_heading level0 col2\" >relase_date</th>        <th class=\"col_heading level0 col3\" >no.</th>    </tr></thead><tbody>\n",
       "                <tr>\n",
       "                                <td id=\"T_c6bd613e_7949_11ea_aac8_320011604000row0_col0\" class=\"data row0 col0\" >  Sueños de libertad  </td>\n",
       "                        <td id=\"T_c6bd613e_7949_11ea_aac8_320011604000row0_col1\" class=\"data row0 col1\" >9.200000</td>\n",
       "                        <td id=\"T_c6bd613e_7949_11ea_aac8_320011604000row0_col2\" class=\"data row0 col2\" >1994</td>\n",
       "                        <td id=\"T_c6bd613e_7949_11ea_aac8_320011604000row0_col3\" class=\"data row0 col3\" >1</td>\n",
       "            </tr>\n",
       "            <tr>\n",
       "                                <td id=\"T_c6bd613e_7949_11ea_aac8_320011604000row1_col0\" class=\"data row1 col0\" >  El Padrino  </td>\n",
       "                        <td id=\"T_c6bd613e_7949_11ea_aac8_320011604000row1_col1\" class=\"data row1 col1\" >9.100000</td>\n",
       "                        <td id=\"T_c6bd613e_7949_11ea_aac8_320011604000row1_col2\" class=\"data row1 col2\" >1972</td>\n",
       "                        <td id=\"T_c6bd613e_7949_11ea_aac8_320011604000row1_col3\" class=\"data row1 col3\" >2</td>\n",
       "            </tr>\n",
       "            <tr>\n",
       "                                <td id=\"T_c6bd613e_7949_11ea_aac8_320011604000row2_col0\" class=\"data row2 col0\" >  El padrino 2a parte  </td>\n",
       "                        <td id=\"T_c6bd613e_7949_11ea_aac8_320011604000row2_col1\" class=\"data row2 col1\" >9.000000</td>\n",
       "                        <td id=\"T_c6bd613e_7949_11ea_aac8_320011604000row2_col2\" class=\"data row2 col2\" >1974</td>\n",
       "                        <td id=\"T_c6bd613e_7949_11ea_aac8_320011604000row2_col3\" class=\"data row2 col3\" >3</td>\n",
       "            </tr>\n",
       "            <tr>\n",
       "                                <td id=\"T_c6bd613e_7949_11ea_aac8_320011604000row3_col0\" class=\"data row3 col0\" >  Batman: El Caballero de la Noche  </td>\n",
       "                        <td id=\"T_c6bd613e_7949_11ea_aac8_320011604000row3_col1\" class=\"data row3 col1\" >9.000000</td>\n",
       "                        <td id=\"T_c6bd613e_7949_11ea_aac8_320011604000row3_col2\" class=\"data row3 col2\" >2008</td>\n",
       "                        <td id=\"T_c6bd613e_7949_11ea_aac8_320011604000row3_col3\" class=\"data row3 col3\" >4</td>\n",
       "            </tr>\n",
       "            <tr>\n",
       "                                <td id=\"T_c6bd613e_7949_11ea_aac8_320011604000row4_col0\" class=\"data row4 col0\" >  12 hombres en pugna  </td>\n",
       "                        <td id=\"T_c6bd613e_7949_11ea_aac8_320011604000row4_col1\" class=\"data row4 col1\" >8.900000</td>\n",
       "                        <td id=\"T_c6bd613e_7949_11ea_aac8_320011604000row4_col2\" class=\"data row4 col2\" >1957</td>\n",
       "                        <td id=\"T_c6bd613e_7949_11ea_aac8_320011604000row4_col3\" class=\"data row4 col3\" >5</td>\n",
       "            </tr>\n",
       "            <tr>\n",
       "                                <td id=\"T_c6bd613e_7949_11ea_aac8_320011604000row5_col0\" class=\"data row5 col0\" >  La lista de Schindler  </td>\n",
       "                        <td id=\"T_c6bd613e_7949_11ea_aac8_320011604000row5_col1\" class=\"data row5 col1\" >8.900000</td>\n",
       "                        <td id=\"T_c6bd613e_7949_11ea_aac8_320011604000row5_col2\" class=\"data row5 col2\" >1993</td>\n",
       "                        <td id=\"T_c6bd613e_7949_11ea_aac8_320011604000row5_col3\" class=\"data row5 col3\" >6</td>\n",
       "            </tr>\n",
       "            <tr>\n",
       "                                <td id=\"T_c6bd613e_7949_11ea_aac8_320011604000row6_col0\" class=\"data row6 col0\" >  El señor de los anillos - El retorno del rey  </td>\n",
       "                        <td id=\"T_c6bd613e_7949_11ea_aac8_320011604000row6_col1\" class=\"data row6 col1\" >8.900000</td>\n",
       "                        <td id=\"T_c6bd613e_7949_11ea_aac8_320011604000row6_col2\" class=\"data row6 col2\" >2003</td>\n",
       "                        <td id=\"T_c6bd613e_7949_11ea_aac8_320011604000row6_col3\" class=\"data row6 col3\" >7</td>\n",
       "            </tr>\n",
       "            <tr>\n",
       "                                <td id=\"T_c6bd613e_7949_11ea_aac8_320011604000row7_col0\" class=\"data row7 col0\" >  Tiempos violentos  </td>\n",
       "                        <td id=\"T_c6bd613e_7949_11ea_aac8_320011604000row7_col1\" class=\"data row7 col1\" >8.800000</td>\n",
       "                        <td id=\"T_c6bd613e_7949_11ea_aac8_320011604000row7_col2\" class=\"data row7 col2\" >1994</td>\n",
       "                        <td id=\"T_c6bd613e_7949_11ea_aac8_320011604000row7_col3\" class=\"data row7 col3\" >8</td>\n",
       "            </tr>\n",
       "            <tr>\n",
       "                                <td id=\"T_c6bd613e_7949_11ea_aac8_320011604000row8_col0\" class=\"data row8 col0\" >  El bueno, el malo y el feo  </td>\n",
       "                        <td id=\"T_c6bd613e_7949_11ea_aac8_320011604000row8_col1\" class=\"data row8 col1\" >8.800000</td>\n",
       "                        <td id=\"T_c6bd613e_7949_11ea_aac8_320011604000row8_col2\" class=\"data row8 col2\" >1966</td>\n",
       "                        <td id=\"T_c6bd613e_7949_11ea_aac8_320011604000row8_col3\" class=\"data row8 col3\" >9</td>\n",
       "            </tr>\n",
       "            <tr>\n",
       "                                <td id=\"T_c6bd613e_7949_11ea_aac8_320011604000row9_col0\" class=\"data row9 col0\" >  El señor de los anillos: La comunidad del anillo  </td>\n",
       "                        <td id=\"T_c6bd613e_7949_11ea_aac8_320011604000row9_col1\" class=\"data row9 col1\" >8.800000</td>\n",
       "                        <td id=\"T_c6bd613e_7949_11ea_aac8_320011604000row9_col2\" class=\"data row9 col2\" >2001</td>\n",
       "                        <td id=\"T_c6bd613e_7949_11ea_aac8_320011604000row9_col3\" class=\"data row9 col3\" >10</td>\n",
       "            </tr>\n",
       "    </tbody></table>"
      ],
      "text/plain": [
       "<pandas.io.formats.style.Styler at 0x10f39a070>"
      ]
     },
     "execution_count": 75,
     "metadata": {},
     "output_type": "execute_result"
    }
   ],
   "source": [
    "movies.head(10).style.hide_index()\n"
   ]
  },
  {
   "cell_type": "markdown",
   "metadata": {},
   "source": [
    "#### Find the live weather report (temperature, wind speed, description and weather) of a given city."
   ]
  },
  {
   "cell_type": "code",
   "execution_count": 76,
   "metadata": {},
   "outputs": [
    {
     "name": "stdout",
     "output_type": "stream",
     "text": [
      "Enter the city:x\n"
     ]
    }
   ],
   "source": [
    "#https://openweathermap.org/current\n",
    "city = city=input('Enter the city:')\n",
    "url = 'http://api.openweathermap.org/data/2.5/weather?'+'q='+city+'&APPID=b35975e18dc93725acb092f7272cc6b8&units=metric'"
   ]
  },
  {
   "cell_type": "code",
   "execution_count": 77,
   "metadata": {},
   "outputs": [],
   "source": [
    "# your code"
   ]
  },
  {
   "cell_type": "markdown",
   "metadata": {},
   "source": [
    "#### Book name,price and stock availability as a pandas dataframe."
   ]
  },
  {
   "cell_type": "code",
   "execution_count": 183,
   "metadata": {},
   "outputs": [],
   "source": [
    "# This is the url you will scrape in this exercise. \n",
    "# It is a fictional bookstore created to be scraped. \n",
    "url = 'http://books.toscrape.com/'"
   ]
  },
  {
   "cell_type": "code",
   "execution_count": 184,
   "metadata": {},
   "outputs": [],
   "source": [
    "resp = requests.get(url).content\n",
    "soup = bs(resp,'lxml')\n",
    "books = soup.find_all('article')"
   ]
  },
  {
   "cell_type": "code",
   "execution_count": 185,
   "metadata": {},
   "outputs": [
    {
     "data": {
      "text/plain": [
       "str"
      ]
     },
     "execution_count": 185,
     "metadata": {},
     "output_type": "execute_result"
    }
   ],
   "source": [
    "type(books[0].text)"
   ]
  },
  {
   "cell_type": "code",
   "execution_count": 186,
   "metadata": {},
   "outputs": [],
   "source": [
    "libro = []\n",
    "final=[]\n",
    "for i in range(len(books)):\n",
    "    lb = book[i].text.replace(\"\\n\",\"\")\n",
    "    lb = book[i].text.strip().split(\"\\n\")\n",
    "    libro.append(lb)\n",
    "\n",
    "\n",
    "for e in libro:\n",
    "    tmp=[]\n",
    "    for st in e:\n",
    "        st = st.strip()\n",
    "        if st!='':\n",
    "            tmp.append(st)\n",
    "    final.append(tmp)\n",
    "    \n",
    "\n",
    "libreria = pd.DataFrame(final,columns = ['libro','precio','stock','añadir'])\n",
    "\n"
   ]
  },
  {
   "cell_type": "code",
   "execution_count": 187,
   "metadata": {},
   "outputs": [],
   "source": [
    "libreria = libreria.drop(['añadir'],axis=1)"
   ]
  },
  {
   "cell_type": "code",
   "execution_count": 189,
   "metadata": {},
   "outputs": [
    {
     "data": {
      "text/html": [
       "<style  type=\"text/css\" >\n",
       "</style><table id=\"T_6364327e_794f_11ea_aac8_320011604000\" ><thead>    <tr>        <th class=\"col_heading level0 col0\" >libro</th>        <th class=\"col_heading level0 col1\" >precio</th>        <th class=\"col_heading level0 col2\" >stock</th>    </tr></thead><tbody>\n",
       "                <tr>\n",
       "                                <td id=\"T_6364327e_794f_11ea_aac8_320011604000row0_col0\" class=\"data row0 col0\" >A Light in the ...</td>\n",
       "                        <td id=\"T_6364327e_794f_11ea_aac8_320011604000row0_col1\" class=\"data row0 col1\" >£51.77</td>\n",
       "                        <td id=\"T_6364327e_794f_11ea_aac8_320011604000row0_col2\" class=\"data row0 col2\" >In stock</td>\n",
       "            </tr>\n",
       "            <tr>\n",
       "                                <td id=\"T_6364327e_794f_11ea_aac8_320011604000row1_col0\" class=\"data row1 col0\" >Tipping the Velvet</td>\n",
       "                        <td id=\"T_6364327e_794f_11ea_aac8_320011604000row1_col1\" class=\"data row1 col1\" >£53.74</td>\n",
       "                        <td id=\"T_6364327e_794f_11ea_aac8_320011604000row1_col2\" class=\"data row1 col2\" >In stock</td>\n",
       "            </tr>\n",
       "            <tr>\n",
       "                                <td id=\"T_6364327e_794f_11ea_aac8_320011604000row2_col0\" class=\"data row2 col0\" >Soumission</td>\n",
       "                        <td id=\"T_6364327e_794f_11ea_aac8_320011604000row2_col1\" class=\"data row2 col1\" >£50.10</td>\n",
       "                        <td id=\"T_6364327e_794f_11ea_aac8_320011604000row2_col2\" class=\"data row2 col2\" >In stock</td>\n",
       "            </tr>\n",
       "            <tr>\n",
       "                                <td id=\"T_6364327e_794f_11ea_aac8_320011604000row3_col0\" class=\"data row3 col0\" >Sharp Objects</td>\n",
       "                        <td id=\"T_6364327e_794f_11ea_aac8_320011604000row3_col1\" class=\"data row3 col1\" >£47.82</td>\n",
       "                        <td id=\"T_6364327e_794f_11ea_aac8_320011604000row3_col2\" class=\"data row3 col2\" >In stock</td>\n",
       "            </tr>\n",
       "            <tr>\n",
       "                                <td id=\"T_6364327e_794f_11ea_aac8_320011604000row4_col0\" class=\"data row4 col0\" >Sapiens: A Brief History ...</td>\n",
       "                        <td id=\"T_6364327e_794f_11ea_aac8_320011604000row4_col1\" class=\"data row4 col1\" >£54.23</td>\n",
       "                        <td id=\"T_6364327e_794f_11ea_aac8_320011604000row4_col2\" class=\"data row4 col2\" >In stock</td>\n",
       "            </tr>\n",
       "            <tr>\n",
       "                                <td id=\"T_6364327e_794f_11ea_aac8_320011604000row5_col0\" class=\"data row5 col0\" >The Requiem Red</td>\n",
       "                        <td id=\"T_6364327e_794f_11ea_aac8_320011604000row5_col1\" class=\"data row5 col1\" >£22.65</td>\n",
       "                        <td id=\"T_6364327e_794f_11ea_aac8_320011604000row5_col2\" class=\"data row5 col2\" >In stock</td>\n",
       "            </tr>\n",
       "            <tr>\n",
       "                                <td id=\"T_6364327e_794f_11ea_aac8_320011604000row6_col0\" class=\"data row6 col0\" >The Dirty Little Secrets ...</td>\n",
       "                        <td id=\"T_6364327e_794f_11ea_aac8_320011604000row6_col1\" class=\"data row6 col1\" >£33.34</td>\n",
       "                        <td id=\"T_6364327e_794f_11ea_aac8_320011604000row6_col2\" class=\"data row6 col2\" >In stock</td>\n",
       "            </tr>\n",
       "            <tr>\n",
       "                                <td id=\"T_6364327e_794f_11ea_aac8_320011604000row7_col0\" class=\"data row7 col0\" >The Coming Woman: A ...</td>\n",
       "                        <td id=\"T_6364327e_794f_11ea_aac8_320011604000row7_col1\" class=\"data row7 col1\" >£17.93</td>\n",
       "                        <td id=\"T_6364327e_794f_11ea_aac8_320011604000row7_col2\" class=\"data row7 col2\" >In stock</td>\n",
       "            </tr>\n",
       "            <tr>\n",
       "                                <td id=\"T_6364327e_794f_11ea_aac8_320011604000row8_col0\" class=\"data row8 col0\" >The Boys in the ...</td>\n",
       "                        <td id=\"T_6364327e_794f_11ea_aac8_320011604000row8_col1\" class=\"data row8 col1\" >£22.60</td>\n",
       "                        <td id=\"T_6364327e_794f_11ea_aac8_320011604000row8_col2\" class=\"data row8 col2\" >In stock</td>\n",
       "            </tr>\n",
       "            <tr>\n",
       "                                <td id=\"T_6364327e_794f_11ea_aac8_320011604000row9_col0\" class=\"data row9 col0\" >The Black Maria</td>\n",
       "                        <td id=\"T_6364327e_794f_11ea_aac8_320011604000row9_col1\" class=\"data row9 col1\" >£52.15</td>\n",
       "                        <td id=\"T_6364327e_794f_11ea_aac8_320011604000row9_col2\" class=\"data row9 col2\" >In stock</td>\n",
       "            </tr>\n",
       "    </tbody></table>"
      ],
      "text/plain": [
       "<pandas.io.formats.style.Styler at 0x1113cb190>"
      ]
     },
     "execution_count": 189,
     "metadata": {},
     "output_type": "execute_result"
    }
   ],
   "source": [
    "libreria.head(10).style.hide_index()"
   ]
  }
 ],
 "metadata": {
  "kernelspec": {
   "display_name": "Python 3",
   "language": "python",
   "name": "python3"
  },
  "language_info": {
   "codemirror_mode": {
    "name": "ipython",
    "version": 3
   },
   "file_extension": ".py",
   "mimetype": "text/x-python",
   "name": "python",
   "nbconvert_exporter": "python",
   "pygments_lexer": "ipython3",
   "version": "3.8.0"
  }
 },
 "nbformat": 4,
 "nbformat_minor": 2
}
