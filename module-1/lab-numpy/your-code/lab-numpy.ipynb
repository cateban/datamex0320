{
 "cells": [
  {
   "cell_type": "code",
   "execution_count": 1,
   "metadata": {},
   "outputs": [],
   "source": [
    "#1. Import the NUMPY package under the name np.\n",
    "import numpy as np"
   ]
  },
  {
   "cell_type": "code",
   "execution_count": 2,
   "metadata": {},
   "outputs": [
    {
     "data": {
      "text/plain": [
       "'1.18.2'"
      ]
     },
     "execution_count": 2,
     "metadata": {},
     "output_type": "execute_result"
    }
   ],
   "source": [
    "#2. Print the NUMPY version and the configuration.\n",
    "np.version.version"
   ]
  },
  {
   "cell_type": "code",
   "execution_count": 3,
   "metadata": {},
   "outputs": [],
   "source": [
    "#3. Generate a 2x3x5 3-dimensional array with random values. Assign the array to variable \"a\"\n",
    "# Challenge: there are at least three easy ways that use numpy to generate random arrays. How many ways can you find?\n",
    "\n",
    "a=np.random.random((2, 3, 5))\n"
   ]
  },
  {
   "cell_type": "code",
   "execution_count": 4,
   "metadata": {},
   "outputs": [
    {
     "name": "stdout",
     "output_type": "stream",
     "text": [
      "[[[0.37279776 0.51735336 0.89009432 0.29282234 0.18421351]\n",
      "  [0.42973634 0.5071805  0.23112441 0.31888431 0.66750821]\n",
      "  [0.05655978 0.17796014 0.06902756 0.31598348 0.82981526]]\n",
      "\n",
      " [[0.42594511 0.87203256 0.79764927 0.35917516 0.7338163 ]\n",
      "  [0.20747955 0.28130479 0.39750444 0.85556281 0.51935297]\n",
      "  [0.84189688 0.94797885 0.53060296 0.30711641 0.50411619]]]\n"
     ]
    }
   ],
   "source": [
    "#4. Print a.\n",
    "print(a)"
   ]
  },
  {
   "cell_type": "code",
   "execution_count": 5,
   "metadata": {},
   "outputs": [],
   "source": [
    "#5. Create a 5x2x3 3-dimensional array with all values equaling 1.\n",
    "#Assign the array to variable \"b\"\n",
    "\n",
    "b=np.full((5,2,3),1)\n"
   ]
  },
  {
   "cell_type": "code",
   "execution_count": 6,
   "metadata": {},
   "outputs": [
    {
     "name": "stdout",
     "output_type": "stream",
     "text": [
      "[[[1 1 1]\n",
      "  [1 1 1]]\n",
      "\n",
      " [[1 1 1]\n",
      "  [1 1 1]]\n",
      "\n",
      " [[1 1 1]\n",
      "  [1 1 1]]\n",
      "\n",
      " [[1 1 1]\n",
      "  [1 1 1]]\n",
      "\n",
      " [[1 1 1]\n",
      "  [1 1 1]]]\n"
     ]
    }
   ],
   "source": [
    "#6. Print b.\n",
    "print(b)"
   ]
  },
  {
   "cell_type": "code",
   "execution_count": 7,
   "metadata": {},
   "outputs": [
    {
     "name": "stdout",
     "output_type": "stream",
     "text": [
      "30\n",
      "30\n",
      "a and b have the same size of: 30 values each\n"
     ]
    }
   ],
   "source": [
    "#7. Do a and b have the same size? How do you prove that in Python code?\n",
    "print(a.size)\n",
    "print(b.size)\n",
    "\n",
    "if a.size == b.size:\n",
    "    print(\"a and b have the same size of: {} values each\".format(a.size))\n",
    "else:\n",
    "    print(\"a and b do not have the same size\")"
   ]
  },
  {
   "cell_type": "code",
   "execution_count": 9,
   "metadata": {},
   "outputs": [
    {
     "ename": "ValueError",
     "evalue": "operands could not be broadcast together with shapes (2,3,5) (5,2,3) ",
     "output_type": "error",
     "traceback": [
      "\u001b[0;31m---------------------------------------------------------------------------\u001b[0m",
      "\u001b[0;31mValueError\u001b[0m                                Traceback (most recent call last)",
      "\u001b[0;32m<ipython-input-9-f2b72650b12c>\u001b[0m in \u001b[0;36m<module>\u001b[0;34m\u001b[0m\n\u001b[1;32m      1\u001b[0m \u001b[0;31m#8. Are you able to add a and b? Why or why not?\u001b[0m\u001b[0;34m\u001b[0m\u001b[0;34m\u001b[0m\u001b[0;34m\u001b[0m\u001b[0m\n\u001b[0;32m----> 2\u001b[0;31m \u001b[0msumaab\u001b[0m \u001b[0;34m=\u001b[0m \u001b[0mnp\u001b[0m\u001b[0;34m.\u001b[0m\u001b[0madd\u001b[0m\u001b[0;34m(\u001b[0m\u001b[0ma\u001b[0m\u001b[0;34m,\u001b[0m\u001b[0mb\u001b[0m\u001b[0;34m)\u001b[0m\u001b[0;34m\u001b[0m\u001b[0;34m\u001b[0m\u001b[0m\n\u001b[0m\u001b[1;32m      3\u001b[0m \u001b[0mprint\u001b[0m \u001b[0;34m(\u001b[0m\u001b[0msumaab\u001b[0m\u001b[0;34m)\u001b[0m\u001b[0;34m\u001b[0m\u001b[0;34m\u001b[0m\u001b[0m\n",
      "\u001b[0;31mValueError\u001b[0m: operands could not be broadcast together with shapes (2,3,5) (5,2,3) "
     ]
    }
   ],
   "source": [
    "#8. Are you able to add a and b? Why or why not?\n",
    "sumaab = np.add(a,b)\n",
    "print (sumaab)"
   ]
  },
  {
   "cell_type": "markdown",
   "metadata": {},
   "source": [
    "you can not add a and b because they do not have the same shame"
   ]
  },
  {
   "cell_type": "code",
   "execution_count": 10,
   "metadata": {},
   "outputs": [
    {
     "data": {
      "text/plain": [
       "(3, 2, 5)"
      ]
     },
     "execution_count": 10,
     "metadata": {},
     "output_type": "execute_result"
    }
   ],
   "source": [
    "#9. Transpose b so that it has \n",
    "#the same structure of a (i.e. become a 2x3x5 array). Assign the transposed array to varialbe \"c\".\"\"\"\n",
    "\n",
    "b.T.shape"
   ]
  },
  {
   "cell_type": "code",
   "execution_count": 11,
   "metadata": {},
   "outputs": [
    {
     "data": {
      "text/plain": [
       "array([[[1, 1, 1, 1, 1],\n",
       "        [1, 1, 1, 1, 1],\n",
       "        [1, 1, 1, 1, 1]],\n",
       "\n",
       "       [[1, 1, 1, 1, 1],\n",
       "        [1, 1, 1, 1, 1],\n",
       "        [1, 1, 1, 1, 1]]])"
      ]
     },
     "execution_count": 11,
     "metadata": {},
     "output_type": "execute_result"
    }
   ],
   "source": [
    "c=b.reshape((2, 3, 5))\n",
    "c"
   ]
  },
  {
   "cell_type": "code",
   "execution_count": 12,
   "metadata": {},
   "outputs": [
    {
     "data": {
      "text/plain": [
       "(2, 3, 5)"
      ]
     },
     "execution_count": 12,
     "metadata": {},
     "output_type": "execute_result"
    }
   ],
   "source": [
    "c.shape"
   ]
  },
  {
   "cell_type": "code",
   "execution_count": 13,
   "metadata": {},
   "outputs": [
    {
     "name": "stdout",
     "output_type": "stream",
     "text": [
      "[[[1.37279776 1.51735336 1.89009432 1.29282234 1.18421351]\n",
      "  [1.42973634 1.5071805  1.23112441 1.31888431 1.66750821]\n",
      "  [1.05655978 1.17796014 1.06902756 1.31598348 1.82981526]]\n",
      "\n",
      " [[1.42594511 1.87203256 1.79764927 1.35917516 1.7338163 ]\n",
      "  [1.20747955 1.28130479 1.39750444 1.85556281 1.51935297]\n",
      "  [1.84189688 1.94797885 1.53060296 1.30711641 1.50411619]]]\n"
     ]
    }
   ],
   "source": [
    "#10. Try to add a and c. Now it should work. Assign the sum to varialbe \"d\". But why does it work now?\n",
    "d = np.add(a,c)\n",
    "print (d)"
   ]
  },
  {
   "cell_type": "markdown",
   "metadata": {},
   "source": [
    "it works now because a and d have the same shape"
   ]
  },
  {
   "cell_type": "code",
   "execution_count": 14,
   "metadata": {},
   "outputs": [
    {
     "name": "stdout",
     "output_type": "stream",
     "text": [
      "[[[0.37279776 0.51735336 0.89009432 0.29282234 0.18421351]\n",
      "  [0.42973634 0.5071805  0.23112441 0.31888431 0.66750821]\n",
      "  [0.05655978 0.17796014 0.06902756 0.31598348 0.82981526]]\n",
      "\n",
      " [[0.42594511 0.87203256 0.79764927 0.35917516 0.7338163 ]\n",
      "  [0.20747955 0.28130479 0.39750444 0.85556281 0.51935297]\n",
      "  [0.84189688 0.94797885 0.53060296 0.30711641 0.50411619]]]\n",
      "\n",
      "\n",
      "\n",
      "[[[1.37279776 1.51735336 1.89009432 1.29282234 1.18421351]\n",
      "  [1.42973634 1.5071805  1.23112441 1.31888431 1.66750821]\n",
      "  [1.05655978 1.17796014 1.06902756 1.31598348 1.82981526]]\n",
      "\n",
      " [[1.42594511 1.87203256 1.79764927 1.35917516 1.7338163 ]\n",
      "  [1.20747955 1.28130479 1.39750444 1.85556281 1.51935297]\n",
      "  [1.84189688 1.94797885 1.53060296 1.30711641 1.50411619]]]\n"
     ]
    }
   ],
   "source": [
    "#11. Print a and d. Notice the difference and relation of the two array in terms of the values? Explain.\n",
    "\n",
    "print(a)\n",
    "print(\"\\n\\n\")\n",
    "print(d)\n"
   ]
  },
  {
   "cell_type": "markdown",
   "metadata": {},
   "source": [
    "d values are the result of a values added by 1"
   ]
  },
  {
   "cell_type": "code",
   "execution_count": 15,
   "metadata": {},
   "outputs": [
    {
     "ename": "ValueError",
     "evalue": "matmul: Input operand 1 has a mismatch in its core dimension 0, with gufunc signature (n?,k),(k,m?)->(n?,m?) (size 3 is different from 2)",
     "output_type": "error",
     "traceback": [
      "\u001b[0;31m---------------------------------------------------------------------------\u001b[0m",
      "\u001b[0;31mValueError\u001b[0m                                Traceback (most recent call last)",
      "\u001b[0;32m<ipython-input-15-0a72edd91026>\u001b[0m in \u001b[0;36m<module>\u001b[0;34m\u001b[0m\n\u001b[1;32m      1\u001b[0m \u001b[0;31m#12. Multiply a and c. Assign the result to e.\u001b[0m\u001b[0;34m\u001b[0m\u001b[0;34m\u001b[0m\u001b[0;34m\u001b[0m\u001b[0m\n\u001b[0;32m----> 2\u001b[0;31m \u001b[0me\u001b[0m\u001b[0;34m=\u001b[0m\u001b[0mnp\u001b[0m\u001b[0;34m.\u001b[0m\u001b[0mmatmul\u001b[0m\u001b[0;34m(\u001b[0m\u001b[0ma\u001b[0m\u001b[0;34m.\u001b[0m\u001b[0mT\u001b[0m\u001b[0;34m,\u001b[0m\u001b[0mc\u001b[0m\u001b[0;34m)\u001b[0m\u001b[0;34m\u001b[0m\u001b[0;34m\u001b[0m\u001b[0m\n\u001b[0m\u001b[1;32m      3\u001b[0m \u001b[0me\u001b[0m\u001b[0;34m\u001b[0m\u001b[0;34m\u001b[0m\u001b[0m\n",
      "\u001b[0;31mValueError\u001b[0m: matmul: Input operand 1 has a mismatch in its core dimension 0, with gufunc signature (n?,k),(k,m?)->(n?,m?) (size 3 is different from 2)"
     ]
    }
   ],
   "source": [
    "#12. Multiply a and c. Assign the result to e.\n",
    "e=np.matmul(a.T,c)\n",
    "e"
   ]
  },
  {
   "cell_type": "code",
   "execution_count": 16,
   "metadata": {},
   "outputs": [
    {
     "name": "stdout",
     "output_type": "stream",
     "text": [
      "(5, 3, 2)\n",
      "(2, 3, 5)\n"
     ]
    }
   ],
   "source": [
    "\n",
    "print(a.T.shape)\n",
    "print(c.shape)\n"
   ]
  },
  {
   "cell_type": "code",
   "execution_count": 17,
   "metadata": {},
   "outputs": [],
   "source": [
    "#13. Does e equal to a? Why or why not?"
   ]
  },
  {
   "cell_type": "code",
   "execution_count": 18,
   "metadata": {},
   "outputs": [
    {
     "name": "stdout",
     "output_type": "stream",
     "text": [
      "[[[1.37279776 1.51735336 1.89009432 1.29282234 1.18421351]\n",
      "  [1.42973634 1.5071805  1.23112441 1.31888431 1.66750821]\n",
      "  [1.05655978 1.17796014 1.06902756 1.31598348 1.82981526]]\n",
      "\n",
      " [[1.42594511 1.87203256 1.79764927 1.35917516 1.7338163 ]\n",
      "  [1.20747955 1.28130479 1.39750444 1.85556281 1.51935297]\n",
      "  [1.84189688 1.94797885 1.53060296 1.30711641 1.50411619]]] \n",
      "\n",
      "1.9479788471011705 1.056559780302435 1.4814198516145918\n"
     ]
    }
   ],
   "source": [
    "#14. Identify the max, min, and mean values in d. Assign those values to variables \n",
    "d_max= np.max(d)\n",
    "d_min= np.min(d)\n",
    "d_mean= np.mean(d)\n",
    "\n",
    "print(d,\"\\n\")\n",
    "\n",
    "print(d_max, d_min, d_mean)"
   ]
  },
  {
   "cell_type": "code",
   "execution_count": 19,
   "metadata": {},
   "outputs": [
    {
     "data": {
      "text/plain": [
       "array([[[1.37279776, 1.51735336, 1.89009432, 1.29282234, 1.18421351],\n",
       "        [1.42973634, 1.5071805 , 1.23112441, 1.31888431, 1.66750821],\n",
       "        [1.05655978, 1.17796014, 1.06902756, 1.31598348, 1.82981526]],\n",
       "\n",
       "       [[1.42594511, 1.87203256, 1.79764927, 1.35917516, 1.7338163 ],\n",
       "        [1.20747955, 1.28130479, 1.39750444, 1.85556281, 1.51935297],\n",
       "        [1.84189688, 1.94797885, 1.53060296, 1.30711641, 1.50411619]]])"
      ]
     },
     "execution_count": 19,
     "metadata": {},
     "output_type": "execute_result"
    }
   ],
   "source": [
    "#15. Now we want to label the values in d. \n",
    "#First create an empty array \"f\" with the same shape (i.e. 2x3x5) as d using `np.empty`.\n",
    "\n",
    "f=np.empty((2,3,5))\n",
    "\n",
    "f"
   ]
  },
  {
   "cell_type": "code",
   "execution_count": 20,
   "metadata": {},
   "outputs": [],
   "source": [
    "\"\"\"\n",
    "#16. Populate the values in f. For each value in d, \n",
    "\n",
    "if it's larger than d_min but smaller than d_mean, assign 25 to the corresponding value in f.\n",
    "\n",
    "If a value in d is larger than d_mean but smaller than d_max, assign 75 to the corresponding value in f.\n",
    "\n",
    "If a value equals to d_mean, assign 50 to the corresponding value in f.\n",
    "\n",
    "Assign 0 to the corresponding value(s) in f for d_min in d.\n",
    "\n",
    "Assign 100 to the corresponding value(s) in f for d_max in d.\n",
    "\n",
    "In the end, f should have only the following values: 0, 25, 50, 75, and 100.\n",
    "Note: you don't have to use Numpy in this question.\n",
    "\"\"\"\n",
    "dflat = d.flatten()\n",
    "fflat = f.flatten()\n",
    "\n",
    "\n",
    "for i in range(len(dflat)):\n",
    "    if dflat[i] > d_min and dflat[i] < d_mean:\n",
    "        fflat[i] = 25\n",
    "    elif dflat[i] > d_mean and dflat[i] < d_max:\n",
    "        fflat[i] = 75\n",
    "    elif dflat[i] == d_mean:\n",
    "        fflat[i] = 50\n",
    "    elif dflat[i] == d_max:\n",
    "        fflat[i] = 100\n",
    "    elif dflat[i] == d_min:\n",
    "        fflat[i] = 0\n",
    "\n",
    "\n",
    "f=np.array(fflat)\n",
    "\n",
    "f = f.reshape(2,3,5)\n"
   ]
  },
  {
   "cell_type": "code",
   "execution_count": 21,
   "metadata": {},
   "outputs": [
    {
     "name": "stdout",
     "output_type": "stream",
     "text": [
      "1.9479788471011705 1.056559780302435 1.4814198516145918\n",
      "\n",
      "\n",
      "[[[1.37279776 1.51735336 1.89009432 1.29282234 1.18421351]\n",
      "  [1.42973634 1.5071805  1.23112441 1.31888431 1.66750821]\n",
      "  [1.05655978 1.17796014 1.06902756 1.31598348 1.82981526]]\n",
      "\n",
      " [[1.42594511 1.87203256 1.79764927 1.35917516 1.7338163 ]\n",
      "  [1.20747955 1.28130479 1.39750444 1.85556281 1.51935297]\n",
      "  [1.84189688 1.94797885 1.53060296 1.30711641 1.50411619]]]\n",
      "\n",
      "\n",
      "[[[ 25.  75.  75.  25.  25.]\n",
      "  [ 25.  75.  25.  25.  75.]\n",
      "  [  0.  25.  25.  25.  75.]]\n",
      "\n",
      " [[ 25.  75.  75.  25.  75.]\n",
      "  [ 25.  25.  25.  75.  75.]\n",
      "  [ 75. 100.  75.  25.  75.]]]\n"
     ]
    }
   ],
   "source": [
    "\"\"\"\n",
    "#17. Print d and f. Do you have your expected f?\n",
    "For instance, if your d is:\n",
    "array([[[1.85836099, 1.67064465, 1.62576044, 1.40243961, 1.88454931],\n",
    "        [1.75354326, 1.69403643, 1.36729252, 1.61415071, 1.12104981],\n",
    "        [1.72201435, 1.1862918 , 1.87078449, 1.7726778 , 1.88180042]],\n",
    "\n",
    "       [[1.44747908, 1.31673383, 1.02000951, 1.52218947, 1.97066381],\n",
    "        [1.79129243, 1.74983003, 1.96028037, 1.85166831, 1.65450881],\n",
    "        [1.18068344, 1.9587381 , 1.00656599, 1.93402165, 1.73514584]]])\n",
    "\n",
    "Your f should be:\n",
    "array([[[ 75.,  75.,  75.,  25.,  75.],\n",
    "        [ 75.,  75.,  25.,  25.,  25.],\n",
    "        [ 75.,  25.,  75.,  75.,  75.]],\n",
    "\n",
    "       [[ 25.,  25.,  25.,  25., 100.],\n",
    "        [ 75.,  75.,  75.,  75.,  75.],\n",
    "        [ 25.,  75.,   0.,  75.,  75.]]])\n",
    "\"\"\"\n",
    "\n",
    "print(d_max, d_min, d_mean)\n",
    "print(\"\\n\")\n",
    "print(d)\n",
    "print(\"\\n\")\n",
    "print(f)\n"
   ]
  },
  {
   "cell_type": "code",
   "execution_count": 22,
   "metadata": {},
   "outputs": [
    {
     "name": "stdout",
     "output_type": "stream",
     "text": [
      "[[['B' 'D' 'D' 'B' 'B']\n",
      "  ['B' 'D' 'B' 'B' 'D']\n",
      "  ['A' 'B' 'B' 'B' 'D']]\n",
      "\n",
      " [['B' 'D' 'D' 'B' 'D']\n",
      "  ['B' 'B' 'B' 'D' 'D']\n",
      "  ['D' 'E' 'D' 'B' 'D']]]\n"
     ]
    }
   ],
   "source": [
    "\"\"\"#18. Bonus question: instead of using numbers (i.e. 0, 25, 50, 75, and 100), how to use string values \n",
    "(\"A\", \"B\", \"C\", \"D\", and \"E\") to label the array elements? You are expecting the result to be:\n",
    "array([[[ 'D',  'D',  'D',  'B',  'D'],\n",
    "        [ 'D',  'D',  'B',  'B',  'B'],\n",
    "        [ 'D',  'B',  'D',  'D',  'D']],\n",
    "\n",
    "       [[ 'B',  'B',  'B',  'B',  'E'],\n",
    "        [ 'D',  'D',  'D',  'D',  'D'],\n",
    "        [ 'B',  'D',   'A',  'D', 'D']]])\n",
    "Again, you don't need Numpy in this question.\n",
    "\"\"\"\n",
    "\n",
    "dflat = d.flatten()\n",
    "fflat = f.flatten()\n",
    "fextra =[]\n",
    "\n",
    "\n",
    "for i in range(len(dflat)):\n",
    "    if dflat[i] > d_min and dflat[i] < d_mean:\n",
    "        fextra.append(\"B\")\n",
    "    elif dflat[i] > d_mean and dflat[i] < d_max:\n",
    "        fextra.append(\"D\")\n",
    "    elif dflat[i] == d_mean:\n",
    "        fextra.append(\"C\")\n",
    "    elif dflat[i] == d_max:\n",
    "        fextra.append(\"E\")\n",
    "    elif dflat[i] == d_min:\n",
    "        fextra.append(\"A\")\n",
    "\n",
    "ffinal = np.array(fextra)\n",
    "\n",
    "ffinal = ffinal.reshape(2,3,5)\n",
    "\n",
    "print(ffinal)"
   ]
  }
 ],
 "metadata": {
  "kernelspec": {
   "display_name": "Python 3",
   "language": "python",
   "name": "python3"
  },
  "language_info": {
   "codemirror_mode": {
    "name": "ipython",
    "version": 3
   },
   "file_extension": ".py",
   "mimetype": "text/x-python",
   "name": "python",
   "nbconvert_exporter": "python",
   "pygments_lexer": "ipython3",
   "version": "3.8.0"
  }
 },
 "nbformat": 4,
 "nbformat_minor": 4
}
