{
 "cells": [
  {
   "cell_type": "markdown",
   "metadata": {},
   "source": [
    "# Working with RSS Feeds Lab\n",
    "\n",
    "Complete the following set of exercises to solidify your knowledge of parsing RSS feeds and extracting information from them."
   ]
  },
  {
   "cell_type": "code",
   "execution_count": 1,
   "metadata": {},
   "outputs": [],
   "source": [
    "import feedparser\n",
    "import pandas as pd"
   ]
  },
  {
   "cell_type": "markdown",
   "metadata": {},
   "source": [
    "### 1. Use feedparser to parse the following RSS feed URL."
   ]
  },
  {
   "cell_type": "code",
   "execution_count": 2,
   "metadata": {},
   "outputs": [],
   "source": [
    "url = 'http://feeds.feedburner.com/oreilly/radar/atom'"
   ]
  },
  {
   "cell_type": "code",
   "execution_count": 3,
   "metadata": {},
   "outputs": [],
   "source": [
    "radar = feedparser.parse(url)"
   ]
  },
  {
   "cell_type": "code",
   "execution_count": 4,
   "metadata": {},
   "outputs": [
    {
     "data": {
      "text/plain": [
       "dict_keys(['feed', 'entries', 'bozo', 'headers', 'etag', 'updated', 'updated_parsed', 'href', 'status', 'encoding', 'version', 'namespaces'])"
      ]
     },
     "execution_count": 4,
     "metadata": {},
     "output_type": "execute_result"
    }
   ],
   "source": [
    "radar.keys()"
   ]
  },
  {
   "cell_type": "code",
   "execution_count": 5,
   "metadata": {},
   "outputs": [
    {
     "data": {
      "text/plain": [
       "dict_keys(['type', 'language', 'base', 'value'])"
      ]
     },
     "execution_count": 5,
     "metadata": {},
     "output_type": "execute_result"
    }
   ],
   "source": [
    "radar.feed.title_detail.keys()"
   ]
  },
  {
   "cell_type": "markdown",
   "metadata": {},
   "source": [
    "### 2. Obtain a list of components (keys) that are available for this feed."
   ]
  },
  {
   "cell_type": "code",
   "execution_count": 6,
   "metadata": {},
   "outputs": [
    {
     "data": {
      "text/plain": [
       "dict_keys(['feed', 'entries', 'bozo', 'headers', 'etag', 'updated', 'updated_parsed', 'href', 'status', 'encoding', 'version', 'namespaces'])"
      ]
     },
     "execution_count": 6,
     "metadata": {},
     "output_type": "execute_result"
    }
   ],
   "source": [
    "radar.keys()"
   ]
  },
  {
   "cell_type": "markdown",
   "metadata": {},
   "source": [
    "### 3. Obtain a list of components (keys) that are available for the *feed* component of this RSS feed."
   ]
  },
  {
   "cell_type": "code",
   "execution_count": 7,
   "metadata": {},
   "outputs": [
    {
     "data": {
      "text/plain": [
       "['title',\n",
       " 'title_detail',\n",
       " 'links',\n",
       " 'link',\n",
       " 'subtitle',\n",
       " 'subtitle_detail',\n",
       " 'updated',\n",
       " 'updated_parsed',\n",
       " 'language',\n",
       " 'sy_updateperiod',\n",
       " 'sy_updatefrequency',\n",
       " 'generator_detail',\n",
       " 'generator',\n",
       " 'feedburner_info',\n",
       " 'geo_lat',\n",
       " 'geo_long',\n",
       " 'feedburner_emailserviceid',\n",
       " 'feedburner_feedburnerhostname']"
      ]
     },
     "execution_count": 7,
     "metadata": {},
     "output_type": "execute_result"
    }
   ],
   "source": [
    "feed_keys = []\n",
    "\n",
    "for key in radar.feed.keys():\n",
    "    feed_keys.append(key)\n",
    "    \n",
    "feed_keys"
   ]
  },
  {
   "cell_type": "markdown",
   "metadata": {},
   "source": [
    "### 4. Extract and print the feed title, subtitle, author, and link."
   ]
  },
  {
   "cell_type": "code",
   "execution_count": 8,
   "metadata": {},
   "outputs": [
    {
     "data": {
      "text/plain": [
       "'Radar'"
      ]
     },
     "execution_count": 8,
     "metadata": {},
     "output_type": "execute_result"
    }
   ],
   "source": [
    "title = radar.feed.title\n",
    "title"
   ]
  },
  {
   "cell_type": "code",
   "execution_count": 9,
   "metadata": {},
   "outputs": [
    {
     "data": {
      "text/plain": [
       "'Now, next, and beyond: Tracking need-to-know trends at the intersection of business and technology'"
      ]
     },
     "execution_count": 9,
     "metadata": {},
     "output_type": "execute_result"
    }
   ],
   "source": [
    "subtitle = radar.feed.subtitle\n",
    "subtitle"
   ]
  },
  {
   "cell_type": "code",
   "execution_count": 10,
   "metadata": {},
   "outputs": [
    {
     "data": {
      "text/plain": [
       "'https://www.oreilly.com/radar'"
      ]
     },
     "execution_count": 10,
     "metadata": {},
     "output_type": "execute_result"
    }
   ],
   "source": [
    "link = radar.feed.link\n",
    "link"
   ]
  },
  {
   "cell_type": "code",
   "execution_count": 11,
   "metadata": {},
   "outputs": [
    {
     "data": {
      "text/plain": [
       "list"
      ]
     },
     "execution_count": 11,
     "metadata": {},
     "output_type": "execute_result"
    }
   ],
   "source": [
    "type(radar.entries)"
   ]
  },
  {
   "cell_type": "code",
   "execution_count": 12,
   "metadata": {},
   "outputs": [
    {
     "data": {
      "text/plain": [
       "{'Cynthia Owens',\n",
       " 'George Fairbanks',\n",
       " 'Hugo Bowne-Anderson',\n",
       " 'Jenn Webb',\n",
       " 'Kai Holnes',\n",
       " 'Mac Slocum',\n",
       " 'Mark Richards',\n",
       " 'Martin Fowler',\n",
       " 'Mary Poppendieck',\n",
       " 'Mike Loukides',\n",
       " 'Nat Torkington',\n",
       " 'Pamela Rucker',\n",
       " 'Peter Skomoroch and Mike Loukides',\n",
       " 'Rachel Laycock and Neal Ford',\n",
       " 'Rita J. King',\n",
       " 'Roger Magoulas and Steve Swoyer',\n",
       " 'Tim O’Reilly'}"
      ]
     },
     "execution_count": 12,
     "metadata": {},
     "output_type": "execute_result"
    }
   ],
   "source": [
    "authors = [radar.entries[i].author for i in range(len(radar.entries))]\n",
    "set(authors)"
   ]
  },
  {
   "cell_type": "markdown",
   "metadata": {},
   "source": [
    "### 5. Count the number of entries that are contained in this RSS feed."
   ]
  },
  {
   "cell_type": "code",
   "execution_count": 13,
   "metadata": {},
   "outputs": [
    {
     "name": "stdout",
     "output_type": "stream",
     "text": [
      "There are 60 entries.\n"
     ]
    }
   ],
   "source": [
    "print('There are',len(radar.entries),'entries.')"
   ]
  },
  {
   "cell_type": "code",
   "execution_count": 14,
   "metadata": {},
   "outputs": [
    {
     "data": {
      "text/plain": [
       "dict_keys(['feed', 'entries', 'bozo', 'headers', 'etag', 'updated', 'updated_parsed', 'href', 'status', 'encoding', 'version', 'namespaces'])"
      ]
     },
     "execution_count": 14,
     "metadata": {},
     "output_type": "execute_result"
    }
   ],
   "source": [
    "radar.keys()"
   ]
  },
  {
   "cell_type": "code",
   "execution_count": 15,
   "metadata": {},
   "outputs": [
    {
     "data": {
      "text/plain": [
       "'Four short links: 8 April 2020'"
      ]
     },
     "execution_count": 15,
     "metadata": {},
     "output_type": "execute_result"
    }
   ],
   "source": [
    "radar.entries[0].title"
   ]
  },
  {
   "cell_type": "code",
   "execution_count": 16,
   "metadata": {},
   "outputs": [
    {
     "data": {
      "text/plain": [
       "dict_keys(['title', 'title_detail', 'links', 'link', 'comments', 'published', 'published_parsed', 'authors', 'author', 'author_detail', 'tags', 'id', 'guidislink', 'summary', 'summary_detail', 'content', 'wfw_commentrss', 'slash_comments', 'feedburner_origlink'])"
      ]
     },
     "execution_count": 16,
     "metadata": {},
     "output_type": "execute_result"
    }
   ],
   "source": [
    "radar.entries[50].keys()"
   ]
  },
  {
   "cell_type": "markdown",
   "metadata": {},
   "source": [
    "### 6. Obtain a list of components (keys) available for an entry.\n",
    "\n",
    "*Hint: Remember to index first before requesting the keys*"
   ]
  },
  {
   "cell_type": "code",
   "execution_count": 17,
   "metadata": {},
   "outputs": [
    {
     "data": {
      "text/plain": [
       "['title',\n",
       " 'title_detail',\n",
       " 'links',\n",
       " 'link',\n",
       " 'comments',\n",
       " 'published',\n",
       " 'published_parsed',\n",
       " 'authors',\n",
       " 'author',\n",
       " 'author_detail',\n",
       " 'tags',\n",
       " 'id',\n",
       " 'guidislink',\n",
       " 'summary',\n",
       " 'summary_detail',\n",
       " 'content',\n",
       " 'wfw_commentrss',\n",
       " 'slash_comments',\n",
       " 'feedburner_origlink']"
      ]
     },
     "execution_count": 17,
     "metadata": {},
     "output_type": "execute_result"
    }
   ],
   "source": [
    "entry_keys = []\n",
    "\n",
    "for key in radar.entries[0].keys():\n",
    "    entry_keys.append(key)\n",
    "    \n",
    "entry_keys"
   ]
  },
  {
   "cell_type": "markdown",
   "metadata": {},
   "source": [
    "### 7. Extract a list of entry titles."
   ]
  },
  {
   "cell_type": "code",
   "execution_count": 18,
   "metadata": {},
   "outputs": [
    {
     "data": {
      "text/plain": [
       "['Four short links: 8 April 2020',\n",
       " 'Four short links: 7 April 2020',\n",
       " 'Governance and Discovery',\n",
       " 'Four short links: 6 April 2020',\n",
       " 'Four short links: 3 April 2020',\n",
       " 'Four short links: 2 April 2020',\n",
       " 'Four short links: 1 April 2020',\n",
       " 'Four short links: 31 March 2020',\n",
       " 'What you need to know about product management for AI',\n",
       " 'The unreasonable importance of data preparation',\n",
       " 'Four short links: 24 March 2020',\n",
       " '3 ways to confront modern business challenges',\n",
       " 'An enterprise vision is your company’s North Star',\n",
       " 'Leaders need to mobilize change-ready workforces',\n",
       " 'Great leaders inspire innovation and creativity from within their workforces',\n",
       " 'Strong leaders forge an intersection of knowledge and experience',\n",
       " 'Four short links: 23 March 2020',\n",
       " 'Four short links: 20 March 2020',\n",
       " '6 trends framing the state of AI and ML',\n",
       " 'Four short links: 19 March 2020',\n",
       " 'It’s an unprecedented crisis: 8 things to do right now',\n",
       " 'AI adoption in the enterprise 2020',\n",
       " 'Four short links: 18 March 2020',\n",
       " 'Four short links: 17 March 2020',\n",
       " 'Four short links: 16 March 2020',\n",
       " 'Four short links: 13 March 2020',\n",
       " 'Four short links: 12 March 2020',\n",
       " 'Four short links: 11 March 2020',\n",
       " 'Four short links: 10 March 2020',\n",
       " 'Four short links: 9 March 2020',\n",
       " 'Four short links: 6 March 2020',\n",
       " 'Radar trends to watch: March 2020',\n",
       " 'Four short links: 5 March 2020',\n",
       " 'Remembering Freeman Dyson',\n",
       " 'Four short links: 4 March 2020',\n",
       " 'Four short links: 3 March 2020',\n",
       " 'The death of Agile?',\n",
       " 'Four short links: 2 March 2020',\n",
       " 'Four short links: 28 February 2020',\n",
       " 'Four short links: 27 February 2020',\n",
       " 'Highlights from the O’Reilly Software Architecture Conference in New York 2020',\n",
       " 'Intellectual control',\n",
       " 'Architecture.Next: Invalidating old axioms',\n",
       " 'Where do great architectures come from?',\n",
       " 'Four short links: 26 February 2020',\n",
       " 'Sometimes I draw',\n",
       " 'From the trenches: Rachel Laycock',\n",
       " 'The elephant in the architecture',\n",
       " 'Four short links: 25 February 2020',\n",
       " 'Four short links: 24 February 2020',\n",
       " 'Four short links: 22 February 2020',\n",
       " 'Four short links: 20 February 2020',\n",
       " '10 ways to get untapped talent in your organization to contribute',\n",
       " 'Four short links: 19 February 2020',\n",
       " '5 key areas for tech leaders to watch in 2020',\n",
       " 'Four short links: 18 February 2020',\n",
       " 'Four short links: 17 February 2020',\n",
       " 'Four short links: 14 February 2020',\n",
       " 'Four short links: 13 February 2020',\n",
       " 'The state of data quality in 2020']"
      ]
     },
     "execution_count": 18,
     "metadata": {},
     "output_type": "execute_result"
    }
   ],
   "source": [
    "entry_titles = []\n",
    "\n",
    "i=0\n",
    "while i < len(radar.entries):\n",
    "    entry_titles.append(radar.entries[i].title)\n",
    "    i +=1\n",
    "    \n",
    "entry_titles"
   ]
  },
  {
   "cell_type": "markdown",
   "metadata": {},
   "source": [
    "### 8. Calculate the percentage of \"Four short links\" entry titles."
   ]
  },
  {
   "cell_type": "code",
   "execution_count": 19,
   "metadata": {},
   "outputs": [
    {
     "name": "stdout",
     "output_type": "stream",
     "text": [
      "60.0 % of the entry titles are from \"Four short links\" titles\n"
     ]
    }
   ],
   "source": [
    "import re\n",
    "\n",
    "contador = 0\n",
    "\n",
    "for title in entry_titles:\n",
    "    if re.search(r'(Four short links)',title):\n",
    "        contador +=1\n",
    "\n",
    "\n",
    "porcentaje = contador / len(entry_titles) *100\n",
    "print(porcentaje,\"% of the entry titles are from \\\"Four short links\\\" titles\")"
   ]
  },
  {
   "cell_type": "markdown",
   "metadata": {},
   "source": [
    "### 9. Create a Pandas data frame from the feed's entries."
   ]
  },
  {
   "cell_type": "code",
   "execution_count": 20,
   "metadata": {},
   "outputs": [],
   "source": [
    "import pandas as pd"
   ]
  },
  {
   "cell_type": "code",
   "execution_count": 21,
   "metadata": {},
   "outputs": [
    {
     "data": {
      "text/html": [
       "<div>\n",
       "<style scoped>\n",
       "    .dataframe tbody tr th:only-of-type {\n",
       "        vertical-align: middle;\n",
       "    }\n",
       "\n",
       "    .dataframe tbody tr th {\n",
       "        vertical-align: top;\n",
       "    }\n",
       "\n",
       "    .dataframe thead th {\n",
       "        text-align: right;\n",
       "    }\n",
       "</style>\n",
       "<table border=\"1\" class=\"dataframe\">\n",
       "  <thead>\n",
       "    <tr style=\"text-align: right;\">\n",
       "      <th></th>\n",
       "      <th>title</th>\n",
       "      <th>title_detail</th>\n",
       "      <th>links</th>\n",
       "      <th>link</th>\n",
       "      <th>comments</th>\n",
       "      <th>published</th>\n",
       "      <th>published_parsed</th>\n",
       "      <th>authors</th>\n",
       "      <th>author</th>\n",
       "      <th>author_detail</th>\n",
       "      <th>tags</th>\n",
       "      <th>id</th>\n",
       "      <th>guidislink</th>\n",
       "      <th>summary</th>\n",
       "      <th>summary_detail</th>\n",
       "      <th>content</th>\n",
       "      <th>wfw_commentrss</th>\n",
       "      <th>slash_comments</th>\n",
       "      <th>feedburner_origlink</th>\n",
       "    </tr>\n",
       "  </thead>\n",
       "  <tbody>\n",
       "    <tr>\n",
       "      <th>0</th>\n",
       "      <td>Four short links: 8 April 2020</td>\n",
       "      <td>{'type': 'text/plain', 'language': None, 'base...</td>\n",
       "      <td>[{'rel': 'alternate', 'type': 'text/html', 'hr...</td>\n",
       "      <td>http://feedproxy.google.com/~r/oreilly/radar/a...</td>\n",
       "      <td>https://www.oreilly.com/radar/four-short-links...</td>\n",
       "      <td>Wed, 08 Apr 2020 11:48:28 +0000</td>\n",
       "      <td>(2020, 4, 8, 11, 48, 28, 2, 99, 0)</td>\n",
       "      <td>[{'name': 'Nat Torkington'}]</td>\n",
       "      <td>Nat Torkington</td>\n",
       "      <td>{'name': 'Nat Torkington'}</td>\n",
       "      <td>[{'term': 'Four Short Links', 'scheme': None, ...</td>\n",
       "      <td>https://www.oreilly.com/radar/?p=12611</td>\n",
       "      <td>False</td>\n",
       "      <td>System Design for Advanced Beginners &amp;#8212; a...</td>\n",
       "      <td>{'type': 'text/html', 'language': None, 'base'...</td>\n",
       "      <td>[{'type': 'text/html', 'language': None, 'base...</td>\n",
       "      <td>https://www.oreilly.com/radar/four-short-links...</td>\n",
       "      <td>0</td>\n",
       "      <td>https://www.oreilly.com/radar/four-short-links...</td>\n",
       "    </tr>\n",
       "    <tr>\n",
       "      <th>1</th>\n",
       "      <td>Four short links: 7 April 2020</td>\n",
       "      <td>{'type': 'text/plain', 'language': None, 'base...</td>\n",
       "      <td>[{'rel': 'alternate', 'type': 'text/html', 'hr...</td>\n",
       "      <td>http://feedproxy.google.com/~r/oreilly/radar/a...</td>\n",
       "      <td>https://www.oreilly.com/radar/four-short-links...</td>\n",
       "      <td>Tue, 07 Apr 2020 11:45:13 +0000</td>\n",
       "      <td>(2020, 4, 7, 11, 45, 13, 1, 98, 0)</td>\n",
       "      <td>[{'name': 'Nat Torkington'}]</td>\n",
       "      <td>Nat Torkington</td>\n",
       "      <td>{'name': 'Nat Torkington'}</td>\n",
       "      <td>[{'term': 'Four Short Links', 'scheme': None, ...</td>\n",
       "      <td>https://www.oreilly.com/radar/?p=12606</td>\n",
       "      <td>False</td>\n",
       "      <td>locust &amp;#8212; open source load testing tool: ...</td>\n",
       "      <td>{'type': 'text/html', 'language': None, 'base'...</td>\n",
       "      <td>[{'type': 'text/html', 'language': None, 'base...</td>\n",
       "      <td>https://www.oreilly.com/radar/four-short-links...</td>\n",
       "      <td>0</td>\n",
       "      <td>https://www.oreilly.com/radar/four-short-links...</td>\n",
       "    </tr>\n",
       "  </tbody>\n",
       "</table>\n",
       "</div>"
      ],
      "text/plain": [
       "                            title  \\\n",
       "0  Four short links: 8 April 2020   \n",
       "1  Four short links: 7 April 2020   \n",
       "\n",
       "                                        title_detail  \\\n",
       "0  {'type': 'text/plain', 'language': None, 'base...   \n",
       "1  {'type': 'text/plain', 'language': None, 'base...   \n",
       "\n",
       "                                               links  \\\n",
       "0  [{'rel': 'alternate', 'type': 'text/html', 'hr...   \n",
       "1  [{'rel': 'alternate', 'type': 'text/html', 'hr...   \n",
       "\n",
       "                                                link  \\\n",
       "0  http://feedproxy.google.com/~r/oreilly/radar/a...   \n",
       "1  http://feedproxy.google.com/~r/oreilly/radar/a...   \n",
       "\n",
       "                                            comments  \\\n",
       "0  https://www.oreilly.com/radar/four-short-links...   \n",
       "1  https://www.oreilly.com/radar/four-short-links...   \n",
       "\n",
       "                         published                    published_parsed  \\\n",
       "0  Wed, 08 Apr 2020 11:48:28 +0000  (2020, 4, 8, 11, 48, 28, 2, 99, 0)   \n",
       "1  Tue, 07 Apr 2020 11:45:13 +0000  (2020, 4, 7, 11, 45, 13, 1, 98, 0)   \n",
       "\n",
       "                        authors          author               author_detail  \\\n",
       "0  [{'name': 'Nat Torkington'}]  Nat Torkington  {'name': 'Nat Torkington'}   \n",
       "1  [{'name': 'Nat Torkington'}]  Nat Torkington  {'name': 'Nat Torkington'}   \n",
       "\n",
       "                                                tags  \\\n",
       "0  [{'term': 'Four Short Links', 'scheme': None, ...   \n",
       "1  [{'term': 'Four Short Links', 'scheme': None, ...   \n",
       "\n",
       "                                       id  guidislink  \\\n",
       "0  https://www.oreilly.com/radar/?p=12611       False   \n",
       "1  https://www.oreilly.com/radar/?p=12606       False   \n",
       "\n",
       "                                             summary  \\\n",
       "0  System Design for Advanced Beginners &#8212; a...   \n",
       "1  locust &#8212; open source load testing tool: ...   \n",
       "\n",
       "                                      summary_detail  \\\n",
       "0  {'type': 'text/html', 'language': None, 'base'...   \n",
       "1  {'type': 'text/html', 'language': None, 'base'...   \n",
       "\n",
       "                                             content  \\\n",
       "0  [{'type': 'text/html', 'language': None, 'base...   \n",
       "1  [{'type': 'text/html', 'language': None, 'base...   \n",
       "\n",
       "                                      wfw_commentrss slash_comments  \\\n",
       "0  https://www.oreilly.com/radar/four-short-links...              0   \n",
       "1  https://www.oreilly.com/radar/four-short-links...              0   \n",
       "\n",
       "                                 feedburner_origlink  \n",
       "0  https://www.oreilly.com/radar/four-short-links...  \n",
       "1  https://www.oreilly.com/radar/four-short-links...  "
      ]
     },
     "execution_count": 21,
     "metadata": {},
     "output_type": "execute_result"
    }
   ],
   "source": [
    "df = pd.DataFrame(radar.entries)\n",
    "df.head(2)"
   ]
  },
  {
   "cell_type": "markdown",
   "metadata": {},
   "source": [
    "### 10. Count the number of entries per author and sort them in descending order."
   ]
  },
  {
   "cell_type": "code",
   "execution_count": 22,
   "metadata": {},
   "outputs": [
    {
     "data": {
      "text/plain": [
       "Nat Torkington                       36\n",
       "Roger Magoulas and Steve Swoyer       4\n",
       "Jenn Webb                             4\n",
       "Mike Loukides                         3\n",
       "Mary Poppendieck                      1\n",
       "Peter Skomoroch and Mike Loukides     1\n",
       "Pamela Rucker                         1\n",
       "Cynthia Owens                         1\n",
       "Tim O’Reilly                          1\n",
       "Martin Fowler                         1\n",
       "Kai Holnes                            1\n",
       "Hugo Bowne-Anderson                   1\n",
       "Mark Richards                         1\n",
       "Rita J. King                          1\n",
       "George Fairbanks                      1\n",
       "Rachel Laycock and Neal Ford          1\n",
       "Mac Slocum                            1\n",
       "Name: author, dtype: int64"
      ]
     },
     "execution_count": 22,
     "metadata": {},
     "output_type": "execute_result"
    }
   ],
   "source": [
    "df['author'].value_counts(sort=True, ascending=False,)"
   ]
  },
  {
   "cell_type": "markdown",
   "metadata": {},
   "source": [
    "### 11. Add a new column to the data frame that contains the length (number of characters) of each entry title. Return a data frame that contains the title, author, and title length of each entry in descending order (longest title length at the top)."
   ]
  },
  {
   "cell_type": "code",
   "execution_count": 23,
   "metadata": {},
   "outputs": [
    {
     "data": {
      "text/html": [
       "<div>\n",
       "<style scoped>\n",
       "    .dataframe tbody tr th:only-of-type {\n",
       "        vertical-align: middle;\n",
       "    }\n",
       "\n",
       "    .dataframe tbody tr th {\n",
       "        vertical-align: top;\n",
       "    }\n",
       "\n",
       "    .dataframe thead th {\n",
       "        text-align: right;\n",
       "    }\n",
       "</style>\n",
       "<table border=\"1\" class=\"dataframe\">\n",
       "  <thead>\n",
       "    <tr style=\"text-align: right;\">\n",
       "      <th></th>\n",
       "      <th>title</th>\n",
       "      <th>author</th>\n",
       "      <th>tamaño</th>\n",
       "    </tr>\n",
       "  </thead>\n",
       "  <tbody>\n",
       "    <tr>\n",
       "      <th>40</th>\n",
       "      <td>Highlights from the O’Reilly Software Architec...</td>\n",
       "      <td>Mac Slocum</td>\n",
       "      <td>78</td>\n",
       "    </tr>\n",
       "    <tr>\n",
       "      <th>14</th>\n",
       "      <td>Great leaders inspire innovation and creativit...</td>\n",
       "      <td>Jenn Webb</td>\n",
       "      <td>76</td>\n",
       "    </tr>\n",
       "    <tr>\n",
       "      <th>52</th>\n",
       "      <td>10 ways to get untapped talent in your organiz...</td>\n",
       "      <td>Pamela Rucker</td>\n",
       "      <td>65</td>\n",
       "    </tr>\n",
       "    <tr>\n",
       "      <th>15</th>\n",
       "      <td>Strong leaders forge an intersection of knowle...</td>\n",
       "      <td>Jenn Webb</td>\n",
       "      <td>64</td>\n",
       "    </tr>\n",
       "    <tr>\n",
       "      <th>20</th>\n",
       "      <td>It’s an unprecedented crisis: 8 things to do r...</td>\n",
       "      <td>Cynthia Owens</td>\n",
       "      <td>54</td>\n",
       "    </tr>\n",
       "    <tr>\n",
       "      <th>8</th>\n",
       "      <td>What you need to know about product management...</td>\n",
       "      <td>Peter Skomoroch and Mike Loukides</td>\n",
       "      <td>53</td>\n",
       "    </tr>\n",
       "    <tr>\n",
       "      <th>12</th>\n",
       "      <td>An enterprise vision is your company’s North Star</td>\n",
       "      <td>Jenn Webb</td>\n",
       "      <td>49</td>\n",
       "    </tr>\n",
       "    <tr>\n",
       "      <th>13</th>\n",
       "      <td>Leaders need to mobilize change-ready workforces</td>\n",
       "      <td>Jenn Webb</td>\n",
       "      <td>48</td>\n",
       "    </tr>\n",
       "    <tr>\n",
       "      <th>9</th>\n",
       "      <td>The unreasonable importance of data preparation</td>\n",
       "      <td>Hugo Bowne-Anderson</td>\n",
       "      <td>47</td>\n",
       "    </tr>\n",
       "    <tr>\n",
       "      <th>11</th>\n",
       "      <td>3 ways to confront modern business challenges</td>\n",
       "      <td>Rita J. King</td>\n",
       "      <td>45</td>\n",
       "    </tr>\n",
       "    <tr>\n",
       "      <th>54</th>\n",
       "      <td>5 key areas for tech leaders to watch in 2020</td>\n",
       "      <td>Roger Magoulas and Steve Swoyer</td>\n",
       "      <td>45</td>\n",
       "    </tr>\n",
       "    <tr>\n",
       "      <th>42</th>\n",
       "      <td>Architecture.Next: Invalidating old axioms</td>\n",
       "      <td>Mark Richards</td>\n",
       "      <td>42</td>\n",
       "    </tr>\n",
       "    <tr>\n",
       "      <th>18</th>\n",
       "      <td>6 trends framing the state of AI and ML</td>\n",
       "      <td>Roger Magoulas and Steve Swoyer</td>\n",
       "      <td>39</td>\n",
       "    </tr>\n",
       "    <tr>\n",
       "      <th>43</th>\n",
       "      <td>Where do great architectures come from?</td>\n",
       "      <td>Mary Poppendieck</td>\n",
       "      <td>39</td>\n",
       "    </tr>\n",
       "    <tr>\n",
       "      <th>53</th>\n",
       "      <td>Four short links: 19 February 2020</td>\n",
       "      <td>Nat Torkington</td>\n",
       "      <td>34</td>\n",
       "    </tr>\n",
       "    <tr>\n",
       "      <th>49</th>\n",
       "      <td>Four short links: 24 February 2020</td>\n",
       "      <td>Nat Torkington</td>\n",
       "      <td>34</td>\n",
       "    </tr>\n",
       "    <tr>\n",
       "      <th>48</th>\n",
       "      <td>Four short links: 25 February 2020</td>\n",
       "      <td>Nat Torkington</td>\n",
       "      <td>34</td>\n",
       "    </tr>\n",
       "    <tr>\n",
       "      <th>38</th>\n",
       "      <td>Four short links: 28 February 2020</td>\n",
       "      <td>Nat Torkington</td>\n",
       "      <td>34</td>\n",
       "    </tr>\n",
       "    <tr>\n",
       "      <th>50</th>\n",
       "      <td>Four short links: 22 February 2020</td>\n",
       "      <td>Nat Torkington</td>\n",
       "      <td>34</td>\n",
       "    </tr>\n",
       "    <tr>\n",
       "      <th>51</th>\n",
       "      <td>Four short links: 20 February 2020</td>\n",
       "      <td>Nat Torkington</td>\n",
       "      <td>34</td>\n",
       "    </tr>\n",
       "    <tr>\n",
       "      <th>39</th>\n",
       "      <td>Four short links: 27 February 2020</td>\n",
       "      <td>Nat Torkington</td>\n",
       "      <td>34</td>\n",
       "    </tr>\n",
       "    <tr>\n",
       "      <th>44</th>\n",
       "      <td>Four short links: 26 February 2020</td>\n",
       "      <td>Nat Torkington</td>\n",
       "      <td>34</td>\n",
       "    </tr>\n",
       "    <tr>\n",
       "      <th>21</th>\n",
       "      <td>AI adoption in the enterprise 2020</td>\n",
       "      <td>Roger Magoulas and Steve Swoyer</td>\n",
       "      <td>34</td>\n",
       "    </tr>\n",
       "    <tr>\n",
       "      <th>58</th>\n",
       "      <td>Four short links: 13 February 2020</td>\n",
       "      <td>Nat Torkington</td>\n",
       "      <td>34</td>\n",
       "    </tr>\n",
       "    <tr>\n",
       "      <th>57</th>\n",
       "      <td>Four short links: 14 February 2020</td>\n",
       "      <td>Nat Torkington</td>\n",
       "      <td>34</td>\n",
       "    </tr>\n",
       "    <tr>\n",
       "      <th>56</th>\n",
       "      <td>Four short links: 17 February 2020</td>\n",
       "      <td>Nat Torkington</td>\n",
       "      <td>34</td>\n",
       "    </tr>\n",
       "    <tr>\n",
       "      <th>55</th>\n",
       "      <td>Four short links: 18 February 2020</td>\n",
       "      <td>Nat Torkington</td>\n",
       "      <td>34</td>\n",
       "    </tr>\n",
       "    <tr>\n",
       "      <th>59</th>\n",
       "      <td>The state of data quality in 2020</td>\n",
       "      <td>Roger Magoulas and Steve Swoyer</td>\n",
       "      <td>33</td>\n",
       "    </tr>\n",
       "    <tr>\n",
       "      <th>46</th>\n",
       "      <td>From the trenches: Rachel Laycock</td>\n",
       "      <td>Rachel Laycock and Neal Ford</td>\n",
       "      <td>33</td>\n",
       "    </tr>\n",
       "    <tr>\n",
       "      <th>31</th>\n",
       "      <td>Radar trends to watch: March 2020</td>\n",
       "      <td>Mike Loukides</td>\n",
       "      <td>33</td>\n",
       "    </tr>\n",
       "    <tr>\n",
       "      <th>47</th>\n",
       "      <td>The elephant in the architecture</td>\n",
       "      <td>Martin Fowler</td>\n",
       "      <td>32</td>\n",
       "    </tr>\n",
       "    <tr>\n",
       "      <th>10</th>\n",
       "      <td>Four short links: 24 March 2020</td>\n",
       "      <td>Nat Torkington</td>\n",
       "      <td>31</td>\n",
       "    </tr>\n",
       "    <tr>\n",
       "      <th>7</th>\n",
       "      <td>Four short links: 31 March 2020</td>\n",
       "      <td>Nat Torkington</td>\n",
       "      <td>31</td>\n",
       "    </tr>\n",
       "    <tr>\n",
       "      <th>23</th>\n",
       "      <td>Four short links: 17 March 2020</td>\n",
       "      <td>Nat Torkington</td>\n",
       "      <td>31</td>\n",
       "    </tr>\n",
       "    <tr>\n",
       "      <th>24</th>\n",
       "      <td>Four short links: 16 March 2020</td>\n",
       "      <td>Nat Torkington</td>\n",
       "      <td>31</td>\n",
       "    </tr>\n",
       "    <tr>\n",
       "      <th>17</th>\n",
       "      <td>Four short links: 20 March 2020</td>\n",
       "      <td>Nat Torkington</td>\n",
       "      <td>31</td>\n",
       "    </tr>\n",
       "    <tr>\n",
       "      <th>19</th>\n",
       "      <td>Four short links: 19 March 2020</td>\n",
       "      <td>Nat Torkington</td>\n",
       "      <td>31</td>\n",
       "    </tr>\n",
       "    <tr>\n",
       "      <th>22</th>\n",
       "      <td>Four short links: 18 March 2020</td>\n",
       "      <td>Nat Torkington</td>\n",
       "      <td>31</td>\n",
       "    </tr>\n",
       "    <tr>\n",
       "      <th>28</th>\n",
       "      <td>Four short links: 10 March 2020</td>\n",
       "      <td>Nat Torkington</td>\n",
       "      <td>31</td>\n",
       "    </tr>\n",
       "    <tr>\n",
       "      <th>27</th>\n",
       "      <td>Four short links: 11 March 2020</td>\n",
       "      <td>Nat Torkington</td>\n",
       "      <td>31</td>\n",
       "    </tr>\n",
       "    <tr>\n",
       "      <th>26</th>\n",
       "      <td>Four short links: 12 March 2020</td>\n",
       "      <td>Nat Torkington</td>\n",
       "      <td>31</td>\n",
       "    </tr>\n",
       "    <tr>\n",
       "      <th>25</th>\n",
       "      <td>Four short links: 13 March 2020</td>\n",
       "      <td>Nat Torkington</td>\n",
       "      <td>31</td>\n",
       "    </tr>\n",
       "    <tr>\n",
       "      <th>16</th>\n",
       "      <td>Four short links: 23 March 2020</td>\n",
       "      <td>Nat Torkington</td>\n",
       "      <td>31</td>\n",
       "    </tr>\n",
       "    <tr>\n",
       "      <th>0</th>\n",
       "      <td>Four short links: 8 April 2020</td>\n",
       "      <td>Nat Torkington</td>\n",
       "      <td>30</td>\n",
       "    </tr>\n",
       "    <tr>\n",
       "      <th>37</th>\n",
       "      <td>Four short links: 2 March 2020</td>\n",
       "      <td>Nat Torkington</td>\n",
       "      <td>30</td>\n",
       "    </tr>\n",
       "    <tr>\n",
       "      <th>35</th>\n",
       "      <td>Four short links: 3 March 2020</td>\n",
       "      <td>Nat Torkington</td>\n",
       "      <td>30</td>\n",
       "    </tr>\n",
       "    <tr>\n",
       "      <th>34</th>\n",
       "      <td>Four short links: 4 March 2020</td>\n",
       "      <td>Nat Torkington</td>\n",
       "      <td>30</td>\n",
       "    </tr>\n",
       "    <tr>\n",
       "      <th>32</th>\n",
       "      <td>Four short links: 5 March 2020</td>\n",
       "      <td>Nat Torkington</td>\n",
       "      <td>30</td>\n",
       "    </tr>\n",
       "    <tr>\n",
       "      <th>1</th>\n",
       "      <td>Four short links: 7 April 2020</td>\n",
       "      <td>Nat Torkington</td>\n",
       "      <td>30</td>\n",
       "    </tr>\n",
       "    <tr>\n",
       "      <th>29</th>\n",
       "      <td>Four short links: 9 March 2020</td>\n",
       "      <td>Nat Torkington</td>\n",
       "      <td>30</td>\n",
       "    </tr>\n",
       "    <tr>\n",
       "      <th>6</th>\n",
       "      <td>Four short links: 1 April 2020</td>\n",
       "      <td>Nat Torkington</td>\n",
       "      <td>30</td>\n",
       "    </tr>\n",
       "    <tr>\n",
       "      <th>5</th>\n",
       "      <td>Four short links: 2 April 2020</td>\n",
       "      <td>Nat Torkington</td>\n",
       "      <td>30</td>\n",
       "    </tr>\n",
       "    <tr>\n",
       "      <th>4</th>\n",
       "      <td>Four short links: 3 April 2020</td>\n",
       "      <td>Nat Torkington</td>\n",
       "      <td>30</td>\n",
       "    </tr>\n",
       "    <tr>\n",
       "      <th>3</th>\n",
       "      <td>Four short links: 6 April 2020</td>\n",
       "      <td>Nat Torkington</td>\n",
       "      <td>30</td>\n",
       "    </tr>\n",
       "    <tr>\n",
       "      <th>30</th>\n",
       "      <td>Four short links: 6 March 2020</td>\n",
       "      <td>Nat Torkington</td>\n",
       "      <td>30</td>\n",
       "    </tr>\n",
       "    <tr>\n",
       "      <th>33</th>\n",
       "      <td>Remembering Freeman Dyson</td>\n",
       "      <td>Tim O’Reilly</td>\n",
       "      <td>25</td>\n",
       "    </tr>\n",
       "    <tr>\n",
       "      <th>2</th>\n",
       "      <td>Governance and Discovery</td>\n",
       "      <td>Mike Loukides</td>\n",
       "      <td>24</td>\n",
       "    </tr>\n",
       "    <tr>\n",
       "      <th>41</th>\n",
       "      <td>Intellectual control</td>\n",
       "      <td>George Fairbanks</td>\n",
       "      <td>20</td>\n",
       "    </tr>\n",
       "    <tr>\n",
       "      <th>36</th>\n",
       "      <td>The death of Agile?</td>\n",
       "      <td>Mike Loukides</td>\n",
       "      <td>19</td>\n",
       "    </tr>\n",
       "    <tr>\n",
       "      <th>45</th>\n",
       "      <td>Sometimes I draw</td>\n",
       "      <td>Kai Holnes</td>\n",
       "      <td>16</td>\n",
       "    </tr>\n",
       "  </tbody>\n",
       "</table>\n",
       "</div>"
      ],
      "text/plain": [
       "                                                title  \\\n",
       "40  Highlights from the O’Reilly Software Architec...   \n",
       "14  Great leaders inspire innovation and creativit...   \n",
       "52  10 ways to get untapped talent in your organiz...   \n",
       "15  Strong leaders forge an intersection of knowle...   \n",
       "20  It’s an unprecedented crisis: 8 things to do r...   \n",
       "8   What you need to know about product management...   \n",
       "12  An enterprise vision is your company’s North Star   \n",
       "13   Leaders need to mobilize change-ready workforces   \n",
       "9     The unreasonable importance of data preparation   \n",
       "11      3 ways to confront modern business challenges   \n",
       "54      5 key areas for tech leaders to watch in 2020   \n",
       "42         Architecture.Next: Invalidating old axioms   \n",
       "18            6 trends framing the state of AI and ML   \n",
       "43            Where do great architectures come from?   \n",
       "53                 Four short links: 19 February 2020   \n",
       "49                 Four short links: 24 February 2020   \n",
       "48                 Four short links: 25 February 2020   \n",
       "38                 Four short links: 28 February 2020   \n",
       "50                 Four short links: 22 February 2020   \n",
       "51                 Four short links: 20 February 2020   \n",
       "39                 Four short links: 27 February 2020   \n",
       "44                 Four short links: 26 February 2020   \n",
       "21                 AI adoption in the enterprise 2020   \n",
       "58                 Four short links: 13 February 2020   \n",
       "57                 Four short links: 14 February 2020   \n",
       "56                 Four short links: 17 February 2020   \n",
       "55                 Four short links: 18 February 2020   \n",
       "59                  The state of data quality in 2020   \n",
       "46                  From the trenches: Rachel Laycock   \n",
       "31                  Radar trends to watch: March 2020   \n",
       "47                   The elephant in the architecture   \n",
       "10                    Four short links: 24 March 2020   \n",
       "7                     Four short links: 31 March 2020   \n",
       "23                    Four short links: 17 March 2020   \n",
       "24                    Four short links: 16 March 2020   \n",
       "17                    Four short links: 20 March 2020   \n",
       "19                    Four short links: 19 March 2020   \n",
       "22                    Four short links: 18 March 2020   \n",
       "28                    Four short links: 10 March 2020   \n",
       "27                    Four short links: 11 March 2020   \n",
       "26                    Four short links: 12 March 2020   \n",
       "25                    Four short links: 13 March 2020   \n",
       "16                    Four short links: 23 March 2020   \n",
       "0                      Four short links: 8 April 2020   \n",
       "37                     Four short links: 2 March 2020   \n",
       "35                     Four short links: 3 March 2020   \n",
       "34                     Four short links: 4 March 2020   \n",
       "32                     Four short links: 5 March 2020   \n",
       "1                      Four short links: 7 April 2020   \n",
       "29                     Four short links: 9 March 2020   \n",
       "6                      Four short links: 1 April 2020   \n",
       "5                      Four short links: 2 April 2020   \n",
       "4                      Four short links: 3 April 2020   \n",
       "3                      Four short links: 6 April 2020   \n",
       "30                     Four short links: 6 March 2020   \n",
       "33                          Remembering Freeman Dyson   \n",
       "2                            Governance and Discovery   \n",
       "41                               Intellectual control   \n",
       "36                                The death of Agile?   \n",
       "45                                   Sometimes I draw   \n",
       "\n",
       "                               author  tamaño  \n",
       "40                         Mac Slocum      78  \n",
       "14                          Jenn Webb      76  \n",
       "52                      Pamela Rucker      65  \n",
       "15                          Jenn Webb      64  \n",
       "20                      Cynthia Owens      54  \n",
       "8   Peter Skomoroch and Mike Loukides      53  \n",
       "12                          Jenn Webb      49  \n",
       "13                          Jenn Webb      48  \n",
       "9                 Hugo Bowne-Anderson      47  \n",
       "11                       Rita J. King      45  \n",
       "54    Roger Magoulas and Steve Swoyer      45  \n",
       "42                      Mark Richards      42  \n",
       "18    Roger Magoulas and Steve Swoyer      39  \n",
       "43                   Mary Poppendieck      39  \n",
       "53                     Nat Torkington      34  \n",
       "49                     Nat Torkington      34  \n",
       "48                     Nat Torkington      34  \n",
       "38                     Nat Torkington      34  \n",
       "50                     Nat Torkington      34  \n",
       "51                     Nat Torkington      34  \n",
       "39                     Nat Torkington      34  \n",
       "44                     Nat Torkington      34  \n",
       "21    Roger Magoulas and Steve Swoyer      34  \n",
       "58                     Nat Torkington      34  \n",
       "57                     Nat Torkington      34  \n",
       "56                     Nat Torkington      34  \n",
       "55                     Nat Torkington      34  \n",
       "59    Roger Magoulas and Steve Swoyer      33  \n",
       "46       Rachel Laycock and Neal Ford      33  \n",
       "31                      Mike Loukides      33  \n",
       "47                      Martin Fowler      32  \n",
       "10                     Nat Torkington      31  \n",
       "7                      Nat Torkington      31  \n",
       "23                     Nat Torkington      31  \n",
       "24                     Nat Torkington      31  \n",
       "17                     Nat Torkington      31  \n",
       "19                     Nat Torkington      31  \n",
       "22                     Nat Torkington      31  \n",
       "28                     Nat Torkington      31  \n",
       "27                     Nat Torkington      31  \n",
       "26                     Nat Torkington      31  \n",
       "25                     Nat Torkington      31  \n",
       "16                     Nat Torkington      31  \n",
       "0                      Nat Torkington      30  \n",
       "37                     Nat Torkington      30  \n",
       "35                     Nat Torkington      30  \n",
       "34                     Nat Torkington      30  \n",
       "32                     Nat Torkington      30  \n",
       "1                      Nat Torkington      30  \n",
       "29                     Nat Torkington      30  \n",
       "6                      Nat Torkington      30  \n",
       "5                      Nat Torkington      30  \n",
       "4                      Nat Torkington      30  \n",
       "3                      Nat Torkington      30  \n",
       "30                     Nat Torkington      30  \n",
       "33                       Tim O’Reilly      25  \n",
       "2                       Mike Loukides      24  \n",
       "41                   George Fairbanks      20  \n",
       "36                      Mike Loukides      19  \n",
       "45                         Kai Holnes      16  "
      ]
     },
     "execution_count": 23,
     "metadata": {},
     "output_type": "execute_result"
    }
   ],
   "source": [
    "df['tamaño'] = df.title.str.len()\n",
    "\n",
    "\n",
    "final = df[['title','author','tamaño']]\n",
    "\n",
    "\n",
    "final.sort_values('tamaño',ascending=False)"
   ]
  },
  {
   "cell_type": "markdown",
   "metadata": {},
   "source": [
    "### 12. Create a list of entry titles whose summary includes the phrase \"machine learning.\""
   ]
  },
  {
   "cell_type": "code",
   "execution_count": 24,
   "metadata": {},
   "outputs": [],
   "source": [
    "def has(x): #se usa regex para encontrar la frase \"machine learning\"\n",
    "    if re.search(r'machine learning',x):\n",
    "        return 'Yes'\n",
    "    else:\n",
    "        return 'No'\n",
    "\n",
    "\n",
    "df['Has Machine'] = df.summary.apply(has)"
   ]
  },
  {
   "cell_type": "code",
   "execution_count": 25,
   "metadata": {},
   "outputs": [
    {
     "data": {
      "text/html": [
       "<div>\n",
       "<style scoped>\n",
       "    .dataframe tbody tr th:only-of-type {\n",
       "        vertical-align: middle;\n",
       "    }\n",
       "\n",
       "    .dataframe tbody tr th {\n",
       "        vertical-align: top;\n",
       "    }\n",
       "\n",
       "    .dataframe thead th {\n",
       "        text-align: right;\n",
       "    }\n",
       "</style>\n",
       "<table border=\"1\" class=\"dataframe\">\n",
       "  <thead>\n",
       "    <tr style=\"text-align: right;\">\n",
       "      <th></th>\n",
       "      <th>title</th>\n",
       "      <th>Has Machine</th>\n",
       "      <th>summary</th>\n",
       "    </tr>\n",
       "  </thead>\n",
       "  <tbody>\n",
       "    <tr>\n",
       "      <th>8</th>\n",
       "      <td>What you need to know about product management...</td>\n",
       "      <td>Yes</td>\n",
       "      <td>If you’re already a software product manager (...</td>\n",
       "    </tr>\n",
       "    <tr>\n",
       "      <th>58</th>\n",
       "      <td>Four short links: 13 February 2020</td>\n",
       "      <td>Yes</td>\n",
       "      <td>Ofcom To Regulate UK Internet &amp;#8212; The regu...</td>\n",
       "    </tr>\n",
       "  </tbody>\n",
       "</table>\n",
       "</div>"
      ],
      "text/plain": [
       "                                                title Has Machine  \\\n",
       "8   What you need to know about product management...         Yes   \n",
       "58                 Four short links: 13 February 2020         Yes   \n",
       "\n",
       "                                              summary  \n",
       "8   If you’re already a software product manager (...  \n",
       "58  Ofcom To Regulate UK Internet &#8212; The regu...  "
      ]
     },
     "execution_count": 25,
     "metadata": {},
     "output_type": "execute_result"
    }
   ],
   "source": [
    "doce = df[['title','Has Machine','summary']]\n",
    "\n",
    "doce_fil = doce[df['Has Machine']=='Yes']\n",
    "\n",
    "doce_fil"
   ]
  },
  {
   "cell_type": "code",
   "execution_count": 26,
   "metadata": {},
   "outputs": [
    {
     "data": {
      "text/plain": [
       "'If you’re already a software product manager (PM), you have a head start on becoming a PM for artificial intelligence (AI) or machine learning (ML). You already know the game and how it is played: you’re the coordinator who ties everything together, from the developers and designers to the executives. You’re responsible for the design, [&#8230;]'"
      ]
     },
     "execution_count": 26,
     "metadata": {},
     "output_type": "execute_result"
    }
   ],
   "source": [
    "df.summary.loc[8]"
   ]
  },
  {
   "cell_type": "code",
   "execution_count": 27,
   "metadata": {},
   "outputs": [
    {
     "data": {
      "text/plain": [
       "'Ofcom To Regulate UK Internet &#8212; The regulator will play a key role in enforcing a statutory duty of care to protect users from harmful and illegal terrorist and child abuse content. Turing &#8212; Julia library for fast machine learning. The Effects of Prize Structures on Innovative Performance &#8212; We find that a winner-takes-all compensation [&#8230;]'"
      ]
     },
     "execution_count": 27,
     "metadata": {},
     "output_type": "execute_result"
    }
   ],
   "source": [
    "df.summary.loc[58]"
   ]
  },
  {
   "cell_type": "code",
   "execution_count": 28,
   "metadata": {},
   "outputs": [],
   "source": [
    "listadoce = doce_fil.title.tolist()"
   ]
  },
  {
   "cell_type": "code",
   "execution_count": 29,
   "metadata": {},
   "outputs": [
    {
     "data": {
      "text/plain": [
       "['What you need to know about product management for AI',\n",
       " 'Four short links: 13 February 2020']"
      ]
     },
     "execution_count": 29,
     "metadata": {},
     "output_type": "execute_result"
    }
   ],
   "source": [
    "listadoce #lista con los títulos que contienen machine learning en el título"
   ]
  }
 ],
 "metadata": {
  "kernelspec": {
   "display_name": "Python 3",
   "language": "python",
   "name": "python3"
  },
  "language_info": {
   "codemirror_mode": {
    "name": "ipython",
    "version": 3
   },
   "file_extension": ".py",
   "mimetype": "text/x-python",
   "name": "python",
   "nbconvert_exporter": "python",
   "pygments_lexer": "ipython3",
   "version": "3.8.0"
  }
 },
 "nbformat": 4,
 "nbformat_minor": 2
}
