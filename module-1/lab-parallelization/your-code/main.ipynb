{
 "cells": [
  {
   "cell_type": "markdown",
   "metadata": {},
   "source": [
    "# Parallelization Lab\n",
    "\n",
    "In this lab, you will be leveraging several concepts you have learned to obtain a list of links from a web page and crawl and index the pages referenced by those links - both sequentially and in parallel. Follow the steps below to complete the lab."
   ]
  },
  {
   "cell_type": "markdown",
   "metadata": {},
   "source": [
    "## Step 1: Use the requests library to retrieve the content from the URL below."
   ]
  },
  {
   "cell_type": "code",
   "execution_count": 4,
   "metadata": {},
   "outputs": [],
   "source": [
    "import requests as req\n",
    "\n",
    "url = 'https://en.wikipedia.org/wiki/Data_science'"
   ]
  },
  {
   "cell_type": "code",
   "execution_count": 5,
   "metadata": {},
   "outputs": [],
   "source": [
    "resp = req.get(url).content\n",
    "#resp"
   ]
  },
  {
   "cell_type": "markdown",
   "metadata": {},
   "source": [
    "## Step 2: Use BeautifulSoup to extract a list of all the unique links on the page."
   ]
  },
  {
   "cell_type": "code",
   "execution_count": 6,
   "metadata": {},
   "outputs": [],
   "source": [
    "from bs4 import BeautifulSoup as bs"
   ]
  },
  {
   "cell_type": "code",
   "execution_count": 7,
   "metadata": {
    "scrolled": true
   },
   "outputs": [
    {
     "data": {
      "text/plain": [
       "bs4.element.ResultSet"
      ]
     },
     "execution_count": 7,
     "metadata": {},
     "output_type": "execute_result"
    }
   ],
   "source": [
    "soup = bs(resp,'lxml')\n",
    "links = soup.find_all('a')\n",
    "type(links)"
   ]
  },
  {
   "cell_type": "code",
   "execution_count": 8,
   "metadata": {},
   "outputs": [
    {
     "data": {
      "text/plain": [
       "[None,\n",
       " '#mw-head',\n",
       " '#p-search',\n",
       " '/wiki/Information_science',\n",
       " '/wiki/Machine_learning']"
      ]
     },
     "execution_count": 8,
     "metadata": {},
     "output_type": "execute_result"
    }
   ],
   "source": [
    "links1 = []\n",
    "\n",
    "#se utiliza la función interna de beautiful soup para traer links. \n",
    "for link in links:\n",
    "    links1.append(link.get('href'))\n",
    "\n",
    "links1[:5]"
   ]
  },
  {
   "cell_type": "code",
   "execution_count": 9,
   "metadata": {},
   "outputs": [
    {
     "data": {
      "text/plain": [
       "['https://arxiv.org/list/cs.LG/recent',\n",
       " 'https://en.wikipedia.org/w/index.php?title=Template:Machine_learning_bar&action=edit',\n",
       " 'https://doi.org/10.1145%2F2500499',\n",
       " 'https://web.archive.org/web/20141109113411/http://cacm.acm.org/magazines/2013/12/169933-data-science-and-prediction/fulltext',\n",
       " 'https://web.archive.org/web/20140102194117/http://simplystatistics.org/2013/12/12/the-key-word-in-data-science-is-not-data-it-is-science/']"
      ]
     },
     "execution_count": 9,
     "metadata": {},
     "output_type": "execute_result"
    }
   ],
   "source": [
    "import re\n",
    "finalinks = []\n",
    "for link in links1:\n",
    "    ye = re.search(r\"^(https.+)\",str(link)) #trae todo lo que empieza con https\n",
    "    if ye: \n",
    "        finalinks.append(ye.group())\n",
    "               \n",
    "finalinks[:5]"
   ]
  },
  {
   "cell_type": "code",
   "execution_count": 10,
   "metadata": {},
   "outputs": [
    {
     "data": {
      "text/plain": [
       "82"
      ]
     },
     "execution_count": 10,
     "metadata": {},
     "output_type": "execute_result"
    }
   ],
   "source": [
    "unique = set(finalinks)\n",
    "len(unique)"
   ]
  },
  {
   "cell_type": "code",
   "execution_count": 11,
   "metadata": {},
   "outputs": [
    {
     "data": {
      "text/plain": [
       "['https://www.nsf.gov/pubs/2005/nsb0540/',\n",
       " 'https://ja.wikipedia.org/wiki/%E3%83%87%E3%83%BC%E3%82%BF%E3%82%B5%E3%82%A4%E3%82%A8%E3%83%B3%E3%82%B9',\n",
       " 'https://de.wikipedia.org/wiki/Data_Science',\n",
       " 'https://foundation.wikimedia.org/wiki/Cookie_statement',\n",
       " 'https://www.wired.com/2014/07/a-drag-and-drop-toolkit-that-lets-anyone-create-interactive-maps/']"
      ]
     },
     "execution_count": 11,
     "metadata": {},
     "output_type": "execute_result"
    }
   ],
   "source": [
    "unique_list = list(unique)\n",
    "unique_list[:5]"
   ]
  },
  {
   "cell_type": "markdown",
   "metadata": {},
   "source": [
    "## Step 3: Use list comprehensions with conditions to clean the link list.\n",
    "\n",
    "There are two types of links, absolute and relative. Absolute links have the full URL and begin with http while relative links begin with a forward slash (/) and point to an internal page within the wikipedia.org domain. Clean the respective types of URLs as follows.\n",
    "\n",
    "- Absolute Links: Create a list of these and remove any that contain a percentage sign (%).\n",
    "- Relativel Links: Create a list of these, add the domain to the link so that you have the full URL, and remove any that contain a percentage sign (%).\n",
    "- Combine the list of absolute and relative links and ensure there are no duplicates."
   ]
  },
  {
   "cell_type": "code",
   "execution_count": 12,
   "metadata": {},
   "outputs": [],
   "source": [
    "domain = 'http://wikipedia.org'"
   ]
  },
  {
   "cell_type": "code",
   "execution_count": 13,
   "metadata": {},
   "outputs": [],
   "source": [
    "resp = req.get(domain).content\n",
    "soup = bs(resp,'lxml')\n",
    "#soup"
   ]
  },
  {
   "cell_type": "code",
   "execution_count": 14,
   "metadata": {},
   "outputs": [
    {
     "data": {
      "text/plain": [
       "323"
      ]
     },
     "execution_count": 14,
     "metadata": {},
     "output_type": "execute_result"
    }
   ],
   "source": [
    "links = soup.find_all('a')\n",
    "links_wiki = []\n",
    "for link in links:\n",
    "    links_wiki.append(link.get('href'))\n",
    "\n",
    "links_wiki[:5]\n",
    "len(links_wiki)"
   ]
  },
  {
   "cell_type": "code",
   "execution_count": 15,
   "metadata": {},
   "outputs": [
    {
     "data": {
      "text/plain": [
       "['https://en.wikipedia.org/wiki/List_of_Wikipedia_mobile_applications',\n",
       " 'https://creativecommons.org/licenses/by-sa/3.0/']"
      ]
     },
     "execution_count": 15,
     "metadata": {},
     "output_type": "execute_result"
    }
   ],
   "source": [
    "absolute = []\n",
    "for link in links_wiki:\n",
    "    ye = re.search(r\"^(htt.+)\",str(link)) #trae todo lo que empieza con https\n",
    "    if ye: \n",
    "        absolute.append(ye.group())\n",
    "               \n",
    "absolute"
   ]
  },
  {
   "cell_type": "code",
   "execution_count": 16,
   "metadata": {},
   "outputs": [
    {
     "data": {
      "text/plain": [
       "['//en.wikipedia.org/',\n",
       " '//es.wikipedia.org/',\n",
       " '//ja.wikipedia.org/',\n",
       " '//de.wikipedia.org/',\n",
       " '//fr.wikipedia.org/']"
      ]
     },
     "execution_count": 16,
     "metadata": {},
     "output_type": "execute_result"
    }
   ],
   "source": [
    "relative = []\n",
    "for link in links_wiki:\n",
    "    ye = re.search(r\"^(/.+)\",str(link)) #trae todo lo que empieza con /\n",
    "    if ye: \n",
    "        relative.append(ye.group())\n",
    "\n",
    "relative[:5]"
   ]
  },
  {
   "cell_type": "code",
   "execution_count": 17,
   "metadata": {},
   "outputs": [
    {
     "data": {
      "text/plain": [
       "313"
      ]
     },
     "execution_count": 17,
     "metadata": {},
     "output_type": "execute_result"
    }
   ],
   "source": [
    "#cleaning the list with only links that do not have %\n",
    "\n",
    "clean_relative = [link for link in relative if bool(re.search(r\"\\%\",str(link))) == False]\n",
    "\n",
    "len(clean_relative)    "
   ]
  },
  {
   "cell_type": "code",
   "execution_count": 18,
   "metadata": {},
   "outputs": [],
   "source": [
    "#adding https: to every relative path\n",
    "\n",
    "final_relative = [\"https:\"+str(link) for link in clean_relative ]\n",
    "\n"
   ]
  },
  {
   "cell_type": "code",
   "execution_count": 19,
   "metadata": {},
   "outputs": [
    {
     "data": {
      "text/plain": [
       "['https://en.wikipedia.org/',\n",
       " 'https://es.wikipedia.org/',\n",
       " 'https://ja.wikipedia.org/',\n",
       " 'https://de.wikipedia.org/',\n",
       " 'https://fr.wikipedia.org/',\n",
       " 'https://ru.wikipedia.org/',\n",
       " 'https://it.wikipedia.org/',\n",
       " 'https://zh.wikipedia.org/',\n",
       " 'https://pt.wikipedia.org/',\n",
       " 'https://pl.wikipedia.org/',\n",
       " 'https://ar.wikipedia.org/',\n",
       " 'https://de.wikipedia.org/',\n",
       " 'https://en.wikipedia.org/',\n",
       " 'https://es.wikipedia.org/',\n",
       " 'https://fr.wikipedia.org/',\n",
       " 'https://it.wikipedia.org/',\n",
       " 'https://nl.wikipedia.org/',\n",
       " 'https://ja.wikipedia.org/',\n",
       " 'https://pl.wikipedia.org/',\n",
       " 'https://pt.wikipedia.org/',\n",
       " 'https://ru.wikipedia.org/',\n",
       " 'https://ceb.wikipedia.org/',\n",
       " 'https://sv.wikipedia.org/',\n",
       " 'https://uk.wikipedia.org/',\n",
       " 'https://vi.wikipedia.org/',\n",
       " 'https://war.wikipedia.org/',\n",
       " 'https://zh.wikipedia.org/',\n",
       " 'https://ast.wikipedia.org/',\n",
       " 'https://az.wikipedia.org/',\n",
       " 'https://bg.wikipedia.org/',\n",
       " 'https://zh-min-nan.wikipedia.org/',\n",
       " 'https://be.wikipedia.org/',\n",
       " 'https://ca.wikipedia.org/',\n",
       " 'https://cs.wikipedia.org/',\n",
       " 'https://da.wikipedia.org/',\n",
       " 'https://et.wikipedia.org/',\n",
       " 'https://el.wikipedia.org/',\n",
       " 'https://eo.wikipedia.org/',\n",
       " 'https://eu.wikipedia.org/',\n",
       " 'https://fa.wikipedia.org/',\n",
       " 'https://gl.wikipedia.org/',\n",
       " 'https://hy.wikipedia.org/',\n",
       " 'https://hi.wikipedia.org/',\n",
       " 'https://hr.wikipedia.org/',\n",
       " 'https://id.wikipedia.org/',\n",
       " 'https://he.wikipedia.org/',\n",
       " 'https://ka.wikipedia.org/',\n",
       " 'https://la.wikipedia.org/',\n",
       " 'https://lv.wikipedia.org/',\n",
       " 'https://lt.wikipedia.org/',\n",
       " 'https://hu.wikipedia.org/',\n",
       " 'https://mk.wikipedia.org/',\n",
       " 'https://arz.wikipedia.org/',\n",
       " 'https://ms.wikipedia.org/',\n",
       " 'https://min.wikipedia.org/',\n",
       " 'https://no.wikipedia.org/',\n",
       " 'https://nn.wikipedia.org/',\n",
       " 'https://ce.wikipedia.org/',\n",
       " 'https://uz.wikipedia.org/',\n",
       " 'https://kk.wikipedia.org/',\n",
       " 'https://ro.wikipedia.org/',\n",
       " 'https://cy.wikipedia.org/',\n",
       " 'https://simple.wikipedia.org/',\n",
       " 'https://sk.wikipedia.org/',\n",
       " 'https://sl.wikipedia.org/',\n",
       " 'https://sr.wikipedia.org/',\n",
       " 'https://sh.wikipedia.org/',\n",
       " 'https://fi.wikipedia.org/',\n",
       " 'https://ta.wikipedia.org/',\n",
       " 'https://th.wikipedia.org/',\n",
       " 'https://tg.wikipedia.org/',\n",
       " 'https://azb.wikipedia.org/',\n",
       " 'https://tr.wikipedia.org/',\n",
       " 'https://ur.wikipedia.org/',\n",
       " 'https://vo.wikipedia.org/',\n",
       " 'https://ko.wikipedia.org/',\n",
       " 'https://ace.wikipedia.org/',\n",
       " 'https://af.wikipedia.org/',\n",
       " 'https://als.wikipedia.org/',\n",
       " 'https://am.wikipedia.org/',\n",
       " 'https://an.wikipedia.org/',\n",
       " 'https://bn.wikipedia.org/',\n",
       " 'https://map-bms.wikipedia.org/',\n",
       " 'https://ba.wikipedia.org/',\n",
       " 'https://be-tarask.wikipedia.org/',\n",
       " 'https://bcl.wikipedia.org/',\n",
       " 'https://bpy.wikipedia.org/',\n",
       " 'https://bar.wikipedia.org/',\n",
       " 'https://bs.wikipedia.org/',\n",
       " 'https://br.wikipedia.org/',\n",
       " 'https://cv.wikipedia.org/',\n",
       " 'https://nv.wikipedia.org/',\n",
       " 'https://eml.wikipedia.org/',\n",
       " 'https://fo.wikipedia.org/',\n",
       " 'https://fy.wikipedia.org/',\n",
       " 'https://ga.wikipedia.org/',\n",
       " 'https://gd.wikipedia.org/',\n",
       " 'https://gu.wikipedia.org/',\n",
       " 'https://hsb.wikipedia.org/',\n",
       " 'https://io.wikipedia.org/',\n",
       " 'https://ilo.wikipedia.org/',\n",
       " 'https://ia.wikipedia.org/',\n",
       " 'https://os.wikipedia.org/',\n",
       " 'https://is.wikipedia.org/',\n",
       " 'https://jv.wikipedia.org/',\n",
       " 'https://kn.wikipedia.org/',\n",
       " 'https://ht.wikipedia.org/',\n",
       " 'https://ku.wikipedia.org/',\n",
       " 'https://ckb.wikipedia.org/',\n",
       " 'https://ky.wikipedia.org/',\n",
       " 'https://mrj.wikipedia.org/',\n",
       " 'https://lb.wikipedia.org/',\n",
       " 'https://li.wikipedia.org/',\n",
       " 'https://lmo.wikipedia.org/',\n",
       " 'https://mai.wikipedia.org/',\n",
       " 'https://mg.wikipedia.org/',\n",
       " 'https://ml.wikipedia.org/',\n",
       " 'https://zh-classical.wikipedia.org/',\n",
       " 'https://mr.wikipedia.org/',\n",
       " 'https://xmf.wikipedia.org/',\n",
       " 'https://mzn.wikipedia.org/',\n",
       " 'https://cdo.wikipedia.org/',\n",
       " 'https://mn.wikipedia.org/',\n",
       " 'https://my.wikipedia.org/',\n",
       " 'https://new.wikipedia.org/',\n",
       " 'https://ne.wikipedia.org/',\n",
       " 'https://nap.wikipedia.org/',\n",
       " 'https://frr.wikipedia.org/',\n",
       " 'https://oc.wikipedia.org/',\n",
       " 'https://mhr.wikipedia.org/',\n",
       " 'https://or.wikipedia.org/',\n",
       " 'https://pa.wikipedia.org/',\n",
       " 'https://pnb.wikipedia.org/',\n",
       " 'https://ps.wikipedia.org/',\n",
       " 'https://pms.wikipedia.org/',\n",
       " 'https://nds.wikipedia.org/',\n",
       " 'https://qu.wikipedia.org/',\n",
       " 'https://sa.wikipedia.org/',\n",
       " 'https://sah.wikipedia.org/',\n",
       " 'https://sco.wikipedia.org/',\n",
       " 'https://sq.wikipedia.org/',\n",
       " 'https://scn.wikipedia.org/',\n",
       " 'https://si.wikipedia.org/',\n",
       " 'https://sd.wikipedia.org/',\n",
       " 'https://szl.wikipedia.org/',\n",
       " 'https://su.wikipedia.org/',\n",
       " 'https://sw.wikipedia.org/',\n",
       " 'https://tl.wikipedia.org/',\n",
       " 'https://tt.wikipedia.org/',\n",
       " 'https://te.wikipedia.org/',\n",
       " 'https://bug.wikipedia.org/',\n",
       " 'https://vec.wikipedia.org/',\n",
       " 'https://wa.wikipedia.org/',\n",
       " 'https://wuu.wikipedia.org/',\n",
       " 'https://yi.wikipedia.org/',\n",
       " 'https://yo.wikipedia.org/',\n",
       " 'https://zh-yue.wikipedia.org/',\n",
       " 'https://diq.wikipedia.org/',\n",
       " 'https://bat-smg.wikipedia.org/',\n",
       " 'https://kbd.wikipedia.org/',\n",
       " 'https://ang.wikipedia.org/',\n",
       " 'https://ak.wikipedia.org/',\n",
       " 'https://ab.wikipedia.org/',\n",
       " 'https://hyw.wikipedia.org/',\n",
       " 'https://roa-rup.wikipedia.org/',\n",
       " 'https://frp.wikipedia.org/',\n",
       " 'https://ig.wikipedia.org/',\n",
       " 'https://arc.wikipedia.org/',\n",
       " 'https://gn.wikipedia.org/',\n",
       " 'https://av.wikipedia.org/',\n",
       " 'https://ay.wikipedia.org/',\n",
       " 'https://bjn.wikipedia.org/',\n",
       " 'https://bh.wikipedia.org/',\n",
       " 'https://bi.wikipedia.org/',\n",
       " 'https://bo.wikipedia.org/',\n",
       " 'https://bxr.wikipedia.org/',\n",
       " 'https://cbk-zam.wikipedia.org/',\n",
       " 'https://co.wikipedia.org/',\n",
       " 'https://za.wikipedia.org/',\n",
       " 'https://se.wikipedia.org/',\n",
       " 'https://pdc.wikipedia.org/',\n",
       " 'https://dsb.wikipedia.org/',\n",
       " 'https://myv.wikipedia.org/',\n",
       " 'https://ext.wikipedia.org/',\n",
       " 'https://hif.wikipedia.org/',\n",
       " 'https://fur.wikipedia.org/',\n",
       " 'https://gv.wikipedia.org/',\n",
       " 'https://gag.wikipedia.org/',\n",
       " 'https://ki.wikipedia.org/',\n",
       " 'https://glk.wikipedia.org/',\n",
       " 'https://gan.wikipedia.org/',\n",
       " 'https://hak.wikipedia.org/',\n",
       " 'https://xal.wikipedia.org/',\n",
       " 'https://ha.wikipedia.org/',\n",
       " 'https://haw.wikipedia.org/',\n",
       " 'https://ie.wikipedia.org/',\n",
       " 'https://kl.wikipedia.org/',\n",
       " 'https://pam.wikipedia.org/',\n",
       " 'https://csb.wikipedia.org/',\n",
       " 'https://kw.wikipedia.org/',\n",
       " 'https://km.wikipedia.org/',\n",
       " 'https://rw.wikipedia.org/',\n",
       " 'https://kv.wikipedia.org/',\n",
       " 'https://kg.wikipedia.org/',\n",
       " 'https://gom.wikipedia.org/',\n",
       " 'https://gcr.wikipedia.org/',\n",
       " 'https://lo.wikipedia.org/',\n",
       " 'https://lad.wikipedia.org/',\n",
       " 'https://lbe.wikipedia.org/',\n",
       " 'https://lez.wikipedia.org/',\n",
       " 'https://ln.wikipedia.org/',\n",
       " 'https://jbo.wikipedia.org/',\n",
       " 'https://lrc.wikipedia.org/',\n",
       " 'https://lg.wikipedia.org/',\n",
       " 'https://lij.wikipedia.org/',\n",
       " 'https://mt.wikipedia.org/',\n",
       " 'https://ty.wikipedia.org/',\n",
       " 'https://mi.wikipedia.org/',\n",
       " 'https://mwl.wikipedia.org/',\n",
       " 'https://mdf.wikipedia.org/',\n",
       " 'https://nah.wikipedia.org/',\n",
       " 'https://na.wikipedia.org/',\n",
       " 'https://nds-nl.wikipedia.org/',\n",
       " 'https://nrm.wikipedia.org/',\n",
       " 'https://nov.wikipedia.org/',\n",
       " 'https://as.wikipedia.org/',\n",
       " 'https://pi.wikipedia.org/',\n",
       " 'https://pag.wikipedia.org/',\n",
       " 'https://pap.wikipedia.org/',\n",
       " 'https://koi.wikipedia.org/',\n",
       " 'https://pfl.wikipedia.org/',\n",
       " 'https://pcd.wikipedia.org/',\n",
       " 'https://krc.wikipedia.org/',\n",
       " 'https://kaa.wikipedia.org/',\n",
       " 'https://crh.wikipedia.org/',\n",
       " 'https://ksh.wikipedia.org/',\n",
       " 'https://rm.wikipedia.org/',\n",
       " 'https://rue.wikipedia.org/',\n",
       " 'https://sc.wikipedia.org/',\n",
       " 'https://stq.wikipedia.org/',\n",
       " 'https://nso.wikipedia.org/',\n",
       " 'https://sn.wikipedia.org/',\n",
       " 'https://so.wikipedia.org/',\n",
       " 'https://srn.wikipedia.org/',\n",
       " 'https://kab.wikipedia.org/',\n",
       " 'https://roa-tara.wikipedia.org/',\n",
       " 'https://tet.wikipedia.org/',\n",
       " 'https://tpi.wikipedia.org/',\n",
       " 'https://to.wikipedia.org/',\n",
       " 'https://tk.wikipedia.org/',\n",
       " 'https://tyv.wikipedia.org/',\n",
       " 'https://udm.wikipedia.org/',\n",
       " 'https://ug.wikipedia.org/',\n",
       " 'https://vep.wikipedia.org/',\n",
       " 'https://fiu-vro.wikipedia.org/',\n",
       " 'https://vls.wikipedia.org/',\n",
       " 'https://wo.wikipedia.org/',\n",
       " 'https://xh.wikipedia.org/',\n",
       " 'https://zea.wikipedia.org/',\n",
       " 'https://zu.wikipedia.org/',\n",
       " 'https://dv.wikipedia.org/',\n",
       " 'https://bm.wikipedia.org/',\n",
       " 'https://ch.wikipedia.org/',\n",
       " 'https://ny.wikipedia.org/',\n",
       " 'https://ee.wikipedia.org/',\n",
       " 'https://ff.wikipedia.org/',\n",
       " 'https://got.wikipedia.org/',\n",
       " 'https://iu.wikipedia.org/',\n",
       " 'https://ik.wikipedia.org/',\n",
       " 'https://ks.wikipedia.org/',\n",
       " 'https://ltg.wikipedia.org/',\n",
       " 'https://fj.wikipedia.org/',\n",
       " 'https://cr.wikipedia.org/',\n",
       " 'https://pih.wikipedia.org/',\n",
       " 'https://om.wikipedia.org/',\n",
       " 'https://pnt.wikipedia.org/',\n",
       " 'https://dz.wikipedia.org/',\n",
       " 'https://rmy.wikipedia.org/',\n",
       " 'https://rn.wikipedia.org/',\n",
       " 'https://sm.wikipedia.org/',\n",
       " 'https://sg.wikipedia.org/',\n",
       " 'https://st.wikipedia.org/',\n",
       " 'https://tn.wikipedia.org/',\n",
       " 'https://cu.wikipedia.org/',\n",
       " 'https://ss.wikipedia.org/',\n",
       " 'https://chr.wikipedia.org/',\n",
       " 'https://chy.wikipedia.org/',\n",
       " 'https://ve.wikipedia.org/',\n",
       " 'https://ts.wikipedia.org/',\n",
       " 'https://tum.wikipedia.org/',\n",
       " 'https://tw.wikipedia.org/',\n",
       " 'https://ti.wikipedia.org/',\n",
       " 'https://nqo.wikipedia.org/',\n",
       " 'https://meta.wikimedia.org/wiki/List_of_Wikipedias',\n",
       " 'https://de.wikipedia.org/wiki/Wikipedia:Sprachen',\n",
       " 'https://meta.wikimedia.org/wiki/Lista_de_Wikipedias',\n",
       " 'https://eo.wikipedia.org/wiki/Vikipedio:Internacia_Vikipedio',\n",
       " 'https://wikimediafoundation.org/',\n",
       " 'https://itunes.apple.com/app/apple-store/id324715238?pt=208305&ct=portal&mt=8',\n",
       " 'https://commons.wikimedia.org/',\n",
       " 'https://www.wikivoyage.org/',\n",
       " 'https://www.wiktionary.org/',\n",
       " 'https://www.wikibooks.org/',\n",
       " 'https://www.wikinews.org/',\n",
       " 'https://www.wikidata.org/',\n",
       " 'https://www.wikiversity.org/',\n",
       " 'https://www.wikiquote.org/',\n",
       " 'https://www.mediawiki.org/',\n",
       " 'https://www.wikisource.org/',\n",
       " 'https://species.wikimedia.org/',\n",
       " 'https://meta.wikimedia.org/',\n",
       " 'https://meta.wikimedia.org/wiki/Terms_of_Use',\n",
       " 'https://meta.wikimedia.org/wiki/Privacy_policy']"
      ]
     },
     "execution_count": 19,
     "metadata": {},
     "output_type": "execute_result"
    }
   ],
   "source": [
    "final_relative"
   ]
  },
  {
   "cell_type": "code",
   "execution_count": 20,
   "metadata": {},
   "outputs": [],
   "source": [
    "final = absolute + final_relative"
   ]
  },
  {
   "cell_type": "code",
   "execution_count": 21,
   "metadata": {},
   "outputs": [],
   "source": [
    "final.sort()"
   ]
  },
  {
   "cell_type": "code",
   "execution_count": 22,
   "metadata": {},
   "outputs": [
    {
     "data": {
      "text/plain": [
       "315"
      ]
     },
     "execution_count": 22,
     "metadata": {},
     "output_type": "execute_result"
    }
   ],
   "source": [
    "len(final)"
   ]
  },
  {
   "cell_type": "code",
   "execution_count": 23,
   "metadata": {},
   "outputs": [],
   "source": [
    "final = set(final)"
   ]
  },
  {
   "cell_type": "code",
   "execution_count": 24,
   "metadata": {},
   "outputs": [
    {
     "data": {
      "text/plain": [
       "305"
      ]
     },
     "execution_count": 24,
     "metadata": {},
     "output_type": "execute_result"
    }
   ],
   "source": [
    "len(final)"
   ]
  },
  {
   "cell_type": "code",
   "execution_count": 25,
   "metadata": {},
   "outputs": [
    {
     "data": {
      "text/plain": [
       "['https://crh.wikipedia.org/',\n",
       " 'https://sw.wikipedia.org/',\n",
       " 'https://as.wikipedia.org/',\n",
       " 'https://az.wikipedia.org/',\n",
       " 'https://lij.wikipedia.org/']"
      ]
     },
     "execution_count": 25,
     "metadata": {},
     "output_type": "execute_result"
    }
   ],
   "source": [
    "final = list(final)\n",
    "final[:5]"
   ]
  },
  {
   "cell_type": "markdown",
   "metadata": {},
   "source": [
    "## Step 4: Use the os library to create a folder called *wikipedia* and make that the current working directory."
   ]
  },
  {
   "cell_type": "code",
   "execution_count": 2,
   "metadata": {},
   "outputs": [],
   "source": [
    "import os"
   ]
  },
  {
   "cell_type": "code",
   "execution_count": 3,
   "metadata": {},
   "outputs": [
    {
     "name": "stdout",
     "output_type": "stream",
     "text": [
      "Path before creating wikipedia: /Users/EstebanCardona/Documents/IronHack/datamex0320/module-1/lab-parallelization/your-code\n"
     ]
    }
   ],
   "source": [
    "path = os.getcwd()\n",
    "print('Path before creating wikipedia:',path)\n",
    "\n"
   ]
  },
  {
   "cell_type": "code",
   "execution_count": 25,
   "metadata": {},
   "outputs": [],
   "source": [
    "#creating folder\n",
    "os.mkdir('/Users/EstebanCardona/Documents/IronHack/datamex0320/module-1/lab-parallelization/your-code/wikipedia')"
   ]
  },
  {
   "cell_type": "code",
   "execution_count": 26,
   "metadata": {},
   "outputs": [],
   "source": [
    "#changing folder\n",
    "os.chdir('/Users/EstebanCardona/Documents/IronHack/datamex0320/module-1/lab-parallelization/your-code/wikipedia')"
   ]
  },
  {
   "cell_type": "code",
   "execution_count": 27,
   "metadata": {},
   "outputs": [
    {
     "name": "stdout",
     "output_type": "stream",
     "text": [
      "Path after creating wikipedia: /Users/EstebanCardona/Documents/IronHack/datamex0320/module-1/lab-parallelization/your-code/wikipedia\n"
     ]
    }
   ],
   "source": [
    "path2 = os.getcwd() \n",
    "print('Path after creating wikipedia:', path2)"
   ]
  },
  {
   "cell_type": "markdown",
   "metadata": {},
   "source": [
    "## Step 5: Write a function called index_page that accepts a link and does the following.\n",
    "\n",
    "- Tries to request the content of the page referenced by that link.\n",
    "- Slugifies the filename using the `slugify` function from the [python-slugify](https://pypi.org/project/python-slugify/) library and adds a .html file extension.\n",
    "    - If you don't already have the python-slugify library installed, you can pip install it as follows: `$ pip install python-slugify`.\n",
    "    - To import the slugify function, you would do the following: `from slugify import slugify`.\n",
    "    - You can then slugify a link as follows `slugify(link)`.\n",
    "- Creates a file in the wikipedia folder using the slugified filename and writes the contents of the page to the file.\n",
    "- If an exception occurs during the process above, just `pass`."
   ]
  },
  {
   "cell_type": "code",
   "execution_count": 34,
   "metadata": {},
   "outputs": [],
   "source": [
    "from slugify import slugify"
   ]
  },
  {
   "cell_type": "code",
   "execution_count": 30,
   "metadata": {},
   "outputs": [],
   "source": [
    "def index_page(link):\n",
    "    try:\n",
    "        resp = req.get(link).content\n",
    "        soup = bs(resp,'lxml')\n",
    "        nombre = str(link)+\".html\"\n",
    "        nombre = nombre.replace(\"/\",\"-\")\n",
    "        with open(nombre,\"w+\") as f:\n",
    "            s = f.write(str(soup))\n",
    "        return s\n",
    "    except: pass"
   ]
  },
  {
   "cell_type": "code",
   "execution_count": 101,
   "metadata": {},
   "outputs": [
    {
     "data": {
      "text/plain": [
       "66960"
      ]
     },
     "execution_count": 101,
     "metadata": {},
     "output_type": "execute_result"
    }
   ],
   "source": [
    "index_page('http://wikipedia.org')"
   ]
  },
  {
   "cell_type": "markdown",
   "metadata": {},
   "source": [
    "## Step 6: Sequentially loop through the list of links, running the index_page function each time.\n",
    "\n",
    "Remember to include `%%time` at the beginning of the cell so that it measures the time it takes for the cell to run."
   ]
  },
  {
   "cell_type": "code",
   "execution_count": 103,
   "metadata": {},
   "outputs": [
    {
     "name": "stdout",
     "output_type": "stream",
     "text": [
      "Collecting tqdm\n",
      "  Downloading tqdm-4.45.0-py2.py3-none-any.whl (60 kB)\n",
      "\u001b[K     |████████████████████████████████| 60 kB 489 kB/s eta 0:00:01\n",
      "\u001b[?25hInstalling collected packages: tqdm\n",
      "Successfully installed tqdm-4.45.0\n"
     ]
    }
   ],
   "source": [
    "!pip3 install tqdm\n"
   ]
  },
  {
   "cell_type": "code",
   "execution_count": 106,
   "metadata": {},
   "outputs": [],
   "source": [
    "import time\n",
    "from tqdm import tqdm\n",
    "from tqdm import trange"
   ]
  },
  {
   "cell_type": "code",
   "execution_count": 107,
   "metadata": {},
   "outputs": [
    {
     "name": "stderr",
     "output_type": "stream",
     "text": [
      "100%|██████████| 305/305 [03:09<00:00,  1.61it/s]"
     ]
    },
    {
     "name": "stdout",
     "output_type": "stream",
     "text": [
      "CPU times: user 49.7 s, sys: 2.52 s, total: 52.2 s\n",
      "Wall time: 3min 9s\n"
     ]
    },
    {
     "name": "stderr",
     "output_type": "stream",
     "text": [
      "\n"
     ]
    }
   ],
   "source": [
    "%%time\n",
    "for i in trange(len(final)):\n",
    "    index_page(final[i])"
   ]
  },
  {
   "cell_type": "markdown",
   "metadata": {},
   "source": [
    "## Step 7: Perform the page indexing in parallel and note the difference in performance.\n",
    "\n",
    "Remember to include `%%time` at the beginning of the cell so that it measures the time it takes for the cell to run."
   ]
  },
  {
   "cell_type": "code",
   "execution_count": 27,
   "metadata": {},
   "outputs": [],
   "source": [
    "import multiprocessing as mp"
   ]
  },
  {
   "cell_type": "code",
   "execution_count": 28,
   "metadata": {},
   "outputs": [
    {
     "data": {
      "text/plain": [
       "4"
      ]
     },
     "execution_count": 28,
     "metadata": {},
     "output_type": "execute_result"
    }
   ],
   "source": [
    "mp.cpu_count()"
   ]
  },
  {
   "cell_type": "code",
   "execution_count": 31,
   "metadata": {},
   "outputs": [
    {
     "ename": "KeyboardInterrupt",
     "evalue": "",
     "output_type": "error",
     "traceback": [
      "\u001b[0;31m---------------------------------------------------------------------------\u001b[0m",
      "\u001b[0;31mKeyboardInterrupt\u001b[0m                         Traceback (most recent call last)",
      "\u001b[0;32m<timed exec>\u001b[0m in \u001b[0;36m<module>\u001b[0;34m\u001b[0m\n",
      "\u001b[0;32m/Library/Frameworks/Python.framework/Versions/3.8/lib/python3.8/multiprocessing/pool.py\u001b[0m in \u001b[0;36mmap\u001b[0;34m(self, func, iterable, chunksize)\u001b[0m\n\u001b[1;32m    362\u001b[0m         \u001b[0;32min\u001b[0m \u001b[0ma\u001b[0m \u001b[0mlist\u001b[0m \u001b[0mthat\u001b[0m \u001b[0;32mis\u001b[0m \u001b[0mreturned\u001b[0m\u001b[0;34m.\u001b[0m\u001b[0;34m\u001b[0m\u001b[0;34m\u001b[0m\u001b[0m\n\u001b[1;32m    363\u001b[0m         '''\n\u001b[0;32m--> 364\u001b[0;31m         \u001b[0;32mreturn\u001b[0m \u001b[0mself\u001b[0m\u001b[0;34m.\u001b[0m\u001b[0m_map_async\u001b[0m\u001b[0;34m(\u001b[0m\u001b[0mfunc\u001b[0m\u001b[0;34m,\u001b[0m \u001b[0miterable\u001b[0m\u001b[0;34m,\u001b[0m \u001b[0mmapstar\u001b[0m\u001b[0;34m,\u001b[0m \u001b[0mchunksize\u001b[0m\u001b[0;34m)\u001b[0m\u001b[0;34m.\u001b[0m\u001b[0mget\u001b[0m\u001b[0;34m(\u001b[0m\u001b[0;34m)\u001b[0m\u001b[0;34m\u001b[0m\u001b[0;34m\u001b[0m\u001b[0m\n\u001b[0m\u001b[1;32m    365\u001b[0m \u001b[0;34m\u001b[0m\u001b[0m\n\u001b[1;32m    366\u001b[0m     \u001b[0;32mdef\u001b[0m \u001b[0mstarmap\u001b[0m\u001b[0;34m(\u001b[0m\u001b[0mself\u001b[0m\u001b[0;34m,\u001b[0m \u001b[0mfunc\u001b[0m\u001b[0;34m,\u001b[0m \u001b[0miterable\u001b[0m\u001b[0;34m,\u001b[0m \u001b[0mchunksize\u001b[0m\u001b[0;34m=\u001b[0m\u001b[0;32mNone\u001b[0m\u001b[0;34m)\u001b[0m\u001b[0;34m:\u001b[0m\u001b[0;34m\u001b[0m\u001b[0;34m\u001b[0m\u001b[0m\n",
      "\u001b[0;32m/Library/Frameworks/Python.framework/Versions/3.8/lib/python3.8/multiprocessing/pool.py\u001b[0m in \u001b[0;36mget\u001b[0;34m(self, timeout)\u001b[0m\n\u001b[1;32m    760\u001b[0m \u001b[0;34m\u001b[0m\u001b[0m\n\u001b[1;32m    761\u001b[0m     \u001b[0;32mdef\u001b[0m \u001b[0mget\u001b[0m\u001b[0;34m(\u001b[0m\u001b[0mself\u001b[0m\u001b[0;34m,\u001b[0m \u001b[0mtimeout\u001b[0m\u001b[0;34m=\u001b[0m\u001b[0;32mNone\u001b[0m\u001b[0;34m)\u001b[0m\u001b[0;34m:\u001b[0m\u001b[0;34m\u001b[0m\u001b[0;34m\u001b[0m\u001b[0m\n\u001b[0;32m--> 762\u001b[0;31m         \u001b[0mself\u001b[0m\u001b[0;34m.\u001b[0m\u001b[0mwait\u001b[0m\u001b[0;34m(\u001b[0m\u001b[0mtimeout\u001b[0m\u001b[0;34m)\u001b[0m\u001b[0;34m\u001b[0m\u001b[0;34m\u001b[0m\u001b[0m\n\u001b[0m\u001b[1;32m    763\u001b[0m         \u001b[0;32mif\u001b[0m \u001b[0;32mnot\u001b[0m \u001b[0mself\u001b[0m\u001b[0;34m.\u001b[0m\u001b[0mready\u001b[0m\u001b[0;34m(\u001b[0m\u001b[0;34m)\u001b[0m\u001b[0;34m:\u001b[0m\u001b[0;34m\u001b[0m\u001b[0;34m\u001b[0m\u001b[0m\n\u001b[1;32m    764\u001b[0m             \u001b[0;32mraise\u001b[0m \u001b[0mTimeoutError\u001b[0m\u001b[0;34m\u001b[0m\u001b[0;34m\u001b[0m\u001b[0m\n",
      "\u001b[0;32m/Library/Frameworks/Python.framework/Versions/3.8/lib/python3.8/multiprocessing/pool.py\u001b[0m in \u001b[0;36mwait\u001b[0;34m(self, timeout)\u001b[0m\n\u001b[1;32m    757\u001b[0m \u001b[0;34m\u001b[0m\u001b[0m\n\u001b[1;32m    758\u001b[0m     \u001b[0;32mdef\u001b[0m \u001b[0mwait\u001b[0m\u001b[0;34m(\u001b[0m\u001b[0mself\u001b[0m\u001b[0;34m,\u001b[0m \u001b[0mtimeout\u001b[0m\u001b[0;34m=\u001b[0m\u001b[0;32mNone\u001b[0m\u001b[0;34m)\u001b[0m\u001b[0;34m:\u001b[0m\u001b[0;34m\u001b[0m\u001b[0;34m\u001b[0m\u001b[0m\n\u001b[0;32m--> 759\u001b[0;31m         \u001b[0mself\u001b[0m\u001b[0;34m.\u001b[0m\u001b[0m_event\u001b[0m\u001b[0;34m.\u001b[0m\u001b[0mwait\u001b[0m\u001b[0;34m(\u001b[0m\u001b[0mtimeout\u001b[0m\u001b[0;34m)\u001b[0m\u001b[0;34m\u001b[0m\u001b[0;34m\u001b[0m\u001b[0m\n\u001b[0m\u001b[1;32m    760\u001b[0m \u001b[0;34m\u001b[0m\u001b[0m\n\u001b[1;32m    761\u001b[0m     \u001b[0;32mdef\u001b[0m \u001b[0mget\u001b[0m\u001b[0;34m(\u001b[0m\u001b[0mself\u001b[0m\u001b[0;34m,\u001b[0m \u001b[0mtimeout\u001b[0m\u001b[0;34m=\u001b[0m\u001b[0;32mNone\u001b[0m\u001b[0;34m)\u001b[0m\u001b[0;34m:\u001b[0m\u001b[0;34m\u001b[0m\u001b[0;34m\u001b[0m\u001b[0m\n",
      "\u001b[0;32m/Library/Frameworks/Python.framework/Versions/3.8/lib/python3.8/threading.py\u001b[0m in \u001b[0;36mwait\u001b[0;34m(self, timeout)\u001b[0m\n\u001b[1;32m    556\u001b[0m             \u001b[0msignaled\u001b[0m \u001b[0;34m=\u001b[0m \u001b[0mself\u001b[0m\u001b[0;34m.\u001b[0m\u001b[0m_flag\u001b[0m\u001b[0;34m\u001b[0m\u001b[0;34m\u001b[0m\u001b[0m\n\u001b[1;32m    557\u001b[0m             \u001b[0;32mif\u001b[0m \u001b[0;32mnot\u001b[0m \u001b[0msignaled\u001b[0m\u001b[0;34m:\u001b[0m\u001b[0;34m\u001b[0m\u001b[0;34m\u001b[0m\u001b[0m\n\u001b[0;32m--> 558\u001b[0;31m                 \u001b[0msignaled\u001b[0m \u001b[0;34m=\u001b[0m \u001b[0mself\u001b[0m\u001b[0;34m.\u001b[0m\u001b[0m_cond\u001b[0m\u001b[0;34m.\u001b[0m\u001b[0mwait\u001b[0m\u001b[0;34m(\u001b[0m\u001b[0mtimeout\u001b[0m\u001b[0;34m)\u001b[0m\u001b[0;34m\u001b[0m\u001b[0;34m\u001b[0m\u001b[0m\n\u001b[0m\u001b[1;32m    559\u001b[0m             \u001b[0;32mreturn\u001b[0m \u001b[0msignaled\u001b[0m\u001b[0;34m\u001b[0m\u001b[0;34m\u001b[0m\u001b[0m\n\u001b[1;32m    560\u001b[0m \u001b[0;34m\u001b[0m\u001b[0m\n",
      "\u001b[0;32m/Library/Frameworks/Python.framework/Versions/3.8/lib/python3.8/threading.py\u001b[0m in \u001b[0;36mwait\u001b[0;34m(self, timeout)\u001b[0m\n\u001b[1;32m    300\u001b[0m         \u001b[0;32mtry\u001b[0m\u001b[0;34m:\u001b[0m    \u001b[0;31m# restore state no matter what (e.g., KeyboardInterrupt)\u001b[0m\u001b[0;34m\u001b[0m\u001b[0;34m\u001b[0m\u001b[0m\n\u001b[1;32m    301\u001b[0m             \u001b[0;32mif\u001b[0m \u001b[0mtimeout\u001b[0m \u001b[0;32mis\u001b[0m \u001b[0;32mNone\u001b[0m\u001b[0;34m:\u001b[0m\u001b[0;34m\u001b[0m\u001b[0;34m\u001b[0m\u001b[0m\n\u001b[0;32m--> 302\u001b[0;31m                 \u001b[0mwaiter\u001b[0m\u001b[0;34m.\u001b[0m\u001b[0macquire\u001b[0m\u001b[0;34m(\u001b[0m\u001b[0;34m)\u001b[0m\u001b[0;34m\u001b[0m\u001b[0;34m\u001b[0m\u001b[0m\n\u001b[0m\u001b[1;32m    303\u001b[0m                 \u001b[0mgotit\u001b[0m \u001b[0;34m=\u001b[0m \u001b[0;32mTrue\u001b[0m\u001b[0;34m\u001b[0m\u001b[0;34m\u001b[0m\u001b[0m\n\u001b[1;32m    304\u001b[0m             \u001b[0;32melse\u001b[0m\u001b[0;34m:\u001b[0m\u001b[0;34m\u001b[0m\u001b[0;34m\u001b[0m\u001b[0m\n",
      "\u001b[0;31mKeyboardInterrupt\u001b[0m: "
     ]
    }
   ],
   "source": [
    "%%time\n",
    "pool=mp.Pool()  # todos los cores\n",
    "pool.map(index_page, final)\n",
    "pool.close()"
   ]
  },
  {
   "cell_type": "code",
   "execution_count": null,
   "metadata": {},
   "outputs": [],
   "source": []
  }
 ],
 "metadata": {
  "kernelspec": {
   "display_name": "Python 3",
   "language": "python",
   "name": "python3"
  },
  "language_info": {
   "codemirror_mode": {
    "name": "ipython",
    "version": 3
   },
   "file_extension": ".py",
   "mimetype": "text/x-python",
   "name": "python",
   "nbconvert_exporter": "python",
   "pygments_lexer": "ipython3",
   "version": "3.8.0"
  }
 },
 "nbformat": 4,
 "nbformat_minor": 2
}
